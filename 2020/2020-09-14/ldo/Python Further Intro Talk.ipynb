{
 "cells": [
  {
   "cell_type": "markdown",
   "metadata": {},
   "source": [
    "# Python: A Further Introduction #\n",
    "\n",
    "Some further language topics of interest, following on from my basic Python introduction.\n",
    "\n",
    "This will be using Python 3.8, which is the latest version. You may come across a lot of code requiring Python 2.7, the last of the Python 2 series. Some deliberate backward incompatibilities were introduced in Python 3 to fix problems that could not be handled in a backward-compatible fashion.\n",
    "\n",
    "Previously covered in part 1:\n",
    "* Numbers\n",
    "* Strings\n",
    "* Lists, mutability\n",
    "* Dictionaries\n",
    "* Control constructs: `for`-loop, `if`-statement\n",
    "* Function definitions\n",
    "* Sets\n",
    "* Classes (introductory)\n",
    "\n",
    "And now, onward ..."
   ]
  },
  {
   "cell_type": "markdown",
   "metadata": {},
   "source": [
    "## There Are No Declarations In Python ##\n",
    "\n",
    "Before we go much further, something needs to be made clear about Python syntax: **every statement is an executable (imperative) statement**. This applies to class and function definitions, which you can consider to be special kinds of assignment statement. Classes and functions are first-class objects in Python, and like all objects, they are created at run-time, not compile-time. What is generated at compile-time is only the code, but class and function objects consist not just of code, but also data. This kind of thing is valid in Python:\n",
    "\n",
    "    if «cond» :\n",
    "\n",
    "        def my_func(...) :\n",
    "            ... definition 1 for my_func ...\n",
    "        #end my_func\n",
    "\n",
    "    else :\n",
    "\n",
    "        def my_func(...) :\n",
    "            ... definition 2 for my_func ...\n",
    "        #end my_func\n",
    "\n",
    "    #end if\n",
    "\n",
    "    ... the definition of my_func in effect here depends on «cond» ...\n",
    "\n",
    "and also this:\n",
    "\n",
    "    def my_func(...) :\n",
    "        ... definition 1 for my_func ...\n",
    "    #end my_func\n",
    "\n",
    "    ... definition 1 for my_func in effect here ...\n",
    "\n",
    "    def my_func(...) :\n",
    "        ... definition 2 for my_func ...\n",
    "    #end my_func\n",
    "\n",
    "    ... definition 2 for my_func in effect here ...\n",
    "\n",
    "or even this:\n",
    "\n",
    "    def my_func(...) :\n",
    "        ... definition 1 for my_func ...\n",
    "    #end my_func\n",
    "\n",
    "    ... definition 1 for my_func in effect here ...\n",
    "\n",
    "    my_func = 2 + 2\n",
    "\n",
    "    ... my_func no longer references a function here ...\n",
    "\n",
    "and the same is true of class definitions."
   ]
  },
  {
   "cell_type": "markdown",
   "metadata": {},
   "source": [
    "## Reflection/RTTI ##\n",
    "\n",
    "*Reflection* is a fancy term for being able to examine and manipulate type information at run-time. Or a more limited form of this might be called *Run-Time Type Information* (RTTI). Some languages have a complex system for doing this, usually with only partial functionality. Python, on the other hand, being a fully dynamic language, can offer full access, even being able to do things like create new types at run time.\n",
    "\n",
    "The `issubclass` built-in function lets you query subclass/superclass relationships. This works among the built-in types as well."
   ]
  },
  {
   "cell_type": "code",
   "execution_count": null,
   "metadata": {},
   "outputs": [],
   "source": [
    "issubclass(int, float)"
   ]
  },
  {
   "cell_type": "code",
   "execution_count": null,
   "metadata": {},
   "outputs": [],
   "source": [
    "issubclass(bool, int)"
   ]
  },
  {
   "cell_type": "markdown",
   "metadata": {},
   "source": [
    "To determine the type of an object, you can use the `type` built-in function, as shown in previous examples. Types are objects too, and in particular you can compare them for equality:"
   ]
  },
  {
   "cell_type": "code",
   "execution_count": null,
   "metadata": {},
   "outputs": [],
   "source": [
    "type(3) == int"
   ]
  },
  {
   "cell_type": "markdown",
   "metadata": {},
   "source": [
    "But if you need to check that a value is of an acceptable type, it is better to use the `isinstance` function, since this will also accept values of subclasses (yes, even the built-in types can be subclassed):"
   ]
  },
  {
   "cell_type": "code",
   "execution_count": null,
   "metadata": {},
   "outputs": [],
   "source": [
    "isinstance(3, int)"
   ]
  },
  {
   "cell_type": "code",
   "execution_count": null,
   "metadata": {},
   "outputs": [],
   "source": [
    "isinstance(False, int)"
   ]
  },
  {
   "cell_type": "markdown",
   "metadata": {},
   "source": [
    "You can check that a value is of (or a subclass of) any of a list or tuple of types:"
   ]
  },
  {
   "cell_type": "code",
   "execution_count": null,
   "metadata": {},
   "outputs": [],
   "source": [
    "isinstance(3, (int, float)), isinstance(3.0, (int, float))"
   ]
  },
  {
   "cell_type": "markdown",
   "metadata": {},
   "source": [
    "If you want to check that a value is of a numeric type, the `numbers` module provides *abstract base classes* to make this more convenient:"
   ]
  },
  {
   "cell_type": "code",
   "execution_count": null,
   "metadata": {},
   "outputs": [],
   "source": [
    "import numbers\n",
    "\n",
    "issubclass(int, numbers.Real), issubclass(float, numbers.Real)"
   ]
  },
  {
   "cell_type": "code",
   "execution_count": null,
   "metadata": {},
   "outputs": [],
   "source": [
    "isinstance(3, float)"
   ]
  },
  {
   "cell_type": "code",
   "execution_count": null,
   "metadata": {
    "scrolled": true
   },
   "outputs": [],
   "source": [
    "isinstance(3, numbers.Real)"
   ]
  },
  {
   "cell_type": "markdown",
   "metadata": {},
   "source": [
    "Another set of built-in functions lets you dynamically manipulate attributes: `dir()`, `hasattr()`, `getattr()`, `setattr()`, `delattr()`."
   ]
  },
  {
   "cell_type": "markdown",
   "metadata": {},
   "source": [
    "## More Looping Fun ##\n",
    "\n",
    "Returning to our previous stock-control example, suppose we would like the stock printout to include an item number on each line. One way to do this is as follows:"
   ]
  },
  {
   "cell_type": "code",
   "execution_count": null,
   "metadata": {},
   "outputs": [],
   "source": [
    "stock = {\"apples\" : 5, \"tangeloes\" : 3, \"pears\" : 3}"
   ]
  },
  {
   "cell_type": "code",
   "execution_count": null,
   "metadata": {},
   "outputs": [],
   "source": [
    "def show_itemized_stock() :\n",
    "    i = 0\n",
    "    for k in sorted(stock) :\n",
    "        i += 1\n",
    "        print(\"{}. {:.<12}{}\".format(i, k, stock[k]))\n",
    "    #end for\n",
    "#end show_itemized_stock\n",
    "show_itemized_stock()"
   ]
  },
  {
   "cell_type": "markdown",
   "metadata": {},
   "source": [
    "However, Python offers a built-in function called `enumerate`, which makes this a little easier:"
   ]
  },
  {
   "cell_type": "code",
   "execution_count": null,
   "metadata": {},
   "outputs": [],
   "source": [
    "def show_itemized_stock() :\n",
    "    for i, k in enumerate(sorted(stock)) :\n",
    "        print(\"{}. {:.<12}{}\".format(i, k, stock[k]))\n",
    "    #end for\n",
    "#end show_itemized_stock\n",
    "show_itemized_stock()"
   ]
  },
  {
   "cell_type": "markdown",
   "metadata": {},
   "source": [
    "Note that, in common with Python conventions elsewhere, `enumerate()` defaults to numbering things from zero. But it can an optional second arg to indicate the starting point for numbering:"
   ]
  },
  {
   "cell_type": "code",
   "execution_count": null,
   "metadata": {},
   "outputs": [],
   "source": [
    "def show_itemized_stock() :\n",
    "    for i, k in enumerate(sorted(stock), 1) :\n",
    "        print(\"{}. {:.<12}{}\".format(i, k, stock[k]))\n",
    "    #end for\n",
    "#end show_itemized_stock\n",
    "show_itemized_stock()"
   ]
  },
  {
   "cell_type": "markdown",
   "metadata": {},
   "source": [
    "## Iterators & Generators ##\n",
    "\n",
    "In Python, an _iterable_ is any object type from which you can construct an _iterator_ , using the `iter()` built-in function. An _iterator_ is something that returns successive elements of some sequence, each time you pass it to the `next()` built-in function. For example, lists and tuples are iterables:"
   ]
  },
  {
   "cell_type": "code",
   "execution_count": null,
   "metadata": {},
   "outputs": [],
   "source": [
    "l = [1, 2, 3]\n",
    "i = iter(l)"
   ]
  },
  {
   "cell_type": "code",
   "execution_count": null,
   "metadata": {},
   "outputs": [],
   "source": [
    "print(next(i))"
   ]
  },
  {
   "cell_type": "markdown",
   "metadata": {},
   "source": [
    "Note how the end of the sequence is reported by raising the standard `StopIteration` exception. An alternative is to pass some special sentinel value as the second argument of `next()`, which will be returned once the iterator runs out of things to return:"
   ]
  },
  {
   "cell_type": "code",
   "execution_count": null,
   "metadata": {},
   "outputs": [],
   "source": [
    "print(next(i, None))"
   ]
  },
  {
   "cell_type": "markdown",
   "metadata": {},
   "source": [
    "An iterator is also an iterable; that means that passing it to the `iter()` function returns the same thing:"
   ]
  },
  {
   "cell_type": "code",
   "execution_count": null,
   "metadata": {},
   "outputs": [],
   "source": [
    "i is iter(i)"
   ]
  },
  {
   "cell_type": "markdown",
   "metadata": {},
   "source": [
    "When you write a `for`-statement, it handles all of this machinery behind the scenes automatically for you: calling `iter()` on the loop expression that you pass, doing `next()` calls each time round the loop and assigning the result to the index variable, and catching `StopIteration` to exit the loop.\n",
    "\n",
    "You can also pass iterators to the `list()` and `tuple()` constructors; they will collect all the successive values returned from the iterator, and build them into a list or tuple respectively.\n",
    "\n",
    "One way you can construct your own iterators is by writing a _generator_ function. This is a function that, instead of doing a `return`, contains a `yield` construct instead."
   ]
  },
  {
   "cell_type": "code",
   "execution_count": null,
   "metadata": {},
   "outputs": [],
   "source": [
    "def my_gen(a) :\n",
    "    print(\"started execution\")\n",
    "    yield a + 1\n",
    "    print(\"continuing execution\")\n",
    "    yield a + 2\n",
    "    print(\"finished execution\")\n",
    "#end my_gen"
   ]
  },
  {
   "cell_type": "markdown",
   "metadata": {},
   "source": [
    "Calling the function does not actually cause it to execute (yet); it returns a generator object that you can pass to `next()`, as with any iterator."
   ]
  },
  {
   "cell_type": "code",
   "execution_count": null,
   "metadata": {},
   "outputs": [],
   "source": [
    "f = my_gen(3)\n",
    "print(f)"
   ]
  },
  {
   "cell_type": "markdown",
   "metadata": {},
   "source": [
    "The first call to `next()` actually starts the function executing, until it gets to a `yield`, where its execution is suspended and the `yield`ed value is returned."
   ]
  },
  {
   "cell_type": "code",
   "execution_count": null,
   "metadata": {},
   "outputs": [],
   "source": [
    "print(next(f))"
   ]
  },
  {
   "cell_type": "markdown",
   "metadata": {},
   "source": [
    "The function execution can be resumed from this point by another call to `next()`:"
   ]
  },
  {
   "cell_type": "code",
   "execution_count": null,
   "metadata": {},
   "outputs": [],
   "source": [
    "print(next(f))"
   ]
  },
  {
   "cell_type": "markdown",
   "metadata": {},
   "source": [
    "And then, when the function actually returns, a `StopIteration` exception is automatically raised:"
   ]
  },
  {
   "cell_type": "code",
   "execution_count": null,
   "metadata": {},
   "outputs": [],
   "source": [
    "print(next(f))"
   ]
  },
  {
   "cell_type": "markdown",
   "metadata": {},
   "source": [
    "### Generator Example: Permutations ###\n",
    "\n",
    "Consider the problem of generating all permutations of a given list, e.g. the list `[1, 2, 3]` has $3! = 6$ permutations:\n",
    "\n",
    "    [1, 2, 3]\n",
    "    [1, 3, 2]\n",
    "    [2, 3, 1]\n",
    "    [2, 1, 3]\n",
    "    [3, 1, 2]\n",
    "    [3, 2, 1]\n",
    "\n",
    "How do we generate these? The general algorithm can be expressed *recursively* as follows:\n",
    "\n",
    "* If the list is empty, then there is only one permutation: the empty list.\n",
    "* Otherwise, pick each element of the list in turn. For each such selection:\n",
    "  * for each permutation of the remaining items in the list, put the previously-selected element on the front, and return this as a permutation.\n",
    "\n",
    "This can be expressed in Python as follows:"
   ]
  },
  {
   "cell_type": "code",
   "execution_count": null,
   "metadata": {},
   "outputs": [],
   "source": [
    "def permute(l) :\n",
    "    if len(l) == 0 :\n",
    "        yield []\n",
    "    else :\n",
    "        for i, elt in enumerate(l) :\n",
    "            for rest in permute(l[:i] + l[i + 1:]) :\n",
    "                yield [elt] + rest\n",
    "            #end for\n",
    "        #end for\n",
    "    #end if\n",
    "#end permute"
   ]
  },
  {
   "cell_type": "code",
   "execution_count": null,
   "metadata": {},
   "outputs": [],
   "source": [
    "p = permute([\"a\", \"b\"])"
   ]
  },
  {
   "cell_type": "code",
   "execution_count": null,
   "metadata": {},
   "outputs": [],
   "source": [
    "next(p)"
   ]
  },
  {
   "cell_type": "code",
   "execution_count": null,
   "metadata": {},
   "outputs": [],
   "source": [
    "next(p)"
   ]
  },
  {
   "cell_type": "code",
   "execution_count": null,
   "metadata": {},
   "outputs": [],
   "source": [
    "next(p)"
   ]
  },
  {
   "cell_type": "markdown",
   "metadata": {},
   "source": [
    "Construct a list of the values, or use our generator in a `for`-loop:"
   ]
  },
  {
   "cell_type": "code",
   "execution_count": null,
   "metadata": {},
   "outputs": [],
   "source": [
    "list(permute([1, 2, 3]))"
   ]
  },
  {
   "cell_type": "code",
   "execution_count": null,
   "metadata": {},
   "outputs": [],
   "source": [
    "for c in permute([1, 2, 3]) :\n",
    "    print(c)\n",
    "#end for"
   ]
  },
  {
   "cell_type": "markdown",
   "metadata": {},
   "source": [
    "What’s the advantage of using a generator? It can be handy to avoid storing the whole of a large list in memory at once, where you only need to process one element at a time. For example, the function might do a database query, and `yield` each matching record, one at a time, and there might be a million matching records."
   ]
  },
  {
   "cell_type": "markdown",
   "metadata": {},
   "source": [
    "## Comprehensions ##\n",
    "\n",
    "Python allows you to write expressions like\n",
    "\n",
    "    «expression involving «var»» for «var» in «iterable»\n",
    "\n",
    "Such an expression is called a *comprehension*, and its value is an iterator. Following are some examples of this in action."
   ]
  },
  {
   "cell_type": "code",
   "execution_count": null,
   "metadata": {},
   "outputs": [],
   "source": [
    "sample_list_1 = [1, 2, 3]\n",
    "sample_list_2 = [1, \"two\", 3]"
   ]
  },
  {
   "cell_type": "code",
   "execution_count": null,
   "metadata": {},
   "outputs": [],
   "source": [
    "i1 = (isinstance(i, int) for i in sample_list_2)"
   ]
  },
  {
   "cell_type": "code",
   "execution_count": null,
   "metadata": {},
   "outputs": [],
   "source": [
    "type(i1)"
   ]
  },
  {
   "cell_type": "code",
   "execution_count": null,
   "metadata": {},
   "outputs": [],
   "source": [
    "list(i1)"
   ]
  },
  {
   "cell_type": "code",
   "execution_count": null,
   "metadata": {},
   "outputs": [],
   "source": [
    "i1 = [isinstance(i, int) for i in sample_list_2]\n",
    "i2 = list(isinstance(i, int) for i in sample_list_2)\n",
    "i3 = (isinstance(i, int) for i in sample_list_2)\n",
    "i3 = [i3]\n",
    "i4 = (isinstance(i, int) for i in sample_list_2)\n",
    "i4 = list(i4)\n",
    "print(i1, i2, i3, i4)"
   ]
  },
  {
   "cell_type": "markdown",
   "metadata": {},
   "source": [
    "## `any` and `all` ##\n",
    "\n",
    "Supposing you want to check that all elements of a list are of a particular type. Rather than writing a loop statement and collecting the results, you can directly operate on a list comprehension."
   ]
  },
  {
   "cell_type": "code",
   "execution_count": null,
   "metadata": {},
   "outputs": [],
   "source": [
    "all(isinstance(i, int) for i in sample_list_1), \\\n",
    "all(isinstance(i, int) for i in sample_list_2)"
   ]
  },
  {
   "cell_type": "markdown",
   "metadata": {},
   "source": [
    "If you wanted the opposite condition, the obvious way would be to put a `not` on the front:\n",
    "\n",
    "    not all(isinstance(i, int) for i in sample_list_1), \\\n",
    "    not all(isinstance(i, int) for i in sample_list_2)\n",
    "\n",
    "Another way to express it is using the complementary function to `all`, which is `any`:"
   ]
  },
  {
   "cell_type": "code",
   "execution_count": null,
   "metadata": {},
   "outputs": [],
   "source": [
    "any(not isinstance(i, int) for i in sample_list_1), \\\n",
    "any(not isinstance(i, int) for i in sample_list_2)"
   ]
  },
  {
   "cell_type": "markdown",
   "metadata": {},
   "source": [
    "In this case, it doesn’t look like one is obviously better than the other. It might be different in other cases."
   ]
  },
  {
   "cell_type": "markdown",
   "metadata": {},
   "source": [
    "## Lambdas and `filter()` ##\n",
    "\n",
    "Supposing you want to extract elements from a list that match some criterion, say you want just the strings from this list:"
   ]
  },
  {
   "cell_type": "code",
   "execution_count": null,
   "metadata": {},
   "outputs": [],
   "source": [
    "items = [2, \"green\", 3, \"two\"]"
   ]
  },
  {
   "cell_type": "markdown",
   "metadata": {},
   "source": [
    "Here’s a long-winded way to do it:"
   ]
  },
  {
   "cell_type": "code",
   "execution_count": null,
   "metadata": {},
   "outputs": [],
   "source": [
    "just_the_strings = []\n",
    "for item in items :\n",
    "    if isinstance(item, str) :\n",
    "        just_the_strings.append(item)\n",
    "    #end if\n",
    "#end for\n",
    "just_the_strings"
   ]
  },
  {
   "cell_type": "markdown",
   "metadata": {},
   "source": [
    "There is a built-in function called `filter()`, which takes a _predicate_ function and a sequence or iterable as arguments and returns an iterator over the items for which the predicate returns true. We could use it like this:"
   ]
  },
  {
   "cell_type": "code",
   "execution_count": null,
   "metadata": {},
   "outputs": [],
   "source": [
    "def is_string(x) :\n",
    "    return isinstance(x, str)\n",
    "#end is_string\n",
    "\n",
    "just_the_strings = filter(is_string, items)\n",
    "list(just_the_strings)"
   ]
  },
  {
   "cell_type": "markdown",
   "metadata": {},
   "source": [
    "Note that coercing the iterator to a `list` forces it to return all its items. But that `is_string` function is probably a “throwaway” function, defined only to be used in this one place. And its body is just `return`ing the value of a single expression. So there’s a way to shorten things even more:"
   ]
  },
  {
   "cell_type": "code",
   "execution_count": null,
   "metadata": {},
   "outputs": [],
   "source": [
    "just_the_strings = filter(lambda x : isinstance(x, str), items)\n",
    "list(just_the_strings)"
   ]
  },
  {
   "cell_type": "markdown",
   "metadata": {},
   "source": [
    "In Python, a `lambda` is just a way of defining a function whose body consists of nothing more than the evaluation of a single expression, that can be embedded directly within a containing expression. It’s a convenience, nothing more; it is handy in many places, which is why Python provides it as an additional construct to normal function definitions. You could have written the previous definition of `is_string` like this:"
   ]
  },
  {
   "cell_type": "code",
   "execution_count": null,
   "metadata": {},
   "outputs": [],
   "source": [
    "is_string = lambda x : isinstance(x, str)"
   ]
  },
  {
   "cell_type": "markdown",
   "metadata": {},
   "source": [
    "but the regular `def` form is usually preferred in this instance, because it gives the function object a name, and also allows the inclusion of a docstring."
   ]
  },
  {
   "cell_type": "markdown",
   "metadata": {},
   "source": [
    "## Decorators ##\n",
    "\n",
    "A *decorator* is a line beginning with “`@`” followed by an expression. These can be used in two places. Prior to a function definition, e.g.\n",
    "\n",
    "    @«something»\n",
    "    def func(...) :\n",
    "        ...\n",
    "    #end func\n",
    "\n",
    "which is exactly equivalent to\n",
    "\n",
    "    def func(...) :\n",
    "        ...\n",
    "    #end func\n",
    "    func = «something»(func)\n",
    "\n",
    "and prior to a class definition, e.g.\n",
    "\n",
    "    @«something»\n",
    "    class MyClass :\n",
    "        ...\n",
    "    #end MyClass\n",
    "\n",
    "which is a shortcut for\n",
    "\n",
    "    class MyClass :\n",
    "        ...\n",
    "    #end MyClass\n",
    "    MyClass = «something»(MyClass)\n",
    "\n",
    "What is the point of these? Let us start by considering some built-in functions that are commonly used as decorators for methods inside classes. In other languages (like Java or C++), it is possible to declare methods “static”. That means the method can be invoked via the class name itself, rather than via an instance of the class. Such methods still have access to the innards of the class, even though they have no “`this`” instance that they can reference.\n",
    "\n",
    "In Python, you can define a static method with the `staticmethod()` built-in function, which can be conveniently used as a decorator:\n",
    "\n",
    "    class MyClass :\n",
    "\n",
    "        @staticmethod\n",
    "        def my_method(arg) :\n",
    "            ... note there is no arg referencing the current class instance ...\n",
    "        #end my_method\n",
    "\n",
    "    #end MyClass\n",
    "\n",
    "However, because Python has no class visibility controls (e.g. `public`, `private`, `protected`), such a feature is more of a minor convenience for grouping purposes, rather than providing any really important functionality.\n",
    "\n",
    "What is somewhat more useful is the `classmethod()` function. Whereas a regular method gets the current class instance as its first argument on a call, a classmethod gets the class object itself."
   ]
  },
  {
   "cell_type": "code",
   "execution_count": null,
   "metadata": {
    "scrolled": true
   },
   "outputs": [],
   "source": [
    "class ClassMethodExample :\n",
    "\n",
    "    var = \"value for the class\"\n",
    "      # shares a single value across all class instances.\n",
    "\n",
    "    def __init__(self) :\n",
    "        self.var = \"value for the instance\"\n",
    "          # can have a different value for each instance.\n",
    "    #end __init__\n",
    "\n",
    "    def access_from_instance(self) :\n",
    "        print(type(self))\n",
    "        return self.var\n",
    "    #end access_from_instance\n",
    "\n",
    "    @classmethod\n",
    "    def access_from_class(cself) :\n",
    "        print(type(cself))\n",
    "        return cself.var\n",
    "    #end access_from_class\n",
    "\n",
    "#end ClassMethodExample\n",
    "\n",
    "inst = ClassMethodExample()\n",
    "print(inst.access_from_instance())\n",
    "print(inst.access_from_class())\n",
    "print(ClassMethodExample.access_from_class())\n",
    "#print(ClassMethodExample.access_from_instance())"
   ]
  },
  {
   "cell_type": "markdown",
   "metadata": {},
   "source": [
    "Another built-in function called `property()` is useful for defining _properties_. These look like instance variables, but accessing them invokes a method behind the scenes to perform some computation.\n",
    "\n",
    "There are various ways to use this function. Here it is being used to define a read-only property; note how accessing `sum()` causes a method call, but there are no parentheses following the method name as with a normal call:"
   ]
  },
  {
   "cell_type": "code",
   "execution_count": null,
   "metadata": {},
   "outputs": [],
   "source": [
    "class ROPropertyExample :\n",
    "\n",
    "    def __init__(self, a, b) :\n",
    "        self.a = a\n",
    "        self.b = b\n",
    "    #end __init__\n",
    "\n",
    "    @property\n",
    "    def sum(self) :\n",
    "        return self.a + self.b\n",
    "    #end sum\n",
    "\n",
    "#end ROPropertyExample\n",
    "\n",
    "inst = ROPropertyExample(2, 3)\n",
    "print(inst.a, inst.b, inst.sum)\n",
    "inst.a = 5\n",
    "print(inst.a, inst.b, inst.sum)"
   ]
  },
  {
   "cell_type": "markdown",
   "metadata": {},
   "source": [
    "The property as defined is _read-only_ ; attempting to assign to it triggers a run-time error:"
   ]
  },
  {
   "cell_type": "code",
   "execution_count": null,
   "metadata": {},
   "outputs": [],
   "source": [
    "inst.sum = 3"
   ]
  },
  {
   "cell_type": "markdown",
   "metadata": {},
   "source": [
    "It is possible to define read-write properties as well, by adding a separate setter method that is invoked when the property reference is the LHS of an assignment:"
   ]
  },
  {
   "cell_type": "code",
   "execution_count": null,
   "metadata": {},
   "outputs": [],
   "source": [
    "class RWPropertyExample :\n",
    "\n",
    "    def __init__(self, a, b) :\n",
    "        self.a = a\n",
    "        self.b = b\n",
    "    #end __init__\n",
    "\n",
    "    @property\n",
    "    def sum(self) :\n",
    "        return self.a + self.b\n",
    "    #end sum\n",
    "\n",
    "    @sum.setter\n",
    "    def sum(self, newsum) :\n",
    "        self.a = newsum // 2\n",
    "        self.b = (newsum + 1) // 2\n",
    "    #end sum\n",
    "\n",
    "#end RWPropertyExample\n",
    "\n",
    "inst = RWPropertyExample(2, 3)\n",
    "print(inst.a, inst.b, inst.sum)\n",
    "inst.a = 5\n",
    "print(inst.a, inst.b, inst.sum)\n",
    "inst.sum = 4\n",
    "print(inst.a, inst.b, inst.sum)"
   ]
  },
  {
   "cell_type": "markdown",
   "metadata": {},
   "source": [
    "It is worth noting that while `classmethod()`, `staticmethod()` and `property()` are built-in functions, they are just a convenience; there isn’t actually any “magic” that they do that you cannot do yourself directly in Python. They are examples of the use of a more fundamental underlying Python concept called “descriptors”, that I won’t go into here."
   ]
  },
  {
   "cell_type": "markdown",
   "metadata": {},
   "source": [
    "Defining your own decorators: quick look at a more elaborate example of how to define interface classes for D-Bus using my `ravel` module from [DBussy](https://github.com/ldo/dbussy). Look at code for the Big Ben server and clients in the [DBussy Examples](https://github.com/ldo/dbussy_examples) repo."
   ]
  },
  {
   "cell_type": "markdown",
   "metadata": {},
   "source": [
    "## Lexical Binding ##\n",
    "\n",
    "An important aspect of functions and classes being first-class objects is that they can be used in expressions and returned as results from expressions. For example, you can define a function or class inside a function, and return it as a result from that function.\n",
    "\n",
    "Consider a function that can evaluate any degree-1 polynomial (equation of a straight line):"
   ]
  },
  {
   "cell_type": "code",
   "execution_count": null,
   "metadata": {},
   "outputs": [],
   "source": [
    "def poly1(x, a, b) :\n",
    "    return a * x + b\n",
    "#end poly1"
   ]
  },
  {
   "cell_type": "markdown",
   "metadata": {},
   "source": [
    "Maybe we have specific polynomials that we frequently want to evaluate:\n",
    "\n",
    "    def poly1_3_5(x) :\n",
    "        return 3 * x + 5\n",
    "    #end poly1_3_5\n",
    "\n",
    "    def poly1_5_8(x) ;\n",
    "        return 5 * x + 8\n",
    "    #end poly1_5_8\n",
    "\n",
    "Rather than having to write out the full formula for the polynomial each time, wouldn’t it save some effort if we could have a function that will create a polynomial-evaluation function for a given polynomial? Going back to the original general `poly1` function, if there were some way we could “freeze” the values of args `a` and `b`, to produce a new function that only needs to be called with a value for `x`.\n",
    "\n",
    "Like this:"
   ]
  },
  {
   "cell_type": "code",
   "execution_count": null,
   "metadata": {},
   "outputs": [],
   "source": [
    "def genpoly1(a, b) :\n",
    "\n",
    "    def poly1(x) :\n",
    "        return a * x + b\n",
    "    #end poly1\n",
    "\n",
    "#begin genpoly1\n",
    "    return poly1\n",
    "#end genpoly1\n",
    "\n",
    "poly1_3_5 = genpoly1(3, 5)\n",
    "poly1_5_8 = genpoly1(5, 8)\n",
    "\n",
    "poly1_3_5(3), poly1_5_8(4)"
   ]
  },
  {
   "cell_type": "markdown",
   "metadata": {},
   "source": [
    "Note that `a` and `b` are variables local to the outer `genpoly1` function. What happens to those values after that outer function returns? In fact, they don’t disappear, as long as a reference exists to the inner function that is capable of accessing them.\n",
    "\n",
    "There is only one copy of the code for each function `genpoly1` and `poly1`. But there is a new function _object_ created for `poly1` each time `genpoly1` is called; this object references the same code, but it has its own instance of the environment that holds the local variables for that call of `genpoly1`. And those variables are _distinct_ from any others with names `a` and `b` that might be present at the point of call, e.g.:"
   ]
  },
  {
   "cell_type": "code",
   "execution_count": null,
   "metadata": {},
   "outputs": [],
   "source": [
    "def not_dynamic_binding() :\n",
    "    a = 9\n",
    "    b = 10\n",
    "    x = 3\n",
    "    print(a * x + b)\n",
    "    print(poly1_5_8(x))\n",
    "#end not_dynamic_binding\n",
    "\n",
    "not_dynamic_binding()"
   ]
  },
  {
   "cell_type": "markdown",
   "metadata": {},
   "source": [
    "**Summary:** The core of the Python language can be defined very compactly (I estimate the language reference is about 140 printed pages), certainly compared to other general-purpose languages. Most of the power of the language comes from libraries, both standard ones that come with the language and a whole host of third-party ones. These languages take full advantage of the power of the core, so using them becomes like using a whole lot of additional features built into the language. You can get some flavour of this power from the examples above, but more will become apparent as you delve into the libraries.\n",
    "\n",
    "Have fun."
   ]
  },
  {
   "cell_type": "code",
   "execution_count": null,
   "metadata": {},
   "outputs": [],
   "source": []
  }
 ],
 "metadata": {
  "kernelspec": {
   "display_name": "Python 3",
   "language": "python",
   "name": "python3"
  },
  "language_info": {
   "codemirror_mode": {
    "name": "ipython",
    "version": 3
   },
   "file_extension": ".py",
   "mimetype": "text/x-python",
   "name": "python",
   "nbconvert_exporter": "python",
   "pygments_lexer": "ipython3",
   "version": "3.8.5"
  }
 },
 "nbformat": 4,
 "nbformat_minor": 1
}
