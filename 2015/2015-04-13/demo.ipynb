{
 "cells": [
  {
   "cell_type": "code",
   "execution_count": 21,
   "metadata": {
    "collapsed": false
   },
   "outputs": [],
   "source": [
    "from collections import deque, defaultdict"
   ]
  },
  {
   "cell_type": "code",
   "execution_count": 22,
   "metadata": {
    "collapsed": false
   },
   "outputs": [
    {
     "name": "stdout",
     "output_type": "stream",
     "text": [
      "10 loops, best of 3: 24.4 ms per loop\n"
     ]
    }
   ],
   "source": [
    "# use deque to implement stack\n",
    "def deque_test():\n",
    "    obj = deque()\n",
    "    for i in range(100000):\n",
    "        obj.append(i)\n",
    "        \n",
    "    for i in range(100000):\n",
    "        obj.pop()\n",
    "%timeit deque_test()"
   ]
  },
  {
   "cell_type": "code",
   "execution_count": 23,
   "metadata": {
    "collapsed": false
   },
   "outputs": [
    {
     "name": "stdout",
     "output_type": "stream",
     "text": [
      "10 loops, best of 3: 27.7 ms per loop\n"
     ]
    }
   ],
   "source": [
    "# use list to implement stack\n",
    "def list_test():\n",
    "    obj = list()\n",
    "    for i in range(100000):\n",
    "        obj.append(i)\n",
    "        \n",
    "    for i in range(100000):\n",
    "        obj.pop()\n",
    "%timeit list_test()"
   ]
  },
  {
   "cell_type": "code",
   "execution_count": 24,
   "metadata": {
    "collapsed": false
   },
   "outputs": [
    {
     "name": "stdout",
     "output_type": "stream",
     "text": [
      "1000 loops, best of 3: 1.77 ms per loop\n"
     ]
    }
   ],
   "source": [
    "# use deque to implement queue\n",
    "def deque_test():\n",
    "    obj = deque()\n",
    "    for i in xrange(10000):\n",
    "        obj.append(i)\n",
    "        \n",
    "    for i in xrange(10000):\n",
    "        obj.popleft()\n",
    "%timeit deque_test()"
   ]
  },
  {
   "cell_type": "code",
   "execution_count": 37,
   "metadata": {
    "collapsed": false
   },
   "outputs": [
    {
     "name": "stdout",
     "output_type": "stream",
     "text": [
      "100 loops, best of 3: 2.33 ms per loop\n"
     ]
    }
   ],
   "source": [
    "# use list to implement queue\n",
    "def list_test():\n",
    "    obj = list()\n",
    "    for i in xrange(1000):\n",
    "        obj.append(i)\n",
    "        \n",
    "    for i in xrange(1000):\n",
    "        ret = obj[0]\n",
    "        obj= obj[1:]\n",
    "%timeit list_test()"
   ]
  },
  {
   "cell_type": "markdown",
   "metadata": {},
   "source": [
    "# coclusion: use deque when dynamic changes of container is necessary."
   ]
  },
  {
   "cell_type": "code",
   "execution_count": 26,
   "metadata": {
    "collapsed": false
   },
   "outputs": [
    {
     "name": "stdout",
     "output_type": "stream",
     "text": [
      "defaultdict(<type 'list'>, {1: [[2, 3, 4]]})\n"
     ]
    }
   ],
   "source": [
    "# a breif example for default dict.\n",
    "obj = defaultdict(list)\n",
    "obj[1].append([2,3,4])\n",
    "print obj"
   ]
  },
  {
   "cell_type": "code",
   "execution_count": 27,
   "metadata": {
    "collapsed": false
   },
   "outputs": [
    {
     "ename": "KeyError",
     "evalue": "1",
     "output_type": "error",
     "traceback": [
      "\u001b[1;31m---------------------------------------------------------------------------\u001b[0m",
      "\u001b[1;31mKeyError\u001b[0m                                  Traceback (most recent call last)",
      "\u001b[1;32m<ipython-input-27-989d9cce8737>\u001b[0m in \u001b[0;36m<module>\u001b[1;34m()\u001b[0m\n\u001b[0;32m      1\u001b[0m \u001b[0mobj\u001b[0m \u001b[1;33m=\u001b[0m \u001b[1;33m{\u001b[0m\u001b[1;33m}\u001b[0m\u001b[1;33m\u001b[0m\u001b[0m\n\u001b[1;32m----> 2\u001b[1;33m \u001b[0mobj\u001b[0m\u001b[1;33m[\u001b[0m\u001b[1;36m1\u001b[0m\u001b[1;33m]\u001b[0m\u001b[1;33m.\u001b[0m\u001b[0mappend\u001b[0m\u001b[1;33m(\u001b[0m\u001b[1;33m[\u001b[0m\u001b[1;36m2\u001b[0m\u001b[1;33m,\u001b[0m\u001b[1;36m3\u001b[0m\u001b[1;33m,\u001b[0m\u001b[1;36m4\u001b[0m\u001b[1;33m]\u001b[0m\u001b[1;33m)\u001b[0m\u001b[1;33m\u001b[0m\u001b[0m\n\u001b[0m\u001b[0;32m      3\u001b[0m \u001b[1;32mprint\u001b[0m \u001b[0mobj\u001b[0m\u001b[1;33m\u001b[0m\u001b[0m\n",
      "\u001b[1;31mKeyError\u001b[0m: 1"
     ]
    }
   ],
   "source": [
    "# comparing to dict.\n",
    "obj = {}\n",
    "obj[1].append([2,3,4])\n",
    "print obj"
   ]
  },
  {
   "cell_type": "code",
   "execution_count": 28,
   "metadata": {
    "collapsed": false
   },
   "outputs": [
    {
     "name": "stdout",
     "output_type": "stream",
     "text": [
      "100 loops, best of 3: 5.07 ms per loop\n"
     ]
    }
   ],
   "source": [
    "#split array by groupby iterator. disadvantage: have to define a func every time. work slow here.\n",
    "from itertools import groupby\n",
    "def group_test():\n",
    "    array = range(10000)\n",
    "    result = defaultdict(list)\n",
    "    for key, group in groupby(array, lambda x: x % 3):\n",
    "        result[key].append(group.next())\n",
    "%timeit group_test()"
   ]
  },
  {
   "cell_type": "code",
   "execution_count": 29,
   "metadata": {
    "collapsed": false
   },
   "outputs": [
    {
     "name": "stdout",
     "output_type": "stream",
     "text": [
      "1000 loops, best of 3: 1.77 ms per loop\n"
     ]
    }
   ],
   "source": [
    "#split by list comprehension. too much loops as the number of parts increase.\n",
    "def twice_test():\n",
    "    array = range(10000)\n",
    "    result = defaultdict(list)\n",
    "    result[0] = [x for x in array if x % 3 == 0]\n",
    "    result[1] = [x for x in array if x % 3 == 1]\n",
    "    #result[2] = [x for x in array if x % 3 == 2]\n",
    "%timeit twice_test()"
   ]
  },
  {
   "cell_type": "code",
   "execution_count": 30,
   "metadata": {
    "collapsed": false
   },
   "outputs": [
    {
     "name": "stdout",
     "output_type": "stream",
     "text": [
      "1000 loops, best of 3: 1.69 ms per loop\n"
     ]
    }
   ],
   "source": [
    "#split by set difference. elements must be unique, two parts only.\n",
    "def set_test():\n",
    "    array = range(10000)\n",
    "    result = defaultdict(list)\n",
    "    result[0] = [x for x in array if x % 2 == 0]\n",
    "    result[1] = set(array).difference(result[0])\n",
    "%timeit set_test()"
   ]
  },
  {
   "cell_type": "code",
   "execution_count": 31,
   "metadata": {
    "collapsed": false
   },
   "outputs": [
    {
     "name": "stdout",
     "output_type": "stream",
     "text": [
      "1000 loops, best of 3: 1.83 ms per loop\n"
     ]
    }
   ],
   "source": [
    "#split by set difference, but two of the container are tranformed to set. slower than set_test.\n",
    "def both_set_test():\n",
    "    array = range(10000)\n",
    "    result = defaultdict(list)\n",
    "    result[0] = [x for x in array if x % 2 == 0]\n",
    "    result[1] = set(array).difference(set(result[0]))\n",
    "%timeit both_set_test()"
   ]
  },
  {
   "cell_type": "code",
   "execution_count": 32,
   "metadata": {
    "collapsed": false
   },
   "outputs": [
    {
     "name": "stdout",
     "output_type": "stream",
     "text": [
      "1000 loops, best of 3: 1.83 ms per loop\n"
     ]
    }
   ],
   "source": [
    "#split use for clause. flexible enough but performance is not so good.\n",
    "def for_test():\n",
    "    array = range(10000)\n",
    "    result = defaultdict(list)\n",
    "    for i in array:\n",
    "        result[i%3].append(i)\n",
    "%timeit for_test()"
   ]
  },
  {
   "cell_type": "markdown",
   "metadata": {},
   "source": [
    "# Conclusion: When the condition is simple, and number of parts is small, use list comprehension. complex situation see demo-networkx."
   ]
  },
  {
   "cell_type": "code",
   "execution_count": 44,
   "metadata": {
    "collapsed": true
   },
   "outputs": [],
   "source": [
    "parts = 10000\n",
    "nums = 1000000"
   ]
  },
  {
   "cell_type": "code",
   "execution_count": 45,
   "metadata": {
    "collapsed": false
   },
   "outputs": [
    {
     "name": "stdout",
     "output_type": "stream",
     "text": [
      "1 loops, best of 3: 287 ms per loop\n"
     ]
    }
   ],
   "source": [
    "#test performance of defaultdict and dict. best of the following 3.\n",
    "from collections import defaultdict\n",
    "def add_test():\n",
    "    a = defaultdict(list)\n",
    "    for n in xrange(nums):\n",
    "        a[n%parts].append(n)\n",
    "%timeit add_test()"
   ]
  },
  {
   "cell_type": "code",
   "execution_count": 46,
   "metadata": {
    "collapsed": false
   },
   "outputs": [
    {
     "name": "stdout",
     "output_type": "stream",
     "text": [
      "1 loops, best of 3: 343 ms per loop\n"
     ]
    }
   ],
   "source": [
    "#using if clause to creating a dict with list as its value.\n",
    "def add_test():\n",
    "    a = {}\n",
    "    for n in xrange(nums):\n",
    "        key = n % parts\n",
    "        if key in a:\n",
    "            a[key].append(n)\n",
    "        else:\n",
    "            a[key] = [n]\n",
    "%timeit add_test()"
   ]
  },
  {
   "cell_type": "code",
   "execution_count": 47,
   "metadata": {
    "collapsed": false,
    "scrolled": true
   },
   "outputs": [
    {
     "name": "stdout",
     "output_type": "stream",
     "text": [
      "1 loops, best of 3: 305 ms per loop\n"
     ]
    }
   ],
   "source": [
    "#using try clause to creating a dict with list as its value.\n",
    "def add_test():\n",
    "    a = {}\n",
    "    for n in xrange(nums):\n",
    "        try:\n",
    "            a[n%parts].append(n)\n",
    "        except KeyError:\n",
    "            a[n%parts] = [n]\n",
    "%timeit add_test()"
   ]
  },
  {
   "cell_type": "markdown",
   "metadata": {},
   "source": [
    "#Conclusion: use defaultdict whenever it could be. it's fast and compact."
   ]
  }
 ],
 "metadata": {
  "kernelspec": {
   "display_name": "Python 2",
   "language": "python",
   "name": "python2"
  },
  "language_info": {
   "codemirror_mode": {
    "name": "ipython",
    "version": 2
   },
   "file_extension": ".py",
   "mimetype": "text/x-python",
   "name": "python",
   "nbconvert_exporter": "python",
   "pygments_lexer": "ipython2",
   "version": "2.7.9"
  }
 },
 "nbformat": 4,
 "nbformat_minor": 0
}
