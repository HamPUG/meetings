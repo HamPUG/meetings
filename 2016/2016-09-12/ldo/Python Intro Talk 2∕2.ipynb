{
 "cells": [
  {
   "cell_type": "markdown",
   "metadata": {},
   "source": [
    "Some notes for my Python intro talk, part 2"
   ]
  },
  {
   "cell_type": "markdown",
   "metadata": {},
   "source": [
    "This will be using Python 3.5, which is the latest version. You may come across a lot of code requiring Python 2.7, the last of the Python 2 series. Some deliberate backward incompatibilities were introduced in Python 3 to fix problems that could not be handled in a backward-compatible fashion."
   ]
  },
  {
   "cell_type": "markdown",
   "metadata": {},
   "source": [
    "Previously covered in part 1:\n",
    "* Numbers\n",
    "* Strings\n",
    "* Lists, mutability\n",
    "* Dictionaries\n",
    "* Control constructs: `for`-loop, `if`-statement\n",
    "* Function definitions\n",
    "\n",
    "Now we continue with our stock-control example..."
   ]
  },
  {
   "cell_type": "code",
   "execution_count": null,
   "metadata": {
    "collapsed": true
   },
   "outputs": [],
   "source": [
    "stock = {\"apples\" : 5, \"oranges\" : 3, \"pears\" : 3}"
   ]
  },
  {
   "cell_type": "markdown",
   "metadata": {},
   "source": [
    "## Sets"
   ]
  },
  {
   "cell_type": "markdown",
   "metadata": {},
   "source": [
    "Where dictionaries store an association of keys with values, sets store only the presence of the keys."
   ]
  },
  {
   "cell_type": "code",
   "execution_count": null,
   "metadata": {
    "collapsed": false
   },
   "outputs": [],
   "source": [
    "citrus = {\"oranges\", \"lemons\"}"
   ]
  },
  {
   "cell_type": "markdown",
   "metadata": {},
   "source": [
    "The set constructor differs from the dictionary constructor correspondingly. However, note that empty braces “`{}`” denote an empty *dictionary*, not an empty *set*: the latter is constructed with the built-in `set` function called with no arguments: `set()`.\n",
    "\n",
    "Demonstration of set-membership test:"
   ]
  },
  {
   "cell_type": "code",
   "execution_count": null,
   "metadata": {
    "collapsed": false
   },
   "outputs": [],
   "source": [
    "for k in stock :\n",
    "    if k in citrus :\n",
    "        print(k, stock[k])\n",
    "    #end if\n",
    "#end for"
   ]
  },
  {
   "cell_type": "markdown",
   "metadata": {},
   "source": [
    "More categories: why not put them into a dictionary, keyed on the category name:"
   ]
  },
  {
   "cell_type": "code",
   "execution_count": null,
   "metadata": {
    "collapsed": false
   },
   "outputs": [],
   "source": [
    "categories = {\"citrus\" : {\"oranges\", \"lemons\"}, \"pome\" : {\"apples\", \"pears\", \"quinces\"}}"
   ]
  },
  {
   "cell_type": "markdown",
   "metadata": {},
   "source": [
    "Example of a function taking an argument:"
   ]
  },
  {
   "cell_type": "code",
   "execution_count": null,
   "metadata": {
    "collapsed": false
   },
   "outputs": [],
   "source": [
    "def show_stock_in_category(category_name) :\n",
    "    for k in stock :\n",
    "        if k in categories[category_name] :\n",
    "            print(k, stock[k])\n",
    "        #end if\n",
    "    #end for\n",
    "#end show_stock_in_category"
   ]
  },
  {
   "cell_type": "markdown",
   "metadata": {},
   "source": [
    "Example use:"
   ]
  },
  {
   "cell_type": "code",
   "execution_count": null,
   "metadata": {
    "collapsed": false
   },
   "outputs": [],
   "source": [
    "show_stock_in_category(\"citrus\")"
   ]
  },
  {
   "cell_type": "markdown",
   "metadata": {},
   "source": [
    "or alternatively modify original `show_stock` function to take optional category: (note short-cut boolean evaluation)"
   ]
  },
  {
   "cell_type": "code",
   "execution_count": null,
   "metadata": {
    "collapsed": false
   },
   "outputs": [],
   "source": [
    "def show_stock(category_name = None) :\n",
    "    \"shows items and quantities in the stock-keeping system for the specified category, or all categories if omitted.\"\n",
    "    for k in stock :\n",
    "        if category_name == None or k in categories[category_name] :\n",
    "            print(k, stock[k])\n",
    "            if stock[k] < 2 :\n",
    "                print(k, \"running low\")\n",
    "            #end if\n",
    "        #end if\n",
    "    #end for\n",
    "#end show_stock"
   ]
  },
  {
   "cell_type": "code",
   "execution_count": null,
   "metadata": {
    "collapsed": false
   },
   "outputs": [],
   "source": [
    "show_stock()"
   ]
  },
  {
   "cell_type": "markdown",
   "metadata": {},
   "source": [
    "still works as before, while"
   ]
  },
  {
   "cell_type": "code",
   "execution_count": null,
   "metadata": {
    "collapsed": false
   },
   "outputs": [],
   "source": [
    "show_stock(\"citrus\")"
   ]
  },
  {
   "cell_type": "markdown",
   "metadata": {},
   "source": [
    "now also works. As does specifying the argument name:"
   ]
  },
  {
   "cell_type": "code",
   "execution_count": null,
   "metadata": {
    "collapsed": false
   },
   "outputs": [],
   "source": [
    "show_stock(category_name = \"citrus\")"
   ]
  },
  {
   "cell_type": "markdown",
   "metadata": {},
   "source": [
    "which can be handy for specifying arguments out of order, omitting args with defaults, also good as a documentation aid (reader is more likely to remember argument names than their order)."
   ]
  },
  {
   "cell_type": "markdown",
   "metadata": {},
   "source": [
    "## Classes"
   ]
  },
  {
   "cell_type": "markdown",
   "metadata": {},
   "source": [
    "You previously saw that Python lists also work as one-dimensional arrays. What if you want to define, say, two-dimensional arrays? It is easy enough to have an array of arrays, with elements referenced by *a*`[`*i*`][`*j*`]`, but what if you want to use a syntax more like multidimensional arrays in other languages, i.e. *a*`[`*i*`, `*j*`]`?\n",
    "\n",
    "First, let us get the behaviour of our two-dimensional array class. We will define `get` and `set` methods which, given *i* and *j* arguments, will return or update the corresponding array elements. As with other OO languages, we need to define a special *constructor* method that will initialize newly-created class instances.\n",
    "\n",
    "In Python, all methods are just function definitions in the class, with the class instance passed as the first argument. The function definition can give any name you like to this argument, but it is common to use the name `self`.\n",
    "\n",
    "There is no member visibility control (“public”/“private”/“protected” etc). All members are accessible to caller. As GvR says, “we’re all consenting adults here”. There is a convention to begin internal member names with a single underscore, as a hint to the caller that Here Be Tygers.\n",
    "\n",
    "The constructor is a method with the special name `__init__`."
   ]
  },
  {
   "cell_type": "code",
   "execution_count": null,
   "metadata": {
    "collapsed": false
   },
   "outputs": [],
   "source": [
    "class Array :\n",
    "\n",
    "    def __init__(self, nr_rows, nr_cols, initval) :\n",
    "        self.nr_rows = nr_rows\n",
    "        self.nr_cols = nr_cols\n",
    "        self.data = [initval] * nr_rows * nr_cols\n",
    "    #end __init__\n",
    "\n",
    "    def get(self, i, j) :\n",
    "        if not isinstance(i, int) or not isinstance(j, int) or i < 0 or i >= self.nr_rows or j < 0 or j >= self.nr_cols :\n",
    "            raise IndexError(\"invalid array indices\")\n",
    "        #end if\n",
    "        return self.data[i * self.nr_cols + j]\n",
    "    #end get\n",
    "\n",
    "    def set(self, i, j, val) :\n",
    "        if not isinstance(i, int) or not isinstance(j, int) or i < 0 or i >= self.nr_rows or j < 0 or j >= self.nr_cols :\n",
    "            raise IndexError(\"invalid array indices\")\n",
    "        #end if\n",
    "        self.data[i * self.nr_cols + j] = val\n",
    "    #end set\n",
    "\n",
    "#end Array"
   ]
  },
  {
   "cell_type": "markdown",
   "metadata": {},
   "source": [
    "Constructing a class instance involves invoking the class name as though it were a function that returns the new instance; the arguments passed are those to the `__init__` method (skipping the first one):"
   ]
  },
  {
   "cell_type": "code",
   "execution_count": null,
   "metadata": {
    "collapsed": false
   },
   "outputs": [],
   "source": [
    "arr = Array(3, 3, 0)"
   ]
  },
  {
   "cell_type": "markdown",
   "metadata": {},
   "source": [
    "This creates a new 3×3 array, with all elements initialized to the integer 0."
   ]
  },
  {
   "cell_type": "code",
   "execution_count": null,
   "metadata": {
    "collapsed": false
   },
   "outputs": [],
   "source": [
    "print(arr.get(2, 1))"
   ]
  },
  {
   "cell_type": "code",
   "execution_count": null,
   "metadata": {
    "collapsed": false
   },
   "outputs": [],
   "source": [
    "arr.set(2, 1, 9)\n",
    "print(arr.get(2, 1))"
   ]
  },
  {
   "cell_type": "markdown",
   "metadata": {},
   "source": [
    "OK, this `get`/`set` notation works, but how do we use regular two-dimensional array notation? The answer is to add more specially-named methods to the class definition:\n",
    "\n",
    "    def __getitem__(self, index) :\n",
    "        return self.get(index[0], index[1])\n",
    "    #end __getitem__\n",
    "\n",
    "    def __setitem__(self, index, val) :\n",
    "        self.set(index[0], index[1], val)\n",
    "    #end __setitem__\n"
   ]
  },
  {
   "cell_type": "code",
   "execution_count": null,
   "metadata": {
    "collapsed": false
   },
   "outputs": [],
   "source": [
    "class Array :\n",
    "\n",
    "    def __init__(self, nr_rows, nr_cols, initval) :\n",
    "        self.nr_rows = nr_rows\n",
    "        self.nr_cols = nr_cols\n",
    "        self.data = [initval] * nr_rows * nr_cols\n",
    "    #end __init__\n",
    "\n",
    "    def get(self, i, j) :\n",
    "        if not isinstance(i, int) or not isinstance(j, int) or i < 0 or i >= self.nr_rows or j < 0 or j >= self.nr_cols :\n",
    "            raise IndexError(\"invalid array indices\")\n",
    "        #end if\n",
    "        return self.data[i * self.nr_cols + j]\n",
    "    #end get\n",
    "\n",
    "    def set(self, i, j, val) :\n",
    "        if not isinstance(i, int) or not isinstance(j, int) or i < 0 or i >= self.nr_rows or j < 0 or j >= self.nr_cols :\n",
    "            raise IndexError(\"invalid array indices\")\n",
    "        #end if\n",
    "        self.data[i * self.nr_cols + j] = val\n",
    "    #end set\n",
    "\n",
    "    def __getitem__(self, index) :\n",
    "        return self.get(index[0], index[1])\n",
    "    #end __getitem__\n",
    "\n",
    "    def __setitem__(self, index, val) :\n",
    "        self.set(index[0], index[1], val)\n",
    "    #end __setitem__\n",
    "    \n",
    "#end Array"
   ]
  },
  {
   "cell_type": "markdown",
   "metadata": {},
   "source": [
    "Don’t forget to recreate the array object:"
   ]
  },
  {
   "cell_type": "code",
   "execution_count": null,
   "metadata": {
    "collapsed": false
   },
   "outputs": [],
   "source": [
    "arr = Array(3, 3, 0)"
   ]
  },
  {
   "cell_type": "markdown",
   "metadata": {},
   "source": [
    "Now let us try the notation:"
   ]
  },
  {
   "cell_type": "code",
   "execution_count": null,
   "metadata": {
    "collapsed": false
   },
   "outputs": [],
   "source": [
    "print(arr[2, 1])"
   ]
  },
  {
   "cell_type": "markdown",
   "metadata": {},
   "source": [
    "The `__getitem__` method is used in an expression to get a value as above, while `__setitem__` comes into play on the left-hand side of an assignment:"
   ]
  },
  {
   "cell_type": "code",
   "execution_count": null,
   "metadata": {
    "collapsed": false
   },
   "outputs": [],
   "source": [
    "arr[2, 1] = 9\n",
    "print(arr[2, 1])"
   ]
  },
  {
   "cell_type": "markdown",
   "metadata": {},
   "source": [
    "Note how the methods are implemented: the array indices are combined into a single tuple argument, which the methods here call `index`. See how they extract the individual indices and pass them to the regular `get` and `set` methods we previously defined.\n",
    "\n",
    "What happens if we try to print the array object itself? What do we see?"
   ]
  },
  {
   "cell_type": "code",
   "execution_count": null,
   "metadata": {
    "collapsed": false
   },
   "outputs": [],
   "source": [
    "print(arr)"
   ]
  },
  {
   "cell_type": "markdown",
   "metadata": {},
   "source": [
    "The answer is, nothing very exciting. But we can fix this, by adding yet another method with a special name: the `__repr__` method, whose job it is to return some human-readable string representation:\n",
    "\n",
    "    def __repr__(self) :\n",
    "        return \"Array(%d, %d, %s)\" % (self.nr_rows, self.nr_cols, repr(self.data))\n",
    "    #end __repr__\n",
    "\n",
    "This will return a string that shows the dimensions of the array, and the contents of its elements."
   ]
  },
  {
   "cell_type": "code",
   "execution_count": null,
   "metadata": {
    "collapsed": false
   },
   "outputs": [],
   "source": [
    "class Array :\n",
    "\n",
    "    def __init__(self, nr_rows, nr_cols, initval) :\n",
    "        self.nr_rows = nr_rows\n",
    "        self.nr_cols = nr_cols\n",
    "        self.data = [initval] * nr_rows * nr_cols\n",
    "    #end __init__\n",
    "\n",
    "    def get(self, i, j) :\n",
    "        if not isinstance(i, int) or not isinstance(j, int) or i < 0 or i >= self.nr_rows or j < 0 or j >= self.nr_cols :\n",
    "            raise IndexError(\"invalid array indices\")\n",
    "        #end if\n",
    "        return self.data[i * self.nr_cols + j]\n",
    "    #end get\n",
    "\n",
    "    def set(self, i, j, val) :\n",
    "        if not isinstance(i, int) or not isinstance(j, int) or i < 0 or i >= self.nr_rows or j < 0 or j >= self.nr_cols :\n",
    "            raise IndexError(\"invalid array indices\")\n",
    "        #end if\n",
    "        self.data[i * self.nr_cols + j] = val\n",
    "    #end set\n",
    "\n",
    "    def __getitem__(self, index) :\n",
    "        return self.get(index[0], index[1])\n",
    "    #end __getitem__\n",
    "\n",
    "    def __setitem__(self, index, val) :\n",
    "        self.set(index[0], index[1], val)\n",
    "    #end __setitem__\n",
    "\n",
    "    def __repr__(self) :\n",
    "        return \"Array(%d, %d, %s)\" % (self.nr_rows, self.nr_cols, repr(self.data))\n",
    "    #end __repr__\n",
    "\n",
    "#end Array"
   ]
  },
  {
   "cell_type": "markdown",
   "metadata": {},
   "source": [
    "Let us create an instance of the new class, redo the assignment to the array element, and see how it prints:"
   ]
  },
  {
   "cell_type": "code",
   "execution_count": null,
   "metadata": {
    "collapsed": false
   },
   "outputs": [],
   "source": [
    "arr = Array(3, 3, 0)\n",
    "arr[2, 1] = 9\n",
    "print(arr)"
   ]
  },
  {
   "cell_type": "markdown",
   "metadata": {},
   "source": [
    "A bit more readable,  don’t you think?\n",
    "\n",
    "Now, about defining a custom meaning for a built-in operator, like “+”. To do this we need to add a method with the special name `__add__`. This example definition will take an `Array` and a value, and return a new `Array` with the value added to every element:\n",
    "\n",
    "    def __add__(self, n) :\n",
    "        result = Array(self.nr_rows, self.nr_cols, None)\n",
    "        for i in range(self.nr_rows) :\n",
    "            for j in range(self.nr_cols) :\n",
    "                result[i, j] = self[i, j] + n\n",
    "            #end for\n",
    "        #end for\n",
    "        return result\n",
    "    #end __add__\n",
    "\n",
    "Note elements don’t have to be numbers, anything for which “+” is valid will work.\n"
   ]
  },
  {
   "cell_type": "code",
   "execution_count": null,
   "metadata": {
    "collapsed": false
   },
   "outputs": [],
   "source": [
    "class Array :\n",
    "\n",
    "    def __init__(self, nr_rows, nr_cols, initval) :\n",
    "        self.nr_rows = nr_rows\n",
    "        self.nr_cols = nr_cols\n",
    "        self.data = [initval] * nr_rows * nr_cols\n",
    "    #end __init__\n",
    "\n",
    "    def get(self, i, j) :\n",
    "        if not isinstance(i, int) or not isinstance(j, int) or i < 0 or i >= self.nr_rows or j < 0 or j >= self.nr_cols :\n",
    "            raise IndexError(\"invalid array indices\")\n",
    "        #end if\n",
    "        return self.data[i * self.nr_cols + j]\n",
    "    #end get\n",
    "\n",
    "    def set(self, i, j, val) :\n",
    "        if not isinstance(i, int) or not isinstance(j, int) or i < 0 or i >= self.nr_rows or j < 0 or j >= self.nr_cols :\n",
    "            raise IndexError(\"invalid array indices\")\n",
    "        #end if\n",
    "        self.data[i * self.nr_cols + j] = val\n",
    "    #end set\n",
    "\n",
    "    def __getitem__(self, index) :\n",
    "        return self.get(index[0], index[1])\n",
    "    #end __getitem__\n",
    "\n",
    "    def __setitem__(self, index, val) :\n",
    "        self.set(index[0], index[1], val)\n",
    "    #end __setitem__\n",
    "\n",
    "    def __repr__(self) :\n",
    "        return \"Array(%d, %d, %s)\" % (self.nr_rows, self.nr_cols, repr(self.data))\n",
    "    #end __repr__\n",
    "\n",
    "    \n",
    "    def __add__(self, n) :\n",
    "        result = Array(self.nr_rows, self.nr_cols, None)\n",
    "        for i in range(self.nr_rows) :\n",
    "            for j in range(self.nr_cols) :\n",
    "                result[i, j] = self[i, j] + n\n",
    "            #end for\n",
    "        #end for\n",
    "        return result\n",
    "    #end __add__\n",
    "\n",
    "#end Array"
   ]
  },
  {
   "cell_type": "code",
   "execution_count": null,
   "metadata": {
    "collapsed": false
   },
   "outputs": [],
   "source": [
    "arr = Array(3, 3, 2)\n",
    "print(arr + 5)"
   ]
  },
  {
   "cell_type": "markdown",
   "metadata": {},
   "source": [
    "This works because"
   ]
  },
  {
   "cell_type": "code",
   "execution_count": null,
   "metadata": {
    "collapsed": false
   },
   "outputs": [],
   "source": [
    "(2).__add__(5)"
   ]
  },
  {
   "cell_type": "markdown",
   "metadata": {},
   "source": [
    "is equivalent to"
   ]
  },
  {
   "cell_type": "code",
   "execution_count": null,
   "metadata": {
    "collapsed": false
   },
   "outputs": [],
   "source": [
    "2 + 5"
   ]
  },
  {
   "cell_type": "markdown",
   "metadata": {},
   "source": [
    "If you want the `Array` instance to update itself in place, then you define a method that implements the “+=” operator, the name of which is `__iadd__`, e.g.\n",
    "\n",
    "    def __iadd__(self, n) :\n",
    "        for i in range(self.nr_rows) :\n",
    "            for j in range(self.nr_cols) :\n",
    "                self[i, j] += n\n",
    "            #end for\n",
    "        #end for\n",
    "        return self\n",
    "    #end __iadd__\n"
   ]
  },
  {
   "cell_type": "code",
   "execution_count": null,
   "metadata": {
    "collapsed": false
   },
   "outputs": [],
   "source": [
    "class Array :\n",
    "\n",
    "    def __init__(self, nr_rows, nr_cols, initval) :\n",
    "        self.nr_rows = nr_rows\n",
    "        self.nr_cols = nr_cols\n",
    "        self.data = [initval] * nr_rows * nr_cols\n",
    "    #end __init__\n",
    "\n",
    "    def get(self, i, j) :\n",
    "        if not isinstance(i, int) or not isinstance(j, int) or i < 0 or i >= self.nr_rows or j < 0 or j >= self.nr_cols :\n",
    "            raise IndexError(\"invalid array indices\")\n",
    "        #end if\n",
    "        return self.data[i * self.nr_cols + j]\n",
    "    #end get\n",
    "\n",
    "    def set(self, i, j, val) :\n",
    "        if not isinstance(i, int) or not isinstance(j, int) or i < 0 or i >= self.nr_rows or j < 0 or j >= self.nr_cols :\n",
    "            raise IndexError(\"invalid array indices\")\n",
    "        #end if\n",
    "        self.data[i * self.nr_cols + j] = val\n",
    "    #end set\n",
    "\n",
    "    def __getitem__(self, index) :\n",
    "        return self.get(index[0], index[1])\n",
    "    #end __getitem__\n",
    "\n",
    "    def __setitem__(self, index, val) :\n",
    "        self.set(index[0], index[1], val)\n",
    "    #end __setitem__\n",
    "\n",
    "    def __repr__(self) :\n",
    "        return \"Array(%d, %d, %s)\" % (self.nr_rows, self.nr_cols, repr(self.data))\n",
    "    #end __repr__\n",
    "\n",
    "    \n",
    "    def __add__(self, n) :\n",
    "        result = Array(self.nr_rows, self.nr_cols, None)\n",
    "        for i in range(self.nr_rows) :\n",
    "            for j in range(self.nr_cols) :\n",
    "                result[i, j] = self[i, j] + n\n",
    "            #end for\n",
    "        #end for\n",
    "        return result\n",
    "    #end __add__\n",
    "\n",
    "    def __iadd__(self, n) :\n",
    "        for i in range(self.nr_rows) :\n",
    "            for j in range(self.nr_cols) :\n",
    "                self[i, j] += n\n",
    "            #end for\n",
    "        #end for\n",
    "        return self\n",
    "    #end __iadd__\n",
    "\n",
    "#end Array"
   ]
  },
  {
   "cell_type": "markdown",
   "metadata": {},
   "source": [
    "Create a new instance:"
   ]
  },
  {
   "cell_type": "code",
   "execution_count": null,
   "metadata": {
    "collapsed": false
   },
   "outputs": [],
   "source": [
    "arr = Array(3, 3, 2)"
   ]
  },
  {
   "cell_type": "markdown",
   "metadata": {},
   "source": [
    "Try the new method:"
   ]
  },
  {
   "cell_type": "code",
   "execution_count": null,
   "metadata": {
    "collapsed": false
   },
   "outputs": [],
   "source": [
    "arr += 4\n",
    "print(arr)"
   ]
  },
  {
   "cell_type": "markdown",
   "metadata": {},
   "source": [
    "## More Looping Fun ##\n",
    "\n",
    "Returning to our previous stock-control example, suppose we would like the stock printout to include an item number on each line. One way to do this is as follows:"
   ]
  },
  {
   "cell_type": "code",
   "execution_count": null,
   "metadata": {
    "collapsed": false
   },
   "outputs": [],
   "source": [
    "def show_itemized_stock() :\n",
    "    i = 0\n",
    "    for k in sorted(stock) :\n",
    "        i += 1\n",
    "        print(\"{}. {:.<12}{}\".format(i, k, stock[k]))\n",
    "    #end for\n",
    "#end show_itemized_stock\n",
    "show_itemized_stock()"
   ]
  },
  {
   "cell_type": "markdown",
   "metadata": {},
   "source": [
    "However, Python offers a built-in function called `enumerate`, which makes this a little easier:"
   ]
  },
  {
   "cell_type": "code",
   "execution_count": null,
   "metadata": {
    "collapsed": false
   },
   "outputs": [],
   "source": [
    "def show_itemized_stock() :\n",
    "    for i, k in enumerate(sorted(stock)) :\n",
    "        print(\"{}. {:.<12}{}\".format(i + 1, k, stock[k]))\n",
    "    #end for\n",
    "#end show_itemized_stock\n",
    "show_itemized_stock()"
   ]
  },
  {
   "cell_type": "markdown",
   "metadata": {},
   "source": [
    "Note that, in common with Python conventions elsewhere, it wants to number things from zero. So we have to add 1 to start numbering from that.\n",
    "\n",
    "### Permutations ###\n",
    "\n",
    "Consider the problem of generating all permutations of a given list, e.g. the list `[1, 2, 3]` has $3! = 6$ permutations:\n",
    "\n",
    "    [1, 2, 3]\n",
    "    [1, 3, 2]\n",
    "    [2, 3, 1]\n",
    "    [2, 1, 3]\n",
    "    [3, 1, 2]\n",
    "    [3, 2, 1]\n",
    "\n",
    "How do we generate these? The general algorithm can be expressed *recursively* as follows:\n",
    "\n",
    "* If the list is empty, then there is only one permutation: the empty list.\n",
    "* Otherwise, pick each element of the list in turn. For each such selection:\n",
    "  * for each permutation of the remaining items in the list, put the previously-selected element on the front, and return this as a permutation.\n",
    "\n",
    "This can be expressed in Python as follows:"
   ]
  },
  {
   "cell_type": "code",
   "execution_count": null,
   "metadata": {
    "collapsed": false
   },
   "outputs": [],
   "source": [
    "def permute(l) :\n",
    "    if len(l) == 0 :\n",
    "        yield []\n",
    "    else :\n",
    "        for i, elt in enumerate(l) :\n",
    "            for rest in permute(l[:i] + l[i + 1:]) :\n",
    "                yield [elt] + rest\n",
    "            #end for\n",
    "        #end for\n",
    "    #end if\n",
    "#end permute"
   ]
  },
  {
   "cell_type": "markdown",
   "metadata": {},
   "source": [
    "This function is called a *generator*. Instead of being entered, returning a result and terminating, the `yield` calls only *suspend* the execution of the function, so that it can be resumed from where it left off, until it executes another `yield` or it terminates.\n",
    "\n",
    "One way to use such a function is as the iterator expression in a loop, where the loop iterates once for each `yield` from the generator:"
   ]
  },
  {
   "cell_type": "code",
   "execution_count": null,
   "metadata": {
    "collapsed": false
   },
   "outputs": [],
   "source": [
    "for c in permute([1, 2, 3]) :\n",
    "    print(c)\n",
    "#end for"
   ]
  },
  {
   "cell_type": "markdown",
   "metadata": {},
   "source": [
    "What’s the advantage of using a generator? It can be handy to avoid storing the whole of a large list in memory at once, where you only need to process one element at a time. For example, the function might do a database query, and `yield` each matching record, one at a time, and there might be a million matching records."
   ]
  },
  {
   "cell_type": "markdown",
   "metadata": {},
   "source": [
    "## Reflection/RTTI ##\n",
    "\n",
    "*Reflection* is a fancy term for being able to examine and manipulate type information at run-time. Or a more limited form of this might be called *Run-Time Type Information* (RTTI). Some languages have a complex system for doing this, usually with only partial functionality. Python, on the other hand, being a fully dynamic language, can offer full access, even being able to do things like create new types at run time.\n",
    "\n",
    "The `issubclass` built-in function lets you query subclass/superclass relationships. This works among the built-in types as well."
   ]
  },
  {
   "cell_type": "code",
   "execution_count": null,
   "metadata": {
    "collapsed": false
   },
   "outputs": [],
   "source": [
    "issubclass(int, float)"
   ]
  },
  {
   "cell_type": "code",
   "execution_count": null,
   "metadata": {
    "collapsed": false
   },
   "outputs": [],
   "source": [
    "issubclass(bool, int)"
   ]
  },
  {
   "cell_type": "markdown",
   "metadata": {},
   "source": [
    "To determine the type of an object, you can use the `type` built-in function, as shown in previous examples. Types are objects too, and in particular you can compare them for equality:"
   ]
  },
  {
   "cell_type": "code",
   "execution_count": null,
   "metadata": {
    "collapsed": false
   },
   "outputs": [],
   "source": [
    "type(3) == int"
   ]
  },
  {
   "cell_type": "markdown",
   "metadata": {},
   "source": [
    "But if you need to check that a value is of an acceptable type, it is better to use the `isinstance` function, since this will also accept values of subclasses (yes, even the built-in types can be subclassed):"
   ]
  },
  {
   "cell_type": "code",
   "execution_count": null,
   "metadata": {
    "collapsed": false
   },
   "outputs": [],
   "source": [
    "isinstance(3, int)"
   ]
  },
  {
   "cell_type": "markdown",
   "metadata": {},
   "source": [
    "You can check that a value is of (or a subclass of) any of a list or tuple of types:"
   ]
  },
  {
   "cell_type": "code",
   "execution_count": null,
   "metadata": {
    "collapsed": false
   },
   "outputs": [],
   "source": [
    "isinstance(3, (int, float)), isinstance(3.0, (int, float))"
   ]
  },
  {
   "cell_type": "markdown",
   "metadata": {},
   "source": [
    "If you want to check that a value is of a numeric type, the `numbers` module provides *abstract base classes* to make this more convenient:"
   ]
  },
  {
   "cell_type": "code",
   "execution_count": null,
   "metadata": {
    "collapsed": false
   },
   "outputs": [],
   "source": [
    "import numbers\n",
    "issubclass(int, numbers.Real), issubclass(float, numbers.Real)"
   ]
  },
  {
   "cell_type": "code",
   "execution_count": null,
   "metadata": {
    "collapsed": false
   },
   "outputs": [],
   "source": [
    "isinstance(3, float)"
   ]
  },
  {
   "cell_type": "code",
   "execution_count": null,
   "metadata": {
    "collapsed": false
   },
   "outputs": [],
   "source": [
    "isinstance(3, numbers.Real)"
   ]
  },
  {
   "cell_type": "markdown",
   "metadata": {},
   "source": [
    "## `any` and `all` ##\n",
    "\n",
    "Supposing you want to check that all elements of a list are of a particular type. Rather than writing a loop statement and collecting the results, you can directly write what is called a *list comprehension* expression."
   ]
  },
  {
   "cell_type": "code",
   "execution_count": null,
   "metadata": {
    "collapsed": true
   },
   "outputs": [],
   "source": [
    "sample_list_1 = [1, 2, 3]\n",
    "sample_list_2 = [1, \"two\", 3]"
   ]
  },
  {
   "cell_type": "code",
   "execution_count": null,
   "metadata": {
    "collapsed": false
   },
   "outputs": [],
   "source": [
    "all(isinstance(i, int) for i in sample_list_1), \\\n",
    "all(isinstance(i, int) for i in sample_list_2)"
   ]
  },
  {
   "cell_type": "markdown",
   "metadata": {},
   "source": [
    "If you wanted the opposite condition, the obvious way would be to put a `not` on the front:\n",
    "\n",
    "    not all(isinstance(i, int) for i in sample_list_1), \\\n",
    "    not all(isinstance(i, int) for i in sample_list_2)\n",
    "\n",
    "Another way to express it is using the complementary function to `all`, which is `any`:"
   ]
  },
  {
   "cell_type": "code",
   "execution_count": null,
   "metadata": {
    "collapsed": false
   },
   "outputs": [],
   "source": [
    "any(not isinstance(i, int) for i in sample_list_1), \\\n",
    "any(not isinstance(i, int) for i in sample_list_2)"
   ]
  },
  {
   "cell_type": "markdown",
   "metadata": {},
   "source": [
    "In this case, it doesn’t look like one is obviously better than the other. It might be different in other cases."
   ]
  },
  {
   "cell_type": "markdown",
   "metadata": {},
   "source": [
    "**Summary:** The core of the Python language can be defined very compactly (I estimate the language reference is about 140 printed pages), certainly compared to other general-purpose languages. Most of the power of the language comes from libraries, both standard ones that come with the language and a whole host of third-party ones. These languages take full advantage of the power of the core, so using them becomes like using a whole lot of additional features built into the language. You can get some flavour of this power from the examples above, but more will become apparent as you delve into the libraries.\n",
    "\n",
    "Have fun."
   ]
  },
  {
   "cell_type": "code",
   "execution_count": null,
   "metadata": {
    "collapsed": false
   },
   "outputs": [],
   "source": []
  }
 ],
 "metadata": {
  "kernelspec": {
   "display_name": "Python 3",
   "language": "python",
   "name": "python3"
  },
  "language_info": {
   "codemirror_mode": {
    "name": "ipython",
    "version": 3
   },
   "file_extension": ".py",
   "mimetype": "text/x-python",
   "name": "python",
   "nbconvert_exporter": "python",
   "pygments_lexer": "ipython3",
   "version": "3.5.1+"
  }
 },
 "nbformat": 4,
 "nbformat_minor": 0
}
