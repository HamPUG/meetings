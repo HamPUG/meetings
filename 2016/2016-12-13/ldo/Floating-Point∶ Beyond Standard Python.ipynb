{
 "cells": [
  {
   "cell_type": "markdown",
   "metadata": {},
   "source": [
    "# Floating Point: Beyond Standard Python #\n",
    "\n",
    "This notebook investigates some features of IEEE-754 floating-point arithmetic, specifically the classification, rounding and exceptions features, using Python.\n",
    "\n",
    "Unfortunately, Python does not give access to these features (at least not all of them) as standard. However, my [`pyfenv`](https://github.com/ldo/pyfenv) module remedies this, at least for GCC on *x*86. You will need that module installed to run this notebook."
   ]
  },
  {
   "cell_type": "code",
   "execution_count": null,
   "metadata": {
    "collapsed": true
   },
   "outputs": [],
   "source": [
    "import sys\n",
    "import math\n",
    "# import fpectl # not very useful\n",
    "\n",
    "import fenv # my ctypes-based module"
   ]
  },
  {
   "cell_type": "markdown",
   "metadata": {},
   "source": [
    "Python’s standard `sys` module has a [`float_info`](https://docs.python.org/3/library/sys.html#sys.float_info) object that gives information about the characteristics of the floating-point implementation:"
   ]
  },
  {
   "cell_type": "code",
   "execution_count": null,
   "metadata": {
    "collapsed": false
   },
   "outputs": [],
   "source": [
    "print(sys.float_info)"
   ]
  },
  {
   "cell_type": "markdown",
   "metadata": {},
   "source": [
    "## Classification ##\n",
    "\n",
    "`fenv.FP` is an enumeration of all the different classes of numbers in IEEE 754, and the `classify` class method tells you the classification of a number. Python’s [`math`](https://docs.python.org/3/library/math.html) module provides `isfinite`, `isinf` and `isnan` queries, but is missing `isnormal`:"
   ]
  },
  {
   "cell_type": "code",
   "execution_count": null,
   "metadata": {
    "collapsed": false
   },
   "outputs": [],
   "source": [
    "inf = float(\"inf\")\n",
    "for val in \\\n",
    "    (\n",
    "        inf,\n",
    "        inf + inf,\n",
    "        inf - inf,\n",
    "        math.pi,\n",
    "        sys.float_info.min,\n",
    "        sys.float_info.min * sys.float_info.epsilon,\n",
    "        sys.float_info.min * sys.float_info.epsilon / 2,\n",
    "        sys.float_info.min - sys.float_info.min * sys.float_info.epsilon,\n",
    "    ) \\\n",
    ":\n",
    "    sys.stdout.write \\\n",
    "      (\n",
    "            \"%-24.17g  %-12s  %-5s %-5s %-5s %-5s\\n\"\n",
    "        %\n",
    "            (\n",
    "                val,\n",
    "                fenv.FP.classify(val),\n",
    "                fenv.isnormal(val), math.isfinite(val), math.isinf(val), math.isnan(val),\n",
    "            )\n",
    "      )\n",
    "#end for"
   ]
  },
  {
   "cell_type": "markdown",
   "metadata": {},
   "source": [
    "## Next-After ##\n",
    "\n",
    "`fenv` also gives access to the `nextafter` function, which lets you take `sys.float_info.epsilon`-sized steps through the real-number space."
   ]
  },
  {
   "cell_type": "code",
   "execution_count": null,
   "metadata": {
    "collapsed": false
   },
   "outputs": [],
   "source": [
    "for val in \\\n",
    "    (\n",
    "        sys.float_info.min,\n",
    "        fenv.nextafter(sys.float_info.min, 1),\n",
    "        fenv.nextafter(sys.float_info.min, 0),\n",
    "        sys.float_info.min * sys.float_info.epsilon,\n",
    "        fenv.nextafter(sys.float_info.min * sys.float_info.epsilon, 1),\n",
    "        fenv.nextafter(sys.float_info.min * sys.float_info.epsilon, 0),\n",
    "    ) \\\n",
    ":\n",
    "    sys.stdout.write \\\n",
    "      (\n",
    "        \"%-24.17g  %-12s\\n\" % (val, fenv.FP.classify(val))\n",
    "      )\n",
    "#end for"
   ]
  },
  {
   "cell_type": "markdown",
   "metadata": {},
   "source": [
    "This shows why subnormal numbers are important: if they did not exist, then the value of `fenv.nextafter(sys.float_info.min, 0),` would be zero, a much larger step from `sys.float_info.min` than in the opposite direction, to `fenv.nextafter(sys.float_info.min, 1)`."
   ]
  },
  {
   "cell_type": "markdown",
   "metadata": {},
   "source": [
    "## Rounding ##\n",
    "\n",
    "IEEE 754 defines four different rounding modes: to-nearest, upwards, downwards, and towards zero. `fenv` provides the `ROUND` enumeration, with symbolic names for all these modes. To-nearest is the usual default:"
   ]
  },
  {
   "cell_type": "code",
   "execution_count": null,
   "metadata": {
    "collapsed": false
   },
   "outputs": [],
   "source": [
    "print(fenv.ROUND.get())"
   ]
  },
  {
   "cell_type": "markdown",
   "metadata": {},
   "source": [
    "Python’s built-in [`round`](https://docs.python.org/3/library/functions.html#round) function always rounds to nearest; so `fenv` provides its own access to the standard C99 functions, `nearbyint` and `rint`, that obey the current rounding mode.\n",
    "\n",
    "The following shows the difference in behaviour of the rounding modes:"
   ]
  },
  {
   "cell_type": "code",
   "execution_count": null,
   "metadata": {
    "collapsed": false
   },
   "outputs": [],
   "source": [
    "with fenv.SaveRounding() :\n",
    "    for r in fenv.ROUND :\n",
    "        r.set()\n",
    "        sys.stdout.write(\"%s\" % r)\n",
    "        for a in (3.5, -3.5, 4.5, -4.5) :\n",
    "            sys.stdout.write(\", %g => %g\" % (a, fenv.nearbyint(a)))\n",
    "        #end for\n",
    "        sys.stdout.write(\"\\n\")\n",
    "    #end for\n",
    "#end with"
   ]
  },
  {
   "cell_type": "markdown",
   "metadata": {},
   "source": [
    "Note the use of the `SaveRounding` [context manager](https://docs.python.org/3/library/stdtypes.html#typecontextmanager) class provided by `fenv`, so that the default rounding mode is correctly restored afterward."
   ]
  },
  {
   "cell_type": "markdown",
   "metadata": {},
   "source": [
    "## Exceptions ##\n",
    "\n",
    "*Exceptions* in IEEE 754 are not exceptions in the Python sense: they are merely bits in a status register, which can become set under certain conditions in a calculation. Once set, they remain set until explicitly cleared. They can also be explicitly set. The meanings of these exception bits are:\n",
    "\n",
    "* `INVALID` — the calculation cannot produce a valid result (e.g. for real values only, trying to obtain the square root of a negative number, or an arcsine or arccosine of an argument with magnitude greater than 1).\n",
    "* `DENORM` — the result is so close to zero that it can only be represented using a “denormalized” number, which has less precision than the usual “normalized” range. Never seems to be set?\n",
    "* `DIVBYZERO` — division by zero (*i.e.* result is infinity).\n",
    "* `OVERFLOW` — the magnitude of the result, while finite, is too large to be represented by any available finite value. `INEXACT` will also be set.\n",
    "* `UNDERFLOW` — the magnitude of the result, while not exactly zero, is too close to zero to be represented by any normalized nonzero value. `INEXACT` will also be set.\n",
    "* `INEXACT` — the result cannot be represented exactly.\n",
    "\n",
    "There is often this assumption that floating-point calculations always have to be inexact. In fact, this is often not the case, so it can be helpful to be able to check. For example, the abovementioned `nearbyint` and `rint` functions return exactly the same results, but the latter can also set the `INEXACT` exception bit when the result differs from the argument passed."
   ]
  },
  {
   "cell_type": "code",
   "execution_count": null,
   "metadata": {
    "collapsed": false
   },
   "outputs": [],
   "source": [
    "for a in (1.0, 1.5, 2.0) :\n",
    "    fenv.EXCEPT.INEXACT.clear()\n",
    "    b = fenv.rint(a)\n",
    "    inexact = fenv.EXCEPT.INEXACT.test\n",
    "    sys.stdout.write(\"%g => %g inexact %s\\n\" % (a, b, inexact))\n",
    "#end for"
   ]
  },
  {
   "cell_type": "markdown",
   "metadata": {},
   "source": [
    "In the normal operation of Python, the `INEXACT` bit usually seems to be set. In this notebook, it can never stay cleared for long:"
   ]
  },
  {
   "cell_type": "code",
   "execution_count": null,
   "metadata": {
    "collapsed": true
   },
   "outputs": [],
   "source": [
    "fenv.ExceptFlag.clear(fenv.EXCEPT_ALL)\n",
    "print(fenv.ExceptFlag.test(fenv.EXCEPT_ALL))"
   ]
  },
  {
   "cell_type": "code",
   "execution_count": null,
   "metadata": {
    "collapsed": false
   },
   "outputs": [],
   "source": [
    "print(fenv.ExceptFlag.test(fenv.EXCEPT_ALL))"
   ]
  },
  {
   "cell_type": "markdown",
   "metadata": {},
   "source": [
    "When performing calculations, Python automatically clears the `DIVBYZERO` exception when it happens, but not `INVALID`:"
   ]
  },
  {
   "cell_type": "code",
   "execution_count": null,
   "metadata": {
    "collapsed": false
   },
   "outputs": [],
   "source": [
    "fenv.ExceptFlag.clear(fenv.EXCEPT_ALL)\n",
    "try :\n",
    "    1 / 0\n",
    "except ZeroDivisionError :\n",
    "    print(\"after division by zero:\", fenv.ExceptFlag.test(fenv.EXCEPT_ALL))\n",
    "#end try\n",
    "fenv.ExceptFlag.clear(fenv.EXCEPT_ALL)\n",
    "try :\n",
    "    math.sqrt(-1)\n",
    "except ValueError :\n",
    "    print(\"after invalid op:\", fenv.ExceptFlag.test(fenv.EXCEPT_ALL))\n",
    "#end try"
   ]
  },
  {
   "cell_type": "markdown",
   "metadata": {},
   "source": [
    "Interesting that assigning a literal value that cannot be exactly represented also sets `INEXACT`:"
   ]
  },
  {
   "cell_type": "code",
   "execution_count": null,
   "metadata": {
    "collapsed": false
   },
   "outputs": [],
   "source": [
    "fenv.ExceptFlag.clear(fenv.EXCEPT_ALL)\n",
    "a = 0.1 # sets INEXACT\n",
    "print(fenv.ExceptFlag.test(fenv.EXCEPT_ALL))\n",
    "fenv.ExceptFlag.clear(fenv.EXCEPT_ALL)\n",
    "b = a # doesn’t set INEXACT\n",
    "print(fenv.ExceptFlag.test(fenv.EXCEPT_ALL))\n",
    "fenv.ExceptFlag.clear(fenv.EXCEPT_ALL)\n",
    "a = 0.125 # doesn’t set INEXACT\n",
    "print(fenv.ExceptFlag.test(fenv.EXCEPT_ALL))"
   ]
  },
  {
   "cell_type": "markdown",
   "metadata": {},
   "source": [
    "Calculations that cannot return exact results set `INEXACT`, as you would expect:"
   ]
  },
  {
   "cell_type": "code",
   "execution_count": null,
   "metadata": {
    "collapsed": false
   },
   "outputs": [],
   "source": [
    "a = 0.1\n",
    "for expr in (str(a), \"a\", \"a + a\", \"a + a + a\", \"a + a + a + a\", \"(a + a) + (a + a)\") :\n",
    "    fenv.ExceptFlag.clear(fenv.EXCEPT_ALL)\n",
    "    b = eval(expr)\n",
    "    excepts = fenv.ExceptFlag.test(fenv.EXCEPT_ALL)\n",
    "    sys.stdout.write(\"calc %s => %g sets %s\\n\" % (expr, b, excepts))\n",
    "#end for"
   ]
  },
  {
   "cell_type": "markdown",
   "metadata": {},
   "source": [
    "Note the difference between the last two! Finite-precision arithmetic does *not*, in general, obey the usual associativity and commutativity laws. This is why you don’t want so-called “optimizing” compilers silently reinterpreting one form as the other!"
   ]
  },
  {
   "cell_type": "markdown",
   "metadata": {},
   "source": [
    "## What Use Is It? ##\n",
    "\n",
    "One good reason for using the different rounding modes is as a quick test of the numerical stability of a calculation: if the results are close in the different modes, then that gives you some confidence in their accuracy, while if they differ wildly, then you know that something is wrong."
   ]
  },
  {
   "cell_type": "code",
   "execution_count": null,
   "metadata": {
    "collapsed": false
   },
   "outputs": [],
   "source": [
    "with fenv.SaveRounding() :\n",
    "    for r in fenv.ROUND :\n",
    "        r.set()\n",
    "        print(sum(1 / (i + 1) for i in range(100)), sum(1 / (- i - 1) for i in range(100)), fenv.ROUND.get())\n",
    "    #end for\n",
    "#end with\n",
    "print(fenv.ROUND.get()) # just to confirm the restored default"
   ]
  },
  {
   "cell_type": "markdown",
   "metadata": {
    "collapsed": true
   },
   "source": [
    "## More Numerics Info ##\n",
    "\n",
    "For more than you ever wanted to know about the pitfalls of computer arithmetic, visit the [website](http://www.cs.berkeley.edu/~wkahan/) of Professor William “Mr IEEE-754” Kahan."
   ]
  },
  {
   "cell_type": "code",
   "execution_count": null,
   "metadata": {
    "collapsed": true
   },
   "outputs": [],
   "source": []
  }
 ],
 "metadata": {
  "kernelspec": {
   "display_name": "Python 3",
   "language": "python",
   "name": "python3"
  },
  "language_info": {
   "codemirror_mode": {
    "name": "ipython",
    "version": 3
   },
   "file_extension": ".py",
   "mimetype": "text/x-python",
   "name": "python",
   "nbconvert_exporter": "python",
   "pygments_lexer": "ipython3",
   "version": "3.5.2+"
  }
 },
 "nbformat": 4,
 "nbformat_minor": 0
}
