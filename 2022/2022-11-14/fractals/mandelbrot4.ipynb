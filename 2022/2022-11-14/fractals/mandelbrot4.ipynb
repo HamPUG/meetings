{
 "cells": [
  {
   "cell_type": "markdown",
   "id": "f3c40652",
   "metadata": {},
   "source": [
    "# Mandelbrot set 4\n",
    "\n",
    "Use 16 gray values for coordinate if escaped, black if it didn't."
   ]
  },
  {
   "cell_type": "code",
   "execution_count": null,
   "id": "0d4fb3ae",
   "metadata": {},
   "outputs": [],
   "source": [
    "import io\n",
    "import numpy as np\n",
    "from PIL import Image as PImage\n",
    "from IPython.display import Image\n",
    "\n",
    "cx = [-2.5, 1.5]\n",
    "cy = [-1.5, 1.5]\n",
    "points_x = 800\n",
    "points_y = 600\n",
    "dx = (cx[1] - cx[0]) / points_x\n",
    "dy = (cy[1] - cy[0]) / points_y\n",
    "max_iter = 100\n",
    "\n",
    "mandelbrot = np.zeros((points_y, points_x), dtype=np.uint8)\n",
    "\n",
    "for y in range(points_y):\n",
    "    for x in range(points_x):\n",
    "        z = 0+0j\n",
    "        c = complex((cx[0] + x*dx), (cy[0] + y*dy))\n",
    "        escaped = False\n",
    "        for i in range(max_iter):\n",
    "            zn = z**2 + c\n",
    "            if abs(zn) > 2:\n",
    "                escaped = True\n",
    "                mandelbrot[y][x] = (i % 16) * 16 + 15\n",
    "                break\n",
    "            z = zn\n",
    "\n",
    "img = PImage.fromarray(mandelbrot)\n",
    "img_bytes = io.BytesIO()\n",
    "img.save(img_bytes, format=\"PNG\")\n",
    "Image(img_bytes.getvalue())"
   ]
  },
  {
   "cell_type": "code",
   "execution_count": null,
   "id": "16074d66",
   "metadata": {},
   "outputs": [],
   "source": []
  }
 ],
 "metadata": {
  "kernelspec": {
   "display_name": "Python 3 (ipykernel)",
   "language": "python",
   "name": "python3"
  },
  "language_info": {
   "codemirror_mode": {
    "name": "ipython",
    "version": 3
   },
   "file_extension": ".py",
   "mimetype": "text/x-python",
   "name": "python",
   "nbconvert_exporter": "python",
   "pygments_lexer": "ipython3",
   "version": "3.8.10"
  }
 },
 "nbformat": 4,
 "nbformat_minor": 5
}
