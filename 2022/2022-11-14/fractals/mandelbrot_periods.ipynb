{
 "cells": [
  {
   "cell_type": "markdown",
   "id": "5f0f7da2",
   "metadata": {},
   "source": [
    "# Mandelbrot set - Periods\n",
    "\n",
    "Points that do not escape can have periodic behavior, resulting in the same values.\n"
   ]
  },
  {
   "cell_type": "code",
   "execution_count": null,
   "id": "a7b96941",
   "metadata": {},
   "outputs": [],
   "source": [
    "def iterate(c, max_iter=100):\n",
    "    print(\"c = %s\" % str(c))\n",
    "    z = 0 + 0j\n",
    "    v = set()\n",
    "    v.add(z)\n",
    "    p = set()\n",
    "    escaped = False\n",
    "    for i in range(max_iter):\n",
    "        zn = z**2 + c\n",
    "        print(\"z%d = %s\" % (i, str(zn)))\n",
    "        if zn in v:\n",
    "            if zn in p:\n",
    "                print(\"Period detected of length %d\" % len(p))\n",
    "                break\n",
    "            else:\n",
    "                p.add(zn)\n",
    "        if abs(zn) > 2:\n",
    "            escaped = True\n",
    "            print(\"escaped at iteration %d\" % i)\n",
    "            break\n",
    "        v.add(zn)\n",
    "        z = zn\n",
    "    if not escaped:\n",
    "        print(\"not escaped, part of set\")"
   ]
  },
  {
   "cell_type": "code",
   "execution_count": null,
   "id": "69c4136c",
   "metadata": {},
   "outputs": [],
   "source": [
    "iterate(1 + 0j)"
   ]
  },
  {
   "cell_type": "code",
   "execution_count": null,
   "id": "1dca952c",
   "metadata": {},
   "outputs": [],
   "source": [
    "iterate(2 + 0j)"
   ]
  },
  {
   "cell_type": "code",
   "execution_count": null,
   "id": "51827eb9",
   "metadata": {},
   "outputs": [],
   "source": [
    "iterate(0 + 1j)"
   ]
  },
  {
   "cell_type": "code",
   "execution_count": null,
   "id": "61146c15",
   "metadata": {},
   "outputs": [],
   "source": [
    "iterate(0 + 0j)"
   ]
  },
  {
   "cell_type": "code",
   "execution_count": null,
   "id": "967a4087",
   "metadata": {},
   "outputs": [],
   "source": [
    "iterate(0 + 0.5j)"
   ]
  },
  {
   "cell_type": "markdown",
   "id": "268b3e77",
   "metadata": {},
   "source": [
    "Expected periodic behavior:\n",
    "\n",
    "![periods](https://upload.wikimedia.org/wikipedia/commons/thumb/0/0e/Mandelbrot_Set_%E2%80%93_Periodicities_coloured.png/666px-Mandelbrot_Set_%E2%80%93_Periodicities_coloured.png)"
   ]
  },
  {
   "cell_type": "code",
   "execution_count": null,
   "id": "087ade33",
   "metadata": {},
   "outputs": [],
   "source": [
    "\n",
    "cx = [-2.5, 1.5]\n",
    "cy = [-1.5, 1.5]\n",
    "points_x = 80\n",
    "points_y = 60\n",
    "dx = (cx[1] - cx[0]) / points_x\n",
    "dy = (cy[1] - cy[0]) / points_y\n",
    "max_iter = 1000\n",
    "\n",
    "for y in range(points_y):\n",
    "    for x in range(points_x):\n",
    "        z = 0+0j\n",
    "        c = complex((cx[0] + x*dx), (cy[0] + y*dy))\n",
    "        v = set()\n",
    "        v.add(z)\n",
    "        p = set()\n",
    "        escaped = False\n",
    "        period = False\n",
    "        for i in range(max_iter):\n",
    "            zn = z**2 + c\n",
    "            if zn in v:\n",
    "                if zn in p:\n",
    "                    period = True\n",
    "                    print(str(len(p) % 10), end=\"\")\n",
    "                    break\n",
    "                else:\n",
    "                    p.add(zn)\n",
    "            if abs(zn) > 2:\n",
    "                escaped = True\n",
    "                break\n",
    "            v.add(zn)\n",
    "            z = zn\n",
    "        if not period:\n",
    "            print(\" \", end=\"\")\n",
    "    print()\n"
   ]
  },
  {
   "cell_type": "code",
   "execution_count": null,
   "id": "5f815c9c",
   "metadata": {},
   "outputs": [],
   "source": [
    "# detect loops and use loop for color (16 gray scale)\n",
    "\n",
    "import io\n",
    "import numpy as np\n",
    "import matplotlib\n",
    "from PIL import Image as PImage\n",
    "from IPython.display import Image\n",
    "\n",
    "cx = [-2.5, 1.5]\n",
    "cy = [-1.5, 1.5]\n",
    "points_x = 800\n",
    "points_y = 600\n",
    "dx = (cx[1] - cx[0]) / points_x\n",
    "dy = (cy[1] - cy[0]) / points_y\n",
    "max_iter = 1000\n",
    "\n",
    "mandelbrot = np.zeros((points_y, points_x), dtype=np.uint8)\n",
    "\n",
    "for y in range(points_y):\n",
    "    for x in range(points_x):\n",
    "        z = 0+0j\n",
    "        c = complex((cx[0] + x*dx), (cy[0] + y*dy))\n",
    "        v = set()\n",
    "        v.add(z)\n",
    "        p = set()\n",
    "        escaped = False\n",
    "        for i in range(max_iter):\n",
    "            zn = z**2 + c\n",
    "            # encountered value before?\n",
    "            if zn in v:\n",
    "                # found a period?\n",
    "                if zn in p:\n",
    "                    mandelbrot[y][x] = (len(p) % 16) * 16 + 15\n",
    "                    break\n",
    "                else:\n",
    "                    p.add(zn)\n",
    "            if abs(zn) > 2:\n",
    "                escaped = True\n",
    "                break\n",
    "            v.add(zn)\n",
    "            z = zn\n",
    "\n",
    "img = PImage.fromarray(mandelbrot)\n",
    "img_bytes = io.BytesIO()\n",
    "img.save(img_bytes, format=\"PNG\")\n",
    "Image(img_bytes.getvalue())"
   ]
  }
 ],
 "metadata": {
  "kernelspec": {
   "display_name": "Python 3 (ipykernel)",
   "language": "python",
   "name": "python3"
  },
  "language_info": {
   "codemirror_mode": {
    "name": "ipython",
    "version": 3
   },
   "file_extension": ".py",
   "mimetype": "text/x-python",
   "name": "python",
   "nbconvert_exporter": "python",
   "pygments_lexer": "ipython3",
   "version": "3.8.10"
  }
 },
 "nbformat": 4,
 "nbformat_minor": 5
}
