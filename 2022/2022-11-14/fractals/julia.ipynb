{
 "cells": [
  {
   "cell_type": "markdown",
   "id": "f3c40652",
   "metadata": {},
   "source": [
    "# Julia set\n",
    "\n",
    "[Julia sets](https://en.wikipedia.org/wiki/Julia_set) were named after French mathematician [Gaston Julia](https://en.wikipedia.org/wiki/Gaston_Julia).\n",
    "\n",
    "$f_c(z) = z^2 + c$\n",
    "\n",
    "where $c$ is a fixed, complex parameter and $z_0$ is from the complex plane.\n",
    "\n",
    "Relation to Mandelbrot set:\n",
    "- if $c$ is from inside the Mandelbrot set, then the Julia set has an inner part\n",
    "- if $c$ is from the Mandelbrot set boundary, then the Julia set is a dendrite\n",
    "- if $c$ is from outside the Mandelbrot set, then the  Julia set is a Fatou dust"
   ]
  },
  {
   "cell_type": "code",
   "execution_count": null,
   "id": "0d4fb3ae",
   "metadata": {},
   "outputs": [],
   "source": [
    "import io\n",
    "import numpy as np\n",
    "from PIL import Image as PImage\n",
    "from IPython.display import Image\n",
    "\n",
    "def calculate(c, max_iter=100):\n",
    "    zx = [-2.0, 2.0]\n",
    "    zy = [-1.5, 1.5]\n",
    "    points_x = 400\n",
    "    points_y = 300\n",
    "    dx = (zx[1] - zx[0]) / points_x\n",
    "    dy = (zy[1] - zy[0]) / points_y\n",
    "\n",
    "    julia = np.zeros((points_y, points_x), dtype=np.uint8)\n",
    "\n",
    "    for y in range(points_y):\n",
    "        for x in range(points_x):\n",
    "            z = complex((zx[0] + x*dx), (zy[0] + y*dy))\n",
    "            for i in range(max_iter):\n",
    "                zn = z**2 + c\n",
    "                if abs(zn) > 2:\n",
    "                    julia[y][x] = (i % 16) * 16 + 15\n",
    "                    break\n",
    "                z = zn\n",
    "\n",
    "    img = PImage.fromarray(julia)\n",
    "    img_bytes = io.BytesIO()\n",
    "    img.save(img_bytes, format=\"PNG\")\n",
    "    return Image(img_bytes.getvalue())"
   ]
  },
  {
   "cell_type": "code",
   "execution_count": null,
   "id": "7b43781f",
   "metadata": {},
   "outputs": [],
   "source": [
    "calculate(0 + 0j)"
   ]
  },
  {
   "cell_type": "code",
   "execution_count": null,
   "id": "16074d66",
   "metadata": {},
   "outputs": [],
   "source": [
    "calculate(0 + 0.5j)"
   ]
  },
  {
   "cell_type": "code",
   "execution_count": null,
   "id": "a0d2439b",
   "metadata": {},
   "outputs": [],
   "source": [
    "calculate(-0.5 + 0j)"
   ]
  },
  {
   "cell_type": "code",
   "execution_count": null,
   "id": "e8777c9b",
   "metadata": {},
   "outputs": [],
   "source": [
    "calculate(-1+0j)"
   ]
  },
  {
   "cell_type": "code",
   "execution_count": null,
   "id": "5e6c6717",
   "metadata": {},
   "outputs": [],
   "source": [
    "calculate(0 + 1j)"
   ]
  },
  {
   "cell_type": "code",
   "execution_count": null,
   "id": "d972e0eb",
   "metadata": {},
   "outputs": [],
   "source": [
    "calculate(0.1 + 1j)"
   ]
  }
 ],
 "metadata": {
  "kernelspec": {
   "display_name": "Python 3 (ipykernel)",
   "language": "python",
   "name": "python3"
  },
  "language_info": {
   "codemirror_mode": {
    "name": "ipython",
    "version": 3
   },
   "file_extension": ".py",
   "mimetype": "text/x-python",
   "name": "python",
   "nbconvert_exporter": "python",
   "pygments_lexer": "ipython3",
   "version": "3.8.10"
  }
 },
 "nbformat": 4,
 "nbformat_minor": 5
}
