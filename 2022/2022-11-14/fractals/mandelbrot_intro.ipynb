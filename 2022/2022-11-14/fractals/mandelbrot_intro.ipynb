{
 "cells": [
  {
   "cell_type": "markdown",
   "id": "5f0f7da2",
   "metadata": {},
   "source": [
    "# Mandelbrot set - Intro\n",
    "\n",
    "$z_{n+1} = z_{n}^2 + c$\n",
    "\n",
    "$z_0 = 0$ and $c$ from the [complex plane](https://en.wikipedia.org/wiki/Complex_number)\n",
    "\n",
    "A point $c$ belongs to the Mandelbrot set if and only if $|z_n|\\leq 2$ for all $n\\geq 0$.\n",
    "\n",
    "Named after [Benoit B, Mandelbrot](https://en.wikipedia.org/wiki/Benoit_Mandelbrot)."
   ]
  },
  {
   "cell_type": "code",
   "execution_count": null,
   "id": "a7b96941",
   "metadata": {},
   "outputs": [],
   "source": [
    "def iterate(c, max_iter=100):\n",
    "    print(\"c = %s\" % str(c))\n",
    "    z = 0 + 0j\n",
    "    escaped = False\n",
    "    for i in range(max_iter):\n",
    "        zn = z**2 + c\n",
    "        print(\"z%d = %s\" % (i, str(zn)))\n",
    "        if abs(zn) > 2:\n",
    "            escaped = True\n",
    "            print(\"escaped at iteration %d\" % i)\n",
    "            break\n",
    "        z = zn\n",
    "    if not escaped:\n",
    "        print(\"not escaped, part of set\")"
   ]
  },
  {
   "cell_type": "code",
   "execution_count": null,
   "id": "69c4136c",
   "metadata": {},
   "outputs": [],
   "source": [
    "iterate(1 + 0j)"
   ]
  },
  {
   "cell_type": "code",
   "execution_count": null,
   "id": "1dca952c",
   "metadata": {},
   "outputs": [],
   "source": [
    "iterate(2 + 0j)"
   ]
  },
  {
   "cell_type": "code",
   "execution_count": null,
   "id": "51827eb9",
   "metadata": {},
   "outputs": [],
   "source": [
    "iterate(0 + 1j)"
   ]
  }
 ],
 "metadata": {
  "kernelspec": {
   "display_name": "Python 3 (ipykernel)",
   "language": "python",
   "name": "python3"
  },
  "language_info": {
   "codemirror_mode": {
    "name": "ipython",
    "version": 3
   },
   "file_extension": ".py",
   "mimetype": "text/x-python",
   "name": "python",
   "nbconvert_exporter": "python",
   "pygments_lexer": "ipython3",
   "version": "3.8.10"
  }
 },
 "nbformat": 4,
 "nbformat_minor": 5
}
