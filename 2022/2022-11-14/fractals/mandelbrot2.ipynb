{
 "cells": [
  {
   "cell_type": "markdown",
   "id": "f3c40652",
   "metadata": {},
   "source": [
    "# Mandelbrot set 2\n",
    "\n",
    "Plot the *modulo 10* of the iteration that marked the escape."
   ]
  },
  {
   "cell_type": "code",
   "execution_count": null,
   "id": "0d4fb3ae",
   "metadata": {},
   "outputs": [],
   "source": [
    "cx = [-2.5, 1.5]\n",
    "cy = [-1.5, 1.5]\n",
    "points_x = 80\n",
    "points_y = 60\n",
    "dx = (cx[1] - cx[0]) / points_x\n",
    "dy = (cy[1] - cy[0]) / points_y\n",
    "max_iter = 100\n",
    "\n",
    "for y in range(points_y):\n",
    "    for x in range(points_x):\n",
    "        z = 0+0j\n",
    "        c = complex((cx[0] + x*dx), (cy[0] + y*dy))\n",
    "        escaped = False\n",
    "        for i in range(max_iter):\n",
    "            zn = z**2 + c\n",
    "            if abs(zn) > 2:\n",
    "                escaped = True\n",
    "                print(str(i % 10), end=\"\")\n",
    "                break\n",
    "            z = zn\n",
    "        if not escaped:\n",
    "            print(\" \", end=\"\")\n",
    "    print()\n"
   ]
  },
  {
   "cell_type": "code",
   "execution_count": null,
   "id": "16074d66",
   "metadata": {},
   "outputs": [],
   "source": []
  }
 ],
 "metadata": {
  "kernelspec": {
   "display_name": "Python 3 (ipykernel)",
   "language": "python",
   "name": "python3"
  },
  "language_info": {
   "codemirror_mode": {
    "name": "ipython",
    "version": 3
   },
   "file_extension": ".py",
   "mimetype": "text/x-python",
   "name": "python",
   "nbconvert_exporter": "python",
   "pygments_lexer": "ipython3",
   "version": "3.8.10"
  }
 },
 "nbformat": 4,
 "nbformat_minor": 5
}
