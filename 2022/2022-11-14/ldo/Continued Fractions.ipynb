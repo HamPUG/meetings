{
 "cells": [
  {
   "cell_type": "markdown",
   "metadata": {},
   "source": [
    "Useful links:\n",
    "\n",
    "* [Continued Fractions](https://mathworld.wolfram.com/topics/ContinuedFractions.html) at Wolfram MathWorld\n",
    "* Python’s standard [decimal](https://docs.python.org/3/library/decimal.html) package"
   ]
  },
  {
   "cell_type": "markdown",
   "metadata": {},
   "source": [
    "A _continued fraction_ is a formula that looks like\n",
    "\n",
    "$$b_0 + {a_1 \\over {b_1 + {a_2 \\over {b_2 + {a_3 \\over {b_3 ...}}}}}}$$\n",
    "\n",
    "where the $a$s and $b$s are integers. In general, the sequences of terms could be infinite, but to be interesting, the series has to _converge_: as you evaluate more and more terms, you get an answer closer to some number.\n",
    "\n",
    "Interesting cases are where the $a_n$ and the $b_n$ follow particular patterns. Another special case is the _simple continued fractions_, where the $a_n$ (the _partial numerators_) are all 1.\n",
    "\n",
    "Just about the simplest possible example: what is the value of\n",
    "\n",
    "$$x = {1 + {1 \\over {1 + {1 \\over{1 + {1 \\over {1 ...}}}}}}}$$\n",
    "\n",
    "?\n",
    "\n",
    "Factoring out the nested recurrence of the whole formula within itself, this equation can be rewritten in a closed form:\n",
    "\n",
    "$$x = 1 + {1 \\over x}$$\n",
    "\n",
    "from which\n",
    "\n",
    "$$x - 1 = {1 \\over x}$$\n",
    "\n",
    "or, multiplying both sides by $x$:\n",
    "\n",
    "$$x^2 - x = 1$$\n",
    "\n",
    "Which we can solve by “completing the square”:\n",
    "\n",
    "$$\\begin{align}\n",
    "x^2 - x + {1 \\over 4} & = {5 \\over 4} \\\\\n",
    "& = (x - {1 \\over 2})(x - {1 \\over 2})\n",
    "\\end{align}$$\n",
    "\n",
    "So\n",
    "\n",
    "$${x - {1 \\over 2}} = {{± \\sqrt 5} \\over 2}$$\n",
    "\n",
    "(remembering that square roots can be positive or negative), from which\n",
    "\n",
    "$$x = {{± \\sqrt 5 + 1} \\over 2}$$\n",
    "\n",
    "which has two answers:\n",
    "\n",
    "$$\\begin{align}\n",
    "x & = {+ {\\sqrt 5 + 1} \\over 2} \\\\\n",
    "& = 1.618033988...\n",
    "\\end{align}$$\n",
    "\n",
    "and\n",
    "\n",
    "$$\\begin{align}\n",
    "x & = {- {\\sqrt 5 + 1} \\over 2} \\\\\n",
    "& = - 0.618033988...\n",
    "\\end{align}$$\n",
    "\n",
    "These numbers are the well-known “golden number” or “golden ratio”, and its (negated) reciprocal. But clearly the successive approximations to the original continued fraction sum are all positive, so correct answer to the limit value must be the positive one."
   ]
  },
  {
   "cell_type": "code",
   "execution_count": null,
   "metadata": {},
   "outputs": [],
   "source": [
    "import decimal\n",
    "\n",
    "Dec = decimal.Decimal\n",
    "decctx = decimal.getcontext()\n",
    "decctx.prec = 64\n",
    "\n",
    "from IPython.display import \\\n",
    "    Latex, \\\n",
    "    display as ipython_display"
   ]
  },
  {
   "cell_type": "markdown",
   "metadata": {},
   "source": [
    "In the Python code, I will represent the continued fraction as a list of coefficients [$b_0$, $a_1$, $b_1$, $a_2$ ...]. The following function will display the corresponding mathematical formula for a _finite_ list of coefficients:"
   ]
  },
  {
   "cell_type": "code",
   "execution_count": null,
   "metadata": {},
   "outputs": [],
   "source": [
    "def display_continued_fraction(coeffs) :\n",
    "\n",
    "    def format(coeffs) :\n",
    "        if len(coeffs) > 2 :\n",
    "            s = \"{%d \\over %s}\" % (coeffs[1], format(coeffs[2:]))\n",
    "        elif len(coeffs) == 2 :\n",
    "            s = \"%d\" % coeffs[1]\n",
    "        else :\n",
    "            s = None\n",
    "        #end if\n",
    "        if s != None :\n",
    "            s = \"{%d + %s}\" % (coeffs[0], s)\n",
    "        else :\n",
    "            s = \"%d\" % coeffs[0]\n",
    "        #end if\n",
    "        return s\n",
    "    #end format\n",
    "\n",
    "#begin display_continued_fraction\n",
    "    ipython_display(Latex(\"$%s$\" % format(coeffs)))\n",
    "#end format_continued_fraction"
   ]
  },
  {
   "cell_type": "markdown",
   "metadata": {},
   "source": [
    "while this one will actually evaluate the fraction as a `Decimal` value:"
   ]
  },
  {
   "cell_type": "code",
   "execution_count": null,
   "metadata": {},
   "outputs": [],
   "source": [
    "def evaluate_continued_fraction(coeffs) :\n",
    "    if len(coeffs) % 2 == 0 :\n",
    "        coeffs += [1]\n",
    "    #end if\n",
    "    result = Dec(coeffs[-1])\n",
    "    i = len(coeffs) - 1\n",
    "    while i > 0 :\n",
    "        result = coeffs[i - 1] / result + coeffs[i - 2]\n",
    "        i -= 2\n",
    "    #end while\n",
    "    return result\n",
    "#end evaluate_continued_fraction"
   ]
  },
  {
   "cell_type": "markdown",
   "metadata": {},
   "source": [
    "Example: display the series for $\\phi$, to some specified number of terms:"
   ]
  },
  {
   "cell_type": "code",
   "execution_count": null,
   "metadata": {},
   "outputs": [],
   "source": [
    "display_continued_fraction([1] * 20)"
   ]
  },
  {
   "cell_type": "markdown",
   "metadata": {},
   "source": [
    "Evaluate that series:"
   ]
  },
  {
   "cell_type": "code",
   "execution_count": null,
   "metadata": {},
   "outputs": [],
   "source": [
    "evaluate_continued_fraction([1] * 300)"
   ]
  },
  {
   "cell_type": "markdown",
   "metadata": {},
   "source": [
    "which is a good approximation to $\\phi$:"
   ]
  },
  {
   "cell_type": "code",
   "execution_count": null,
   "metadata": {},
   "outputs": [],
   "source": [
    "(Dec(5).sqrt() + 1) / 2"
   ]
  },
  {
   "cell_type": "markdown",
   "metadata": {},
   "source": [
    "The following function generates a sequence for $\\pi$ derived from the formula for $4 \\over \\pi$ from [here](https://mathworld.wolfram.com/PiContinuedFraction.html):"
   ]
  },
  {
   "cell_type": "code",
   "execution_count": null,
   "metadata": {},
   "outputs": [],
   "source": [
    "def pi_continued_fraction_1() :\n",
    "    yield 0\n",
    "    yield 4\n",
    "    i = j = 1\n",
    "    while True :\n",
    "        yield i\n",
    "        yield j * j\n",
    "        i = 2\n",
    "        j += 2\n",
    "    #end while\n",
    "#end pi_continued_fraction_1"
   ]
  },
  {
   "cell_type": "markdown",
   "metadata": {},
   "source": [
    "I’m too lazy to put a termination condition in the generator, so it will produce a never-ending sequence of terms. Clearly I cannot evaluate such an infinite list, so I use a handy function from the standard [`itertools`](https://docs.python.org/3/library/itertools.html) package to truncate the generator sequence to some specified length:"
   ]
  },
  {
   "cell_type": "code",
   "execution_count": null,
   "metadata": {},
   "outputs": [],
   "source": [
    "import itertools"
   ]
  },
  {
   "cell_type": "code",
   "execution_count": null,
   "metadata": {},
   "outputs": [],
   "source": [
    "print(list(itertools.islice(pi_continued_fraction_1(), 25)))"
   ]
  },
  {
   "cell_type": "code",
   "execution_count": null,
   "metadata": {},
   "outputs": [],
   "source": [
    "display_continued_fraction(list(itertools.islice(pi_continued_fraction_1(), 25)))"
   ]
  },
  {
   "cell_type": "code",
   "execution_count": null,
   "metadata": {},
   "outputs": [],
   "source": [
    "evaluate_continued_fraction(list(itertools.islice(pi_continued_fraction_1(), 100000)))"
   ]
  },
  {
   "cell_type": "markdown",
   "metadata": {},
   "source": [
    "But this formula seems very slow to converge: even 100000 terms only gives about 5 figures. Compare `math.pi`:"
   ]
  },
  {
   "cell_type": "code",
   "execution_count": null,
   "metadata": {},
   "outputs": [],
   "source": [
    "import math\n",
    "\n",
    "math.pi"
   ]
  },
  {
   "cell_type": "markdown",
   "metadata": {},
   "source": [
    "Or compare this function, adapted from the [recipes section](https://docs.python.org/3/library/decimal.html#recipes) of the `decimal` module documentation:"
   ]
  },
  {
   "cell_type": "code",
   "execution_count": null,
   "metadata": {},
   "outputs": [],
   "source": [
    "def decimal_pi():\n",
    "    with decimal.localcontext() as decctx :\n",
    "        decctx.prec += 2    # extra digits for intermediate steps\n",
    "        t = Dec(3)      # substitute 3.0 for regular floats\n",
    "        lasts, s, n, na, d, da = 0, 3, 1, 0, 0, 24\n",
    "        nr_steps = 0\n",
    "        while s != lasts :\n",
    "            nr_steps += 1\n",
    "            lasts = s\n",
    "            n, na = n + na, na + 8\n",
    "            d, da = d + da, da + 32\n",
    "            t = t * n / d\n",
    "            s += t\n",
    "        #end while\n",
    "    #end with\n",
    "    print(\"nr_steps = %d\" % nr_steps)\n",
    "    return +s               # unary plus applies the new precision\n",
    "#end decimal_pi\n",
    "\n",
    "decimal_pi()"
   ]
  },
  {
   "cell_type": "markdown",
   "metadata": {},
   "source": [
    "As you can see, this converges a lot quicker.\n",
    "\n",
    "How about using the formula for $\\pi \\over 2$ instead:"
   ]
  },
  {
   "cell_type": "code",
   "execution_count": null,
   "metadata": {},
   "outputs": [],
   "source": [
    "def pi_continued_fraction_2() :\n",
    "    yield 2\n",
    "    yield -2\n",
    "    i = 1\n",
    "    while True :\n",
    "        yield 3\n",
    "        yield - (i + 1) * (i + 2)\n",
    "        yield 1\n",
    "        yield - i * (i + 1)\n",
    "        i += 2\n",
    "    #end while\n",
    "#end pi_continued_fraction_2"
   ]
  },
  {
   "cell_type": "code",
   "execution_count": null,
   "metadata": {},
   "outputs": [],
   "source": [
    "print(list(itertools.islice(pi_continued_fraction_2(), 25)))"
   ]
  },
  {
   "cell_type": "code",
   "execution_count": null,
   "metadata": {},
   "outputs": [],
   "source": [
    "display_continued_fraction(list(itertools.islice(pi_continued_fraction_2(), 25)))"
   ]
  },
  {
   "cell_type": "code",
   "execution_count": null,
   "metadata": {},
   "outputs": [],
   "source": [
    "evaluate_continued_fraction(list(itertools.islice(pi_continued_fraction_2(), 100000)))"
   ]
  },
  {
   "cell_type": "markdown",
   "metadata": {},
   "source": [
    "Even this has very slow convergence. But the irregular sequence at the start of that page is much better:"
   ]
  },
  {
   "cell_type": "code",
   "execution_count": null,
   "metadata": {},
   "outputs": [],
   "source": [
    "display_continued_fraction([3, 1, 7, 1, 15, 1, 1, 1, 292])"
   ]
  },
  {
   "cell_type": "code",
   "execution_count": null,
   "metadata": {},
   "outputs": [],
   "source": [
    "evaluate_continued_fraction([3, 1, 7, 1, 15, 1, 1, 1, 292])"
   ]
  },
  {
   "cell_type": "markdown",
   "metadata": {},
   "source": [
    "As you can see, even just a few terms already gives 10 figures! Which seems very good, until you realize that\n",
    "* there is no simple sequence to the coefficients, so to determine them, you have to know what $\\pi$ is to begin with, and\n",
    "* the coefficients making up that approximation already have more digits than that."
   ]
  },
  {
   "cell_type": "markdown",
   "metadata": {},
   "source": [
    "**Conclusion: What is the value of continued fractions?**\n",
    "\n",
    "Clearly mathematicians have a lot of fun with them. But speaking as someone who does computation on a daily basis, I have to say I don’t think they’re a practical way of evaluating anything. Maybe I’m wrong, and someone who has delved more deeply into them caan offer better examples of how to use them ..."
   ]
  },
  {
   "cell_type": "code",
   "execution_count": null,
   "metadata": {},
   "outputs": [],
   "source": []
  }
 ],
 "metadata": {
  "kernelspec": {
   "display_name": "Python 3 (ipykernel)",
   "language": "python",
   "name": "python3"
  },
  "language_info": {
   "codemirror_mode": {
    "name": "ipython",
    "version": 3
   },
   "file_extension": ".py",
   "mimetype": "text/x-python",
   "name": "python",
   "nbconvert_exporter": "python",
   "pygments_lexer": "ipython3",
   "version": "3.10.7"
  }
 },
 "nbformat": 4,
 "nbformat_minor": 1
}
