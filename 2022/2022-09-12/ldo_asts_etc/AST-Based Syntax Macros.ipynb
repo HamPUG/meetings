{
 "cells": [
  {
   "cell_type": "markdown",
   "metadata": {},
   "source": [
    "**Goal:** Implement a macro facility in Python. Do it at the syntax level (_à la_ LISP) rather than the text level (as with `#define` in C and derivatives).\n",
    "\n",
    "**Why is this useful?** It allows for more code reuse. In my [DBussy](https://github.com/ldo/dbussy/) Python wrapper for `libdbus`, I try to provide both synchronous and asynchronous alternatives for performing the same function. Here’s one example:\n",
    "\n",
    "    def get_proxy_interface(self, destination, path, interface, timeout = DBUS.TIMEOUT_USE_DEFAULT) :\n",
    "        \"sends an Introspect request to the specified bus name and object path\" \\\n",
    "        \" (if interface is not an Interface object or the name of one of the standard\" \\\n",
    "        \" interfaces), and generates a client-side proxy interface for that interface.\"\n",
    "        if isinstance(interface, Introspection.Interface) :\n",
    "            definition = interface\n",
    "            interface = definition.name\n",
    "        elif isinstance(interface, str) :\n",
    "            if interface in dbus.standard_interfaces :\n",
    "                definition = dbus.standard_interfaces[interface]\n",
    "            else :\n",
    "                introspection = self.introspect(destination, path, timeout)\n",
    "                interfaces = introspection.interfaces_by_name\n",
    "                if interface not in interfaces :\n",
    "                    raise dbus.DBusError \\\n",
    "                      (\n",
    "                        DBUS.ERROR_UNKNOWN_INTERFACE,\n",
    "                            \"peer “%s” object “%s” does not understand interface “%s”\"\n",
    "                        %\n",
    "                            (destination, path, interface)\n",
    "                      )\n",
    "                #end if\n",
    "                definition = interfaces[interface]\n",
    "            #end if\n",
    "        else :\n",
    "            raise TypeError(\"interface must be an Interface or name of one\")\n",
    "        #end if\n",
    "        return \\\n",
    "            def_proxy_interface \\\n",
    "              (\n",
    "                name = interface,\n",
    "                kind = INTERFACE.CLIENT,\n",
    "                introspected = definition,\n",
    "                is_async = False\n",
    "              )\n",
    "    #end get_proxy_interface\n",
    "\n",
    "    async def get_proxy_interface_async(self, destination, path, interface, timeout = DBUS.TIMEOUT_USE_DEFAULT) :\n",
    "        \"sends an Introspect request to the specified bus name and object path\" \\\n",
    "        \" (if interface is not an Interface object or the name of one of the standard\" \\\n",
    "        \" interfaces), and generates a client-side proxy interface for that interface.\"\n",
    "        assert self.loop != None, \"no event loop to attach coroutine to\"\n",
    "        if isinstance(interface, Introspection.Interface) :\n",
    "            definition = interface\n",
    "            interface = definition.name\n",
    "        elif isinstance(interface, str) :\n",
    "            if interface in dbus.standard_interfaces :\n",
    "                definition = dbus.standard_interfaces[interface]\n",
    "            else :\n",
    "                introspection = await self.introspect_async(destination, path, timeout)\n",
    "                interfaces = introspection.interfaces_by_name\n",
    "                if interface not in interfaces :\n",
    "                    raise dbus.DBusError \\\n",
    "                      (\n",
    "                        DBUS.ERROR_UNKNOWN_INTERFACE,\n",
    "                            \"peer “%s” object “%s” does not understand interface “%s”\"\n",
    "                        %\n",
    "                            (destination, path, interface)\n",
    "                      )\n",
    "                #end if\n",
    "                definition = interfaces[interface]\n",
    "            #end if\n",
    "        else :\n",
    "            raise TypeError(\"interface must be an Interface or name of one\")\n",
    "        #end if\n",
    "        return \\\n",
    "            def_proxy_interface \\\n",
    "              (\n",
    "                name = interface,\n",
    "                kind = INTERFACE.CLIENT,\n",
    "                introspected = definition,\n",
    "                is_async = True\n",
    "              )\n",
    "    #end get_proxy_interface_async\n",
    "\n",
    "You can see how the two functions are so close to being the same, yet there is no way in Python to write just one function that can work both ways; a function declared with plain `def` is not allowed to have `async`/`await` constructs in it, and one declared `async` `def` cannot simply be invoked by the caller as a normal function. So we need two parallel versions, and so any change to fix a bug or add functionality in one will likely apply to the other as well, and so will need to be done twice."
   ]
  },
  {
   "cell_type": "markdown",
   "metadata": {},
   "source": [
    "You could imagine using the C preprocessor to `#define` some common macro that could expand to both versions. But it is well-known that text-level macro processing is fiddly and fragile, and prone to mysterious compile-time errors if you are not careful. Here is a simple example I found in `/usr/include/bits/select.h`:\n",
    "\n",
    "    #define __FD_ZERO(s) \\\n",
    "      do {\t\t\t\t\t\t\t\t\t      \\\n",
    "        unsigned int __i;\t\t\t\t\t\t\t      \\\n",
    "        fd_set *__arr = (s);\t\t\t\t\t\t      \\\n",
    "        for (__i = 0; __i < sizeof (fd_set) / sizeof (__fd_mask); ++__i)\t      \\\n",
    "          __FDS_BITS (__arr)[__i] = 0;\t\t\t\t\t      \\\n",
    "      } while (0)\n",
    "\n",
    "(In `/usr/include/sys/select.h`, the name `FD_ZERO` is defined as a synonym for `__FD_ZERO`.)\n",
    "\n",
    "While the macro uses a `do`-`while` block to define its own scope, the expansion of the `s` argument brings the whole of the caller’s expression for that argument into that scope. Note the double-underscores in front of all the local variable names: you better hope those will not clash with variables used in the caller’s code!\n",
    "\n",
    "You may think that the C preprocessor is not a good example of the power available with a more general macro-processing facility. So how about [`m4`](https://www.gnu.org/software/m4/), then? If you have ever worked on a project that uses GNU Autotools for its build system, then you will have made use of `m4`, whether you noticed it or not.\n",
    "\n",
    "Only this is, if anything, even more fiddly and fragile, and prone to causing mysterious syntax errors in the target language if you are not careful. Let me offer one mildly non-trivial example of `m4` in use that I did some years ago, based on one I found in a book I read back in my teens (enclosed `mow.m4` file).\n",
    "\n",
    "Those who have encountered LISP or Scheme or one of those languages will be familiar with its having lots of parentheses. The weird syntax basically means that the language representation is already essentially in AST form. This means, for example, that LISP-family languages can provide very powerful, yet non-fiddly and non-fragile macro facilities, that work directly at the syntax level."
   ]
  },
  {
   "cell_type": "markdown",
   "metadata": {},
   "source": [
    "So anyway, how do we go about implementing a syntax-level macro system for Python, using its [`ast`](https://docs.python.org/3/library/ast.html) library module? In the following, I will go over the basic steps that are needed just for a proof of concept, rather than present a finished product. Just to simplify things, I won’t directly tackle the example I gave above, but make up a simpler one instead.\n",
    "\n",
    "Here is a function that will sleep for the specified number of seconds. It is to be provided in a synchronous version that blocks the thread by calling `time.sleep()`, and an asynchronous version that only blocks the current `asyncio` task by calling `await asyncio.sleep()`. The two alternative code paths will be distinguished by testing a variable called `ASYNC`, which you will not is not defined anywhere:"
   ]
  },
  {
   "cell_type": "code",
   "execution_count": null,
   "metadata": {},
   "outputs": [],
   "source": [
    "class Sample :\n",
    "\n",
    "    async def test_syncasync(interval) :\n",
    "        print(\"begin\")\n",
    "        if ASYNC :\n",
    "            print(\"async sleep for %.1fs\" % interval)\n",
    "            await asyncio.sleep(interval)\n",
    "        else :\n",
    "            print(\"sync sleep for %.1fs\" % interval)\n",
    "            time.sleep(interval)\n",
    "        #end if\n",
    "        print(\"end\")\n",
    "    #end test_syncasync\n",
    "\n",
    "#end Sample\n"
   ]
  },
  {
   "cell_type": "markdown",
   "metadata": {},
   "source": [
    "You can see that there is some code that will be common to both variants, while other code will be different for each variant.\n",
    "\n",
    "We could have written the function source as a triple-quoted multiline Python string literal. I like writing the function as an ordinary part of the Python source code so that as it gets compiled along with the rest of the program, and even though the generated code is effectively thrown away, likely syntax errors will still get flushed out at this point.\n",
    "\n",
    "This does mean we need to get back the source code from the function object. Luckily, we can use the `inspect` module to achieve this:"
   ]
  },
  {
   "cell_type": "code",
   "execution_count": null,
   "metadata": {},
   "outputs": [],
   "source": [
    "import inspect\n",
    "\n",
    "funcsrc = inspect.getsource(Sample.test_syncasync)\n",
    "funcsrc = \"\\n\".join(l[4:] for l in funcsrc.split(\"\\n\"))\n",
    "  # undo indentation\n",
    "print(funcsrc)"
   ]
  },
  {
   "cell_type": "markdown",
   "metadata": {},
   "source": [
    "Note the need to strip off the indentation from putting the function into its own separate namespace class.\n",
    "\n",
    "Consider the transformations we have to perform on the code: the `async def` needs to be changed to plain `def` for the synchronous version. We also need to scan the body for `if ASYNC ...` blocks, and replace them with one alternative for the async version, and the other for the sync version.\n",
    "\n",
    "The `ast` module defines a handy `NodeTransformer` class which actually makes it quite easy to perform these transformations. Here is my `ConditionalExpander` class which does the necessary work:"
   ]
  },
  {
   "cell_type": "code",
   "execution_count": null,
   "metadata": {},
   "outputs": [],
   "source": [
    "import ast\n",
    "\n",
    "class ConditionalExpander(ast.NodeTransformer) :\n",
    "    \"generates synchronous or asynchronous variant of a function from common code.\"\n",
    "\n",
    "    def __init__(self, funcname, newfuncname, is_async) :\n",
    "        self.funcname = funcname\n",
    "        self.newfuncname = newfuncname\n",
    "        self.is_async = is_async\n",
    "    #end __init__\n",
    "\n",
    "    def visit_AsyncFunctionDef(self, node) :\n",
    "        assert node.name == self.funcname\n",
    "          # only expect to deal with one function\n",
    "        body = list(self.visit(b) for b in node.body)\n",
    "        if self.is_async :\n",
    "            result = node\n",
    "            result.name = self.newfuncname\n",
    "            result.body = body\n",
    "        else :\n",
    "            result = ast.FunctionDef \\\n",
    "              (\n",
    "                name = self.newfuncname,\n",
    "                args = node.args,\n",
    "                body = body,\n",
    "                decorator_list = node.decorator_list,\n",
    "                returns = node.returns,\n",
    "                type_comment = node.type_comment\n",
    "              )\n",
    "        #end if\n",
    "        return \\\n",
    "            result\n",
    "    #end visit_AsyncFunctionDef\n",
    "\n",
    "    def visit_If(self, node) :\n",
    "        result = None\n",
    "        if isinstance(node.test, ast.Name) :\n",
    "            if node.test.id == \"ASYNC\" and isinstance(node.test.ctx, ast.Load) :\n",
    "                if self.is_async :\n",
    "                    if len(node.body) > 1 :\n",
    "                        result = ast.If \\\n",
    "                          (\n",
    "                            test = ast.Constant(True),\n",
    "                            body = node.body,\n",
    "                            orelse = []\n",
    "                          )\n",
    "                    elif len(node.body) == 1 :\n",
    "                        result = node.body[0]\n",
    "                    else :\n",
    "                        result = ast.Pass()\n",
    "                    #end if\n",
    "                else :\n",
    "                    if len(node.orelse) > 1 :\n",
    "                        result = ast.If \\\n",
    "                          (\n",
    "                            test = ast.Constant(True),\n",
    "                            body = node.orelse,\n",
    "                            orelse = []\n",
    "                          )\n",
    "                    elif len(node.orelse) == 1 :\n",
    "                        result = node.orelse[0]\n",
    "                    else :\n",
    "                        result = ast.Pass()\n",
    "                    #end if\n",
    "                #end if\n",
    "            #end if\n",
    "        #end if\n",
    "        if result == None :\n",
    "            result = ast.If \\\n",
    "              (\n",
    "                test = node.test,\n",
    "                body = list(self.visit(b) for b in node.body),\n",
    "                orelse = list(self.visit(b) for b in node.orelse),\n",
    "              )\n",
    "        #end if\n",
    "        return \\\n",
    "            result\n",
    "    #end visit_If\n",
    "\n",
    "#end ConditionalExpander\n"
   ]
  },
  {
   "cell_type": "markdown",
   "metadata": {},
   "source": [
    "Notice how this subclass defines `visit_`_xxx_`()` methods which will be automatically invoked when the appropriate node types are encountered. The one for `AsyncFunctionDef` does nothing more than change the function name for the asynchronous version, while completely replacing that with a `FunctionDef` node, with the same components, for the synchronous version.\n",
    "\n",
    "The one that substitutes `if`-statements checks for a condition that is nothing more or less than a reference to the variable `ASYNC`. There is some trickiness about how to remove the `if`-statement, since I cannot return a list of nodes as its replacement, and there is no Python syntax for “sequence of nodes”. If the branch I am substituting consists of a single statement, I can return that directly, otherwise if there is more than one statement, I substitute an `if`-statement that just says `if True: «body»`, and if the `if`-branch is empty, I return a simple `pass` statement.\n",
    "\n",
    "So how do I use this? I make two copies of the AST from the original source code (since the transformation process makes modifications to the AST), and run each through the transformer:"
   ]
  },
  {
   "cell_type": "code",
   "execution_count": null,
   "metadata": {},
   "outputs": [],
   "source": [
    "syntax = ast.parse(funcsrc, filename = \"<Sample>\", mode = \"exec\")\n",
    "sync_version = ConditionalExpander(funcname = \"test_syncasync\", newfuncname = \"test_sync\", is_async = False).visit(syntax)\n",
    "syntax = ast.parse(funcsrc, filename = \"<Sample>\", mode = \"exec\")\n",
    "async_version = ConditionalExpander(funcname = \"test_syncasync\", newfuncname = \"test_async\", is_async = True).visit(syntax)\n"
   ]
  },
  {
   "cell_type": "markdown",
   "metadata": {},
   "source": [
    "Now, let us try turning the result back into the source code, and see what we get. Note we need to call `fix_missing_locations` to fill in the source-location attributes that `ast.unparse()` needs:"
   ]
  },
  {
   "cell_type": "code",
   "execution_count": null,
   "metadata": {},
   "outputs": [],
   "source": [
    "ast.fix_missing_locations(sync_version)\n",
    "ast.fix_missing_locations(async_version)\n",
    "print(ast.unparse(sync_version))\n",
    "print()\n",
    "print(ast.unparse(async_version))\n"
   ]
  },
  {
   "cell_type": "markdown",
   "metadata": {},
   "source": [
    "Notice that all traces of that `ASYNC` variable have disappeared.\n",
    "\n",
    "That looks reasonable, doesn’t it? Can we actually call these functions?\n",
    "\n",
    "Yes, but first we need to actually generate function objects that we can call. Let’s do this inside a separate module object, just to contain things to their own namespace:"
   ]
  },
  {
   "cell_type": "code",
   "execution_count": null,
   "metadata": {},
   "outputs": [],
   "source": [
    "import types\n",
    "\n",
    "namespace = types.ModuleType(\"namespace\")\n",
    "\n",
    "exec(\"import time\", namespace.__dict__)\n",
    "exec(\"import asyncio\", namespace.__dict__)\n",
    "\n",
    "exec(compile(sync_version, filename = \"<Sample>\", mode = \"exec\"), namespace.__dict__)\n",
    "exec(compile(async_version, filename = \"<Sample>\", mode = \"exec\"), namespace.__dict__)\n",
    "\n",
    "print(dir(namespace))"
   ]
  },
  {
   "cell_type": "markdown",
   "metadata": {},
   "source": [
    "Now let us try actually calling the synchronous version:"
   ]
  },
  {
   "cell_type": "code",
   "execution_count": null,
   "metadata": {},
   "outputs": [],
   "source": [
    "namespace.test_sync(5)"
   ]
  },
  {
   "cell_type": "markdown",
   "metadata": {},
   "source": [
    "And the asynchronous version:"
   ]
  },
  {
   "cell_type": "code",
   "execution_count": null,
   "metadata": {},
   "outputs": [],
   "source": [
    "# Inside a regular top-level script, we would use\n",
    "#\n",
    "#     asyncio.run(namespace.test_async(5))\n",
    "#\n",
    "# but inside Jupyter, which is already running an asyncio event loop, we do\n",
    "\n",
    "await namespace.test_async(5)"
   ]
  },
  {
   "cell_type": "code",
   "execution_count": null,
   "metadata": {},
   "outputs": [],
   "source": []
  }
 ],
 "metadata": {
  "kernelspec": {
   "display_name": "Python 3 (ipykernel)",
   "language": "python",
   "name": "python3"
  },
  "language_info": {
   "codemirror_mode": {
    "name": "ipython",
    "version": 3
   },
   "file_extension": ".py",
   "mimetype": "text/x-python",
   "name": "python",
   "nbconvert_exporter": "python",
   "pygments_lexer": "ipython3",
   "version": "3.10.6"
  }
 },
 "nbformat": 4,
 "nbformat_minor": 1
}
