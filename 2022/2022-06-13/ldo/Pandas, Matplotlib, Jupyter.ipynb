{
 "cells": [
  {
   "cell_type": "markdown",
   "metadata": {},
   "source": [
    "Examples of data exploration, using [this dataset](https://catalogue.data.govt.nz/dataset/traffic-counts-hamilton-city-council) from the huge range of NZ central/local government datasets at [catalogue.data.govt.nz](https://catalogue.data.govt.nz). (Thanks to Peter for pointing me at that resource.)\n",
    "\n",
    "Useful links:\n",
    "* Pandas: https://pandas.pydata.org/\n",
    "* Matplotlib: https://matplotlib.org/\n",
    "\n",
    "Recap/udpate of my previous notes on Matplotlib:\n",
    "\n",
    "  * every part of a chart is an “Artist” object <https://matplotlib.org/stable/api/artist_api.html>.\n",
    "  * each figure in a plot (each “subplot”) is an “Axes” object <https://matplotlib.org/stable/api/axes_api.html>,\n",
    "    the axes of which are “Axis” objects <https://matplotlib.org/stable/api/axis_api.html>.\n",
    "  * pyplot is a whole separate thing <https://matplotlib.org/stable/api/pyplot_summary.html>.\n",
    "    I think this is meant to provide a more MATLAB-like charting API. But what\n",
    "    do I know...\n",
    "  * 3D plotting is a separate API layer, beginning here\n",
    "    <https://matplotlib.org/stable/api/toolkits/mplot3d.html>. Third-party toolkits like Seaborn are listed here: <https://matplotlib.org/mpl-third-party/>.\n"
   ]
  },
  {
   "cell_type": "code",
   "execution_count": null,
   "metadata": {},
   "outputs": [],
   "source": [
    "from ipywidgets.widgets import \\\n",
    "    interact\n",
    "\n",
    "# use common short names\n",
    "import numpy as np\n",
    "import pandas as pd\n",
    "import matplotlib\n",
    "import matplotlib.pyplot as plt"
   ]
  },
  {
   "cell_type": "markdown",
   "metadata": {},
   "source": [
    "Load in the sample data set and do some initial exploration."
   ]
  },
  {
   "cell_type": "code",
   "execution_count": null,
   "metadata": {},
   "outputs": [],
   "source": [
    "dats1 = pd.read_csv(\"Traffic Counts - Hamilton City Council.csv\")\n",
    "dats1"
   ]
  },
  {
   "cell_type": "code",
   "execution_count": null,
   "metadata": {},
   "outputs": [],
   "source": [
    "dats1.columns"
   ]
  },
  {
   "cell_type": "markdown",
   "metadata": {},
   "source": [
    "X- and Y- values might be some kind of coordinate system. Units seem to be metres."
   ]
  },
  {
   "cell_type": "code",
   "execution_count": null,
   "metadata": {},
   "outputs": [],
   "source": [
    "xmean = dats1[\"X\"].mean()\n",
    "ymean = dats1[\"Y\"].mean()\n",
    "xmean, ymean"
   ]
  },
  {
   "cell_type": "markdown",
   "metadata": {},
   "source": [
    "Create a local coordinate system, with origin in about the middle of the points."
   ]
  },
  {
   "cell_type": "code",
   "execution_count": null,
   "metadata": {},
   "outputs": [],
   "source": [
    "dats1.insert(len(dats1.columns), \"dX\", dats1[\"X\"] - xmean)\n",
    "dats1.insert(len(dats1.columns), \"dY\", dats1[\"Y\"] - ymean)"
   ]
  },
  {
   "cell_type": "code",
   "execution_count": null,
   "metadata": {},
   "outputs": [],
   "source": [
    "dats1[[\"dX\", \"dY\"]]"
   ]
  },
  {
   "cell_type": "markdown",
   "metadata": {},
   "source": [
    "Easy reference to those “Yearnnnn” columns:"
   ]
  },
  {
   "cell_type": "code",
   "execution_count": null,
   "metadata": {},
   "outputs": [],
   "source": [
    "year_cols = list(\"Year%4d\" % y for y in range(2000, 2019))\n",
    "min_year = 2000\n",
    "year_cols, min_year"
   ]
  },
  {
   "cell_type": "code",
   "execution_count": null,
   "metadata": {},
   "outputs": [],
   "source": [
    "dats1.groupby(\"Direction\").count()"
   ]
  },
  {
   "cell_type": "code",
   "execution_count": null,
   "metadata": {},
   "outputs": [],
   "source": [
    "sorted(list(dats1[\"Site_Name\"]))"
   ]
  },
  {
   "cell_type": "code",
   "execution_count": null,
   "metadata": {},
   "outputs": [],
   "source": [
    "dats1.loc[list(\"WAIRERE\" in d for d in dats1[\"Site_Name\"])][[\"Site_Name\", \"Site_Locat\", \"Direction\", \"dX\", \"dY\"]]"
   ]
  },
  {
   "cell_type": "code",
   "execution_count": null,
   "metadata": {},
   "outputs": [],
   "source": [
    "dats2 = dats1[[\"Site_Name\", \"Site_Locat\"] + list(\"Year%4d\" % y for y in range(2000, 2019))]"
   ]
  },
  {
   "cell_type": "code",
   "execution_count": null,
   "metadata": {},
   "outputs": [],
   "source": [
    "dats2.sort_values(by = \"Year2004\", ascending = False)"
   ]
  },
  {
   "cell_type": "code",
   "execution_count": null,
   "metadata": {},
   "outputs": [],
   "source": [
    "dats3 = dats2[dats2[\"Site_Name\"] == \"KAHIKATEA DRIVE\"]\n",
    "\n",
    "dats3"
   ]
  },
  {
   "cell_type": "code",
   "execution_count": null,
   "metadata": {},
   "outputs": [],
   "source": [
    "dats4 = dats3.loc[66, [\"Site_Name\"] + list(\"Year%4d\" % y for y in range(2000, 2019))]\n",
    "\n",
    "dats4"
   ]
  },
  {
   "cell_type": "code",
   "execution_count": null,
   "metadata": {},
   "outputs": [],
   "source": [
    "dats4[1:].plot(title = \"Kahikatea Drive West\")"
   ]
  },
  {
   "cell_type": "code",
   "execution_count": null,
   "metadata": {},
   "outputs": [],
   "source": [
    "dats3.loc[115, [\"Site_Name\"] + list(\"Year%4d\" % y for y in range(2000, 2019))][1:].plot(title = \"Kahikatea Drive East\")"
   ]
  },
  {
   "cell_type": "code",
   "execution_count": null,
   "metadata": {},
   "outputs": [],
   "source": [
    "dats5 = dats2[dats2[\"Site_Name\"] == \"GREENWOOD STREET\"]\n",
    "\n",
    "dats5"
   ]
  },
  {
   "cell_type": "code",
   "execution_count": null,
   "metadata": {},
   "outputs": [],
   "source": [
    "dats2.loc[146, [\"Site_Name\"] + list(\"Year%4d\" % y for y in range(2000, 2019))][1:].plot()"
   ]
  },
  {
   "cell_type": "code",
   "execution_count": null,
   "metadata": {},
   "outputs": [],
   "source": [
    "plot_data = dats1.loc[list(\"WAIRERE\" in d for d in dats1[\"Site_Name\"])][[\"Site_Name\", \"Site_Locat\"] + year_cols]\n",
    "\n",
    "plot_data.index"
   ]
  },
  {
   "cell_type": "code",
   "execution_count": null,
   "metadata": {},
   "outputs": [],
   "source": [
    "def format_sites(tickval, tickpos) :\n",
    "    tickval = float(tickval)\n",
    "      # avoid warnings about using numpy bools as indexes\n",
    "    return \\\n",
    "        (\n",
    "            lambda : \"\",\n",
    "            lambda : plot_data[\"Site_Locat\"].index[int(tickval)],\n",
    "        )[tickval == int(tickval) and 0 <= tickval and tickval < len(plot_data.index)]()\n",
    "#end format_sites\n",
    "\n",
    "@interact(elev = (-90, 90, 10), azi = (-90, 90, 10))\n",
    "def plotit(elev, azi) :\n",
    "    fig = plt.figure(figsize = (10, 12))\n",
    "    fig.suptitle(plot_data[\"Site_Name\"].iloc[3], y = 0.7)\n",
    "      # docs: <https://matplotlib.org/stable/api/figure_api.html>\n",
    "    ax = fig.add_axes((0, 0, 1, 1), projection = '3d')\n",
    "    # Not sure why, but collapsing above two lines into single line\n",
    "    #     ax = plt.figure(figsize = (10, 12)).add_subplot(projection = '3d')\n",
    "    # (as per the example code here <https://matplotlib.org/stable/gallery/mplot3d/polys3d.html#sphx-glr-gallery-mplot3d-polys3d-py>)\n",
    "    # produces a slightly smaller plot.\n",
    "    verts = \\\n",
    "        [\n",
    "            [\n",
    "                (i + min_year, plot_data.loc[u][y])\n",
    "                for i, y in enumerate(year_cols)\n",
    "            ]\n",
    "            for u in plot_data.index\n",
    "        ]\n",
    "    for row in verts :\n",
    "        row[0] = (row[0][0], 0)\n",
    "        row[-1] = (row[-1][0], 0)\n",
    "    #end for\n",
    "    #print(verts)\n",
    "    poly = matplotlib.collections.PolyCollection \\\n",
    "      (\n",
    "        verts,\n",
    "        facecolors = list\n",
    "          (\n",
    "            matplotlib.colors.hsv_to_rgb((i / len(plot_data.index), 0.5, 0.8))\n",
    "            for i in range(len(plot_data.index))\n",
    "          )\n",
    "      )\n",
    "    poly.set_alpha(0.7)\n",
    "    spacing = 3\n",
    "      # fudge factor to get positioning of curves roughly correct\n",
    "    ax.add_collection3d \\\n",
    "      (\n",
    "        poly,\n",
    "        zs = list(spacing * i for i in range(len(plot_data[\"Site_Name\"]))),\n",
    "        zdir = \"x\"\n",
    "      )\n",
    "    ax.xaxis.set_major_formatter(matplotlib.ticker.FuncFormatter(format_sites))\n",
    "    ax.set \\\n",
    "      (\n",
    "        xlim = (-1, len(plot_data[\"Site_Name\"])),\n",
    "        ylim = (min_year - 1, min_year + len(year_cols) + 1),\n",
    "        zlim = (0, max(max(c[1] for c in row) for row in verts)),\n",
    "        xlabel = \"PLACE\",\n",
    "        ylabel = \"YEAR\",\n",
    "        zlabel = \"TRAFFIC\"\n",
    "      )\n",
    "    ax.view_init(elev, azi)\n",
    "\n",
    "    plt.show()\n",
    "#end plotit\n"
   ]
  },
  {
   "cell_type": "code",
   "execution_count": null,
   "metadata": {},
   "outputs": [],
   "source": []
  }
 ],
 "metadata": {
  "kernelspec": {
   "display_name": "Python 3 (ipykernel)",
   "language": "python",
   "name": "python3"
  },
  "language_info": {
   "codemirror_mode": {
    "name": "ipython",
    "version": 3
   },
   "file_extension": ".py",
   "mimetype": "text/x-python",
   "name": "python",
   "nbconvert_exporter": "python",
   "pygments_lexer": "ipython3",
   "version": "3.10.5"
  }
 },
 "nbformat": 4,
 "nbformat_minor": 1
}
