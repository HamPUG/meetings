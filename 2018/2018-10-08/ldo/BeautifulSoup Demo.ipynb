{
 "cells": [
  {
   "cell_type": "markdown",
   "metadata": {},
   "source": [
    "Some step-by-step notes on using BeaitifulSoup to scrape the `archive3d.net` site"
   ]
  },
  {
   "cell_type": "code",
   "execution_count": null,
   "metadata": {},
   "outputs": [],
   "source": [
    "import re\n",
    "import urllib.request\n",
    "import urllib.parse\n",
    "import urllib.error\n",
    "from bs4 import \\\n",
    "    BeautifulSoup\n",
    "\n",
    "bs_parser = \"lxml\"\n"
   ]
  },
  {
   "cell_type": "markdown",
   "metadata": {},
   "source": [
    "Extracting the model description:"
   ]
  },
  {
   "cell_type": "code",
   "execution_count": null,
   "metadata": {},
   "outputs": [],
   "source": [
    "example_id = \"daf26f19\"\n",
    "info_page = BeautifulSoup \\\n",
    "  (\n",
    "    urllib.request.urlopen(url = \"https://archive3d.net/?a=download&id=\" + example_id).read(),\n",
    "    bs_parser\n",
    "  )\n",
    "info_div = info_page.find(\"div\", id = \"info\")\n",
    "info_name = info_div.find(\"h2\")\n",
    "print(info_name)"
   ]
  },
  {
   "cell_type": "markdown",
   "metadata": {},
   "source": [
    "Also the preview thumbnail:"
   ]
  },
  {
   "cell_type": "code",
   "execution_count": null,
   "metadata": {},
   "outputs": [],
   "source": [
    "img_div = info_page.find(\"div\", id = \"prevbig\")\n",
    "img_tag = img_div.find(\"img\")\n",
    "img_url = img_tag[\"src\"]\n",
    "print(img_url)"
   ]
  },
  {
   "cell_type": "markdown",
   "metadata": {},
   "source": [
    "Following the download link: (redirection is handled automatically, I just display it here out of interest)"
   ]
  },
  {
   "cell_type": "code",
   "execution_count": null,
   "metadata": {},
   "outputs": [],
   "source": [
    "conn = urllib.request.urlopen(url = \"https://archive3d.net/?a=download&do=get&id=\" + example_id)\n",
    "print(conn.geturl())\n",
    "# actual saving of data would go here\n",
    "conn.close()"
   ]
  },
  {
   "cell_type": "code",
   "execution_count": null,
   "metadata": {},
   "outputs": [],
   "source": []
  }
 ],
 "metadata": {
  "kernelspec": {
   "display_name": "Python 3",
   "language": "python",
   "name": "python3"
  },
  "language_info": {
   "codemirror_mode": {
    "name": "ipython",
    "version": 3
   },
   "file_extension": ".py",
   "mimetype": "text/x-python",
   "name": "python",
   "nbconvert_exporter": "python",
   "pygments_lexer": "ipython3",
   "version": "3.6.5rc1"
  }
 },
 "nbformat": 4,
 "nbformat_minor": 2
}
