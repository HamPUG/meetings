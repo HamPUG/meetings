{
 "cells": [
  {
   "cell_type": "markdown",
   "metadata": {},
   "source": [
    "# Python Talk: Classes & Metaclasses"
   ]
  },
  {
   "cell_type": "markdown",
   "metadata": {},
   "source": [
    "A class, to begin with, is a namespace. But note there is no access control (`public`/`private`/`protected` etc as in more “pure” object-oriented languages)."
   ]
  },
  {
   "cell_type": "code",
   "execution_count": null,
   "metadata": {
    "collapsed": true
   },
   "outputs": [],
   "source": [
    "class FirstClass :\n",
    "\n",
    "    field = \"something\"\n",
    "\n",
    "    def func(a, b) :\n",
    "        print(\"a =\", a, \"and b =\", b)\n",
    "    #end func\n",
    "\n",
    "#end FirstClass"
   ]
  },
  {
   "cell_type": "markdown",
   "metadata": {},
   "source": [
    "(Notice the common Python convention that class names use camelcase (of the bactrian, not the dromedary, variety), while other names use lower-case plus underscores.)"
   ]
  },
  {
   "cell_type": "code",
   "execution_count": null,
   "metadata": {
    "collapsed": false
   },
   "outputs": [],
   "source": [
    "FirstClass.field"
   ]
  },
  {
   "cell_type": "markdown",
   "metadata": {},
   "source": [
    "Unlike more conventional OO languages, a *method* is just a function that happens to find itself inside a class. It can still be invoked like any other function:"
   ]
  },
  {
   "cell_type": "code",
   "execution_count": null,
   "metadata": {
    "collapsed": false
   },
   "outputs": [],
   "source": [
    "FirstClass.func(2, 3)"
   ]
  },
  {
   "cell_type": "markdown",
   "metadata": {},
   "source": [
    "Standard OO operation of *Instantiating* a class — creating an *instance* of that class — in Python looks like calling the class as a function (no need for `new` keyword as in Java and PHP):"
   ]
  },
  {
   "cell_type": "code",
   "execution_count": null,
   "metadata": {
    "collapsed": true
   },
   "outputs": [],
   "source": [
    "f = FirstClass()"
   ]
  },
  {
   "cell_type": "code",
   "execution_count": null,
   "metadata": {
    "collapsed": false
   },
   "outputs": [],
   "source": [
    "type(f)"
   ]
  },
  {
   "cell_type": "code",
   "execution_count": null,
   "metadata": {
    "collapsed": false
   },
   "outputs": [],
   "source": [
    "type(f) is FirstClass"
   ]
  },
  {
   "cell_type": "code",
   "execution_count": null,
   "metadata": {
    "collapsed": false
   },
   "outputs": [],
   "source": [
    "f.field"
   ]
  },
  {
   "cell_type": "markdown",
   "metadata": {},
   "source": [
    "Now functions start to behave more like *methods* as you would expect in OO languages (this magic happens because functions are *descriptors*, which will be explained later):"
   ]
  },
  {
   "cell_type": "code",
   "execution_count": null,
   "metadata": {
    "collapsed": false
   },
   "outputs": [],
   "source": [
    "f.func(2, 3)"
   ]
  },
  {
   "cell_type": "code",
   "execution_count": null,
   "metadata": {
    "collapsed": false
   },
   "outputs": [],
   "source": [
    "f.func(3)"
   ]
  },
  {
   "cell_type": "markdown",
   "metadata": {},
   "source": [
    "Method call is effectively just syntactic sugar for following function call:"
   ]
  },
  {
   "cell_type": "code",
   "execution_count": null,
   "metadata": {
    "collapsed": false
   },
   "outputs": [],
   "source": [
    "FirstClass.func(f, 3)"
   ]
  },
  {
   "cell_type": "markdown",
   "metadata": {},
   "source": [
    "Or even:"
   ]
  },
  {
   "cell_type": "code",
   "execution_count": null,
   "metadata": {
    "collapsed": false
   },
   "outputs": [],
   "source": [
    "type(f).func(f, 3)"
   ]
  },
  {
   "cell_type": "markdown",
   "metadata": {},
   "source": [
    "So, a function becomes an *instance method* just from the way it is called—via a class instance. In this situation, the class instance is passed as the first argument to the function.\n",
    "\n",
    "Contrast other languages like C and Java, where there is a special `this` keyword for referring to the current class instance—Python has no such special mechanism. This to me is the sign of a language that acquired functions before it acquired classes...\n",
    "\n",
    "The first argument to the definition of a function intended for use as a method is commonly named something like `self`, but there is no requirement in the language for this."
   ]
  },
  {
   "cell_type": "markdown",
   "metadata": {},
   "source": [
    "Constructor method is called `__init__` -- perhaps also mention `__del__` if cleanup needed. Warning about unpredictable environment when latter is invoked at script termination time."
   ]
  },
  {
   "cell_type": "code",
   "execution_count": null,
   "metadata": {
    "collapsed": true
   },
   "outputs": [],
   "source": [
    "class SecondClass :\n",
    "    \n",
    "    c = \"something\"\n",
    "\n",
    "    def __init__(self, i) :\n",
    "        self.i = i\n",
    "    #end __init__\n",
    "\n",
    "    def func1(self, b) :\n",
    "        print(\"self =\", self, \"and b =\", b)\n",
    "    #end func\n",
    "\n",
    "#end SecondClass"
   ]
  },
  {
   "cell_type": "code",
   "execution_count": null,
   "metadata": {
    "collapsed": false
   },
   "outputs": [],
   "source": [
    "s = SecondClass(9)"
   ]
  },
  {
   "cell_type": "code",
   "execution_count": null,
   "metadata": {
    "collapsed": false
   },
   "outputs": [],
   "source": [
    "s.c"
   ]
  },
  {
   "cell_type": "code",
   "execution_count": null,
   "metadata": {
    "collapsed": false
   },
   "outputs": [],
   "source": [
    "s.i"
   ]
  },
  {
   "cell_type": "code",
   "execution_count": null,
   "metadata": {
    "collapsed": false
   },
   "outputs": [],
   "source": [
    "s.func1(\"x\")"
   ]
  },
  {
   "cell_type": "markdown",
   "metadata": {},
   "source": [
    "An instance method is itself a function, and like any function, is a first-class object:"
   ]
  },
  {
   "cell_type": "code",
   "execution_count": null,
   "metadata": {
    "collapsed": false
   },
   "outputs": [],
   "source": [
    "fn = s.func1\n",
    "fn(\"y\")"
   ]
  },
  {
   "cell_type": "code",
   "execution_count": null,
   "metadata": {
    "collapsed": true
   },
   "outputs": [],
   "source": [
    "s2 = SecondClass(10)"
   ]
  },
  {
   "cell_type": "code",
   "execution_count": null,
   "metadata": {
    "collapsed": false
   },
   "outputs": [],
   "source": [
    "s2.i"
   ]
  },
  {
   "cell_type": "code",
   "execution_count": null,
   "metadata": {
    "collapsed": false
   },
   "outputs": [],
   "source": [
    "s2.c = \"something else\"\n",
    "s.c"
   ]
  },
  {
   "cell_type": "markdown",
   "metadata": {},
   "source": [
    "For `s2`, there are now two variables called “c” -- the instance variable in `s2` itself, and the class variable in `SecondClass`. The former “hides” the latter."
   ]
  },
  {
   "cell_type": "code",
   "execution_count": null,
   "metadata": {
    "collapsed": false
   },
   "outputs": [],
   "source": [
    "SecondClass.c = \"something else\"\n",
    "s.c"
   ]
  },
  {
   "cell_type": "markdown",
   "metadata": {},
   "source": [
    "Subclasses and superclasses; multiple inheritance; `super()` function\n",
    "\n",
    "I haven’t made much use of multiple inheritance myself. Python does full-fat multiple inheritance à la C++, rather than the “lite” form in Java (interfaces).\n",
    "\n",
    "Simple example of multiple inheritance:"
   ]
  },
  {
   "cell_type": "code",
   "execution_count": null,
   "metadata": {
    "collapsed": false
   },
   "outputs": [],
   "source": [
    "class ThirdClass(FirstClass, SecondClass) :\n",
    "\n",
    "    def __init__(self, i, j) :\n",
    "        super().__init__(i) # explicit call to superclass constructor\n",
    "        self.j = j\n",
    "    #end __init__\n",
    "\n",
    "    def func2(self) :\n",
    "        print(\"hi there!\")\n",
    "    #end func2\n",
    "\n",
    "#end ThirdClass"
   ]
  },
  {
   "cell_type": "code",
   "execution_count": null,
   "metadata": {
    "collapsed": true
   },
   "outputs": [],
   "source": [
    "s = ThirdClass(8, 9)"
   ]
  },
  {
   "cell_type": "code",
   "execution_count": null,
   "metadata": {
    "collapsed": false
   },
   "outputs": [],
   "source": [
    "isinstance(s, FirstClass)"
   ]
  },
  {
   "cell_type": "code",
   "execution_count": null,
   "metadata": {
    "collapsed": false
   },
   "outputs": [],
   "source": [
    "isinstance(s, SecondClass)"
   ]
  },
  {
   "cell_type": "code",
   "execution_count": null,
   "metadata": {
    "collapsed": false
   },
   "outputs": [],
   "source": [
    "s.func1(3)"
   ]
  },
  {
   "cell_type": "code",
   "execution_count": null,
   "metadata": {
    "collapsed": false
   },
   "outputs": [],
   "source": [
    "s.func2()"
   ]
  },
  {
   "cell_type": "code",
   "execution_count": null,
   "metadata": {
    "collapsed": false
   },
   "outputs": [],
   "source": [
    "ThirdClass.__bases__"
   ]
  },
  {
   "cell_type": "code",
   "execution_count": null,
   "metadata": {
    "collapsed": false
   },
   "outputs": [],
   "source": [
    "ThirdClass.__mro__"
   ]
  },
  {
   "cell_type": "markdown",
   "metadata": {},
   "source": [
    "Then there is also `__new__`, for taking greater control of class instantiation. For example, here is how you could define a “singleton” class, where every attempt at instantiation returns the same instance:"
   ]
  },
  {
   "cell_type": "code",
   "execution_count": null,
   "metadata": {
    "collapsed": false
   },
   "outputs": [],
   "source": [
    "class MySingleton :\n",
    "\n",
    "    single_instance = None\n",
    "\n",
    "    def __new__(cself) :\n",
    "        # implicitly a classmethod\n",
    "        print(\"MySingleton.__new__\")\n",
    "        if cself.single_instance == None :\n",
    "            cself.single_instance = super().__new__(cself)\n",
    "            self = cself.single_instance\n",
    "            print(\"MySingleton instance created\")\n",
    "        else :\n",
    "            print(\"Reusing same instance\")\n",
    "        #end if\n",
    "        return cself.single_instance\n",
    "    #end __new__\n",
    "\n",
    "    # note no __init__ method, all instance initialization done in __new__\n",
    "    # because __init__ would be called every time caller tried to create a\n",
    "    # new instance\n",
    "\n",
    "#end MySingleton\n",
    "\n",
    "class NonSingleton :\n",
    "    pass\n",
    "#end NonSingleton"
   ]
  },
  {
   "cell_type": "code",
   "execution_count": null,
   "metadata": {
    "collapsed": false
   },
   "outputs": [],
   "source": [
    "a = MySingleton()\n",
    "b = MySingleton()\n",
    "print(\"MySingleton instances are equal? \", a is b)\n",
    "\n",
    "a = NonSingleton()\n",
    "b = NonSingleton()\n",
    "print(\"NonSingleton instances are equal? \", a is b)\n"
   ]
  },
  {
   "cell_type": "markdown",
   "metadata": {},
   "source": [
    "dynamic addition of attributes to class instances -- versus classes themselves?"
   ]
  },
  {
   "cell_type": "code",
   "execution_count": null,
   "metadata": {
    "collapsed": true
   },
   "outputs": [],
   "source": [
    "s2.d = \"new field\""
   ]
  },
  {
   "cell_type": "code",
   "execution_count": null,
   "metadata": {
    "collapsed": false
   },
   "outputs": [],
   "source": [
    "s.d"
   ]
  },
  {
   "cell_type": "code",
   "execution_count": null,
   "metadata": {
    "collapsed": false
   },
   "outputs": [],
   "source": [
    "s2.d"
   ]
  },
  {
   "cell_type": "markdown",
   "metadata": {},
   "source": [
    "introspection — builtin functions `dir`, `hasattr`, `getattr`, `setattr`, `delattr`"
   ]
  },
  {
   "cell_type": "code",
   "execution_count": null,
   "metadata": {
    "collapsed": false
   },
   "outputs": [],
   "source": [
    "dir(s)"
   ]
  },
  {
   "cell_type": "code",
   "execution_count": null,
   "metadata": {
    "collapsed": false
   },
   "outputs": [],
   "source": [
    "dir(s2)"
   ]
  },
  {
   "cell_type": "markdown",
   "metadata": {},
   "source": [
    "Peculiarity of scoping when trying to refer within inner class to definition in outer class — because class definition hasn’t finished yet."
   ]
  },
  {
   "cell_type": "code",
   "execution_count": null,
   "metadata": {
    "collapsed": true
   },
   "outputs": [],
   "source": [
    "del a, b # avoid interference from above"
   ]
  },
  {
   "cell_type": "code",
   "execution_count": null,
   "metadata": {
    "collapsed": false
   },
   "outputs": [],
   "source": [
    "class Outer :\n",
    "\n",
    "    a = 1\n",
    "    \n",
    "    class Inner :\n",
    "        \n",
    "        b = a # can’t do that here\n",
    "        \n",
    "    #end Inner\n",
    "    \n",
    "#end Outer"
   ]
  },
  {
   "cell_type": "code",
   "execution_count": null,
   "metadata": {
    "collapsed": false
   },
   "outputs": [],
   "source": [
    "class Outer :\n",
    "\n",
    "    a = 1\n",
    "    \n",
    "    class Inner :\n",
    "        \n",
    "        b = Outer.a # still won’t work\n",
    "        \n",
    "    #end Inner\n",
    "    \n",
    "#end Outer"
   ]
  },
  {
   "cell_type": "code",
   "execution_count": null,
   "metadata": {
    "collapsed": true
   },
   "outputs": [],
   "source": [
    "class Outer :\n",
    "\n",
    "    a = 1\n",
    "    \n",
    "    class Inner :\n",
    "\n",
    "        # b = a # can’t do that here\n",
    "        pass\n",
    "        \n",
    "    #end Inner\n",
    "\n",
    "    Inner.b = a # this works\n",
    "    \n",
    "#end Outer\n"
   ]
  },
  {
   "cell_type": "markdown",
   "metadata": {},
   "source": [
    "What this really means is that classes-within-classes don’t have the special behaviours that they do in C++ and Java: in both those languages they get access to non-`public` members of the outer class (which don’t exist in Python), and in Java they further get tied (if non-`static`) to a specific instance of the outer class (effectively each instance of the outer class gets its own unique inner class), which again is meaningless in Python. In Python this nesting is nothing more than an indication of some kind of grouping relationship.\n",
    "\n",
    "But note that, in Python, there are no “declarations” as such: all statements--which includes class and function declarations--are executable. Re-executing them creates new classes/functions, and the identifiers you use to name them are just variables that are assigned those classes/functions as values. This makes it useful, for example, to put a class definition inside a function definition, to be returned as the function result--the function becomes a class factory!\n",
    "\n",
    "So, to get the equivalent of Java-style non-`static` inner classes, you could do something like"
   ]
  },
  {
   "cell_type": "code",
   "execution_count": null,
   "metadata": {
    "collapsed": true
   },
   "outputs": [],
   "source": [
    "class Outer :\n",
    "\n",
    "    def __init__(self, v) :\n",
    "        self.v = v\n",
    "        \n",
    "        class Inner :\n",
    "            parent = self\n",
    "            \n",
    "            def __init__(self, x) :\n",
    "                self.x = x\n",
    "            #end __init__\n",
    "            \n",
    "            def sum(self) :\n",
    "                return self.parent.v + self.x\n",
    "            #end sum\n",
    "            \n",
    "        #end Inner\n",
    "        \n",
    "        self.Inner = Inner\n",
    "    #end __init__\n",
    "\n",
    "#end Outer"
   ]
  },
  {
   "cell_type": "code",
   "execution_count": null,
   "metadata": {
    "collapsed": false
   },
   "outputs": [],
   "source": [
    "o1 = Outer(10)\n",
    "o2 = Outer(20)\n",
    "i1 = o1.Inner(3)\n",
    "i2 = o2.Inner(3)\n",
    "i2a = o2.Inner(4)\n",
    "print(i1.sum())\n",
    "print(i2.sum())\n",
    "print(i2a.sum())\n",
    "o2.v = 30\n",
    "print(i1.sum())\n",
    "print(i2.sum())\n",
    "print(i2a.sum())\n"
   ]
  },
  {
   "cell_type": "markdown",
   "metadata": {},
   "source": [
    "Notice in the above how `i2` and `i2a` come from the same parent `Outer` instance, giving them the same value of the class variable `v`."
   ]
  },
  {
   "cell_type": "markdown",
   "metadata": {},
   "source": [
    "Previously discussed [special dunder method names](https://docs.python.org/3/reference/datamodel.html#special-method-names) for overloading of operators and other standard language constructs — perhaps skip details for today"
   ]
  },
  {
   "cell_type": "markdown",
   "metadata": {},
   "source": [
    "Mention [descriptors](https://docs.python.org/3/reference/datamodel.html#implementing-descriptors) — can be a bit abstract, but important for understanding how methods and properties work.\n",
    "\n",
    "Every function is a (non-data) descriptor. Properties are data descriptors: difference is that former, as methods, can be overridden by creating a class instance attribute of same name, latter can’t."
   ]
  },
  {
   "cell_type": "code",
   "execution_count": null,
   "metadata": {
    "collapsed": false
   },
   "outputs": [],
   "source": [
    "dir(FirstClass.func) # has “__get__” but no “__set__”"
   ]
  },
  {
   "cell_type": "markdown",
   "metadata": {},
   "source": [
    "*Decorators* -- can be applied to functions or classes:\n",
    "\n",
    "    @«expr»\n",
    "    def func() :\n",
    "        ....\n",
    "\n",
    "is equivalent to\n",
    "\n",
    "    def func() :\n",
    "        ....\n",
    "    #end func\n",
    "    func = «expr»(func)\n",
    "\n",
    "and similarly\n",
    "\n",
    "    @«expr»\n",
    "    class Class() :\n",
    "        ....\n",
    "\n",
    "is equivalent to\n",
    "\n",
    "    class Class() :\n",
    "        ....\n",
    "    #end Class\n",
    "    Class = «expr»(Class)\n",
    "\n",
    "So *«expr»* is any Python expression that returns a *callable* of a single argument; this is applied to the class or function being decorated, and is expected to return the suitably processed class/function (or an entirely new class/function), which is assigned back to the same class/function variable."
   ]
  },
  {
   "cell_type": "markdown",
   "metadata": {},
   "source": [
    "Example use of custom class and method decorators: my [DBussy](https://github.com/ldo/dbussy) binding for libdbus, particularly the `bigben_server_ravelled`, `bigben_listener_ravelled` and `bigben_listener_ravelled_alt` from the [example scripts](https://github.com/ldo/dbussy_examples). Show how you can introspect the server and automatically get an XML description of all its interfaces, without having to write any XML."
   ]
  },
  {
   "cell_type": "markdown",
   "metadata": {},
   "source": [
    "Instance methods versus class methods versus static methods — specified via standard decorators\n",
    "  * instance methods are the default for a function inside a class\n",
    "  * `@staticmethod` turns the following function into a static method\n",
    "  * `@classmethod` turns the following function into a class method\n",
    "  \n",
    "`staticmethod` and `classmethod` are just built-in Python functions, designed to be used as decorators, but you can call them as normal functions.\n",
    "\n",
    "*Static* methods are just functions that happen to find themselves inside a class, and calls to them via instances behave just as normal function calls. In other languages the point to having them is they have access to non-public class members. Since there are no such things in Python, its static methods are just a grouping mechanism — this function has something to do with this class, so make that clear by putting it here.\n",
    "\n",
    "*Class* methods are something unique to Python — when called via a class instance, they get the *class* itself as the first argument, rather than the instance. Why bother, when the function can directly refer to the class itself by name? In fact this is handy when subclassing — in this situation, the inherited class method gets the subclass as its first argument, not the superclass where the method was actually defined."
   ]
  },
  {
   "cell_type": "markdown",
   "metadata": {},
   "source": [
    "Example? Factory methods in my [Qahirah](https://github.com/ldo/qahirah) binding. *E.g.* various ways of creating a `Vector` object: direct specification of *x* and *y* components; specifying them as a tuple; creating a unit `Vector` in a specified direction; or giving the polar coordinates. `Vector` is subclassed as the `Point` type in my [`python_pixman`](https://github.com/ldo/python_pixman) library; each class defines its own methods for converting to/from the underlying library data type, but they can share common Python behaviour."
   ]
  },
  {
   "cell_type": "code",
   "execution_count": null,
   "metadata": {
    "collapsed": true
   },
   "outputs": [],
   "source": [
    "from qahirah import \\\n",
    "    deg, \\\n",
    "    Vector\n",
    "from pixman import \\\n",
    "    Point"
   ]
  },
  {
   "cell_type": "code",
   "execution_count": null,
   "metadata": {
    "collapsed": false
   },
   "outputs": [],
   "source": [
    "v = Vector.unit(45 * deg)\n",
    "p = Point.unit(45 * deg)\n",
    "isinstance(p, Vector)"
   ]
  },
  {
   "cell_type": "code",
   "execution_count": null,
   "metadata": {
    "collapsed": false
   },
   "outputs": [],
   "source": [
    "v == p"
   ]
  },
  {
   "cell_type": "code",
   "execution_count": null,
   "metadata": {
    "collapsed": false
   },
   "outputs": [],
   "source": [
    "v + p"
   ]
  },
  {
   "cell_type": "code",
   "execution_count": null,
   "metadata": {
    "collapsed": false
   },
   "outputs": [],
   "source": [
    "p.to_pixman_fixed()"
   ]
  },
  {
   "cell_type": "code",
   "execution_count": null,
   "metadata": {
    "collapsed": false
   },
   "outputs": [],
   "source": [
    "v.to_pixman_fixed()"
   ]
  },
  {
   "cell_type": "markdown",
   "metadata": {},
   "source": [
    "Properties — the other common use of descriptors. Again, examples from Qahirah. Read-only properties are a minor convenience, being able to type *obj*`.`*prop* instead of *obj*`.`*prop*`()`. Read-write properties are more of a convenience.\n",
    "\n",
    "*E.g.* qahirah.Context.dash? Time to mention usefulness of specifying `__slots__` to preempt typos (`dashes` versus `dash`)?"
   ]
  },
  {
   "cell_type": "code",
   "execution_count": null,
   "metadata": {
    "collapsed": false
   },
   "outputs": [],
   "source": [
    "import qahirah\n",
    "\n",
    "ctx = qahirah.Context.create_for_dummy()\n",
    "ctx.dash"
   ]
  },
  {
   "cell_type": "code",
   "execution_count": null,
   "metadata": {
    "collapsed": false
   },
   "outputs": [],
   "source": [
    "ctx.dash = ([1, 1], 0.5)\n",
    "ctx.dash"
   ]
  },
  {
   "cell_type": "code",
   "execution_count": null,
   "metadata": {
    "collapsed": false
   },
   "outputs": [],
   "source": [
    "ctx.dashes = ([1, 1], 0.5)"
   ]
  },
  {
   "cell_type": "markdown",
   "metadata": {},
   "source": [
    "[Metaclasses](https://docs.python.org/3/reference/datamodel.html#customizing-class-creation):\n",
    "  * Every value in Python is an object\n",
    "  * Every object is an instance of a class\n",
    "  * Classes are also values, hence objects, that can be generated and manipulated at runtime\n",
    "  * Therefore classes must also be instances of classes\n",
    "  * The class that a class is an instance of is the *metaclass* of the class\n",
    "  * Default metaclass is called `type` (one of 2 meanings of this built-in function), but you can specify your own\n",
    "\n",
    "Hard to think of an example use of metaclasses that isn’t more easily done with class decorators, but how about this contrived example: a kind of “enumeration” class with a fixed number of instances that are specified at class-definition time. The metaclass provides the mechanism for defining such classes:"
   ]
  },
  {
   "cell_type": "code",
   "execution_count": null,
   "metadata": {
    "collapsed": true
   },
   "outputs": [],
   "source": [
    "class FixedInstances(type) :\n",
    "    \"Use this as a metaclass on a class definition with an\" \\\n",
    "    \" “__instances__” attribute that names instances to be\" \\\n",
    "    \" constructed.\"\n",
    "\n",
    "    def __new__(cself, name, bases, namespace) :\n",
    "        result = type.__new__(cself, name, bases, dict(namespace))\n",
    "        if not hasattr(result, \"__real_init__\") :\n",
    "            # save the __init__ method under another name to block direct\n",
    "            # instantiation\n",
    "            result.__real_init__ = result.__init__\n",
    "            def _dummyinit(self, *args, **kwargs) :\n",
    "                \"no new instances can be created.\"\n",
    "                raise NotImplementedError(\"no new instances can be created\")\n",
    "            #end _dummyinit\n",
    "            _dummyinit.__name__ = \"__init__\"\n",
    "            result.__init__ = _dummyinit\n",
    "        #end if\n",
    "        for instance_name in namespace[\"__instances__\"] :\n",
    "            instance = result.__new__(result)\n",
    "            instance.__real_init__(instance_name)\n",
    "            setattr(result, instance_name, instance)\n",
    "        #end for\n",
    "        return result\n",
    "    #end __new__\n",
    "\n",
    "#end FixedInstances"
   ]
  },
  {
   "cell_type": "markdown",
   "metadata": {},
   "source": [
    "Here is an example use of the metaclass. The class is expected to have an `__instances__` attribute which names the class instances to be created:"
   ]
  },
  {
   "cell_type": "code",
   "execution_count": null,
   "metadata": {
    "collapsed": false
   },
   "outputs": [],
   "source": [
    "class FixedInstancesExample(metaclass = FixedInstances) :\n",
    "\n",
    "    def __init__(self, name) :\n",
    "        self.text = \"this is instance “%s” of the class\" % name\n",
    "    #end __init__\n",
    "\n",
    "    def __repr__(self) :\n",
    "        return self.text\n",
    "    #end __repr__\n",
    "\n",
    "    __instances__ = (\"one\", \"two\", \"three\")\n",
    "\n",
    "#end FixedInstancesExample"
   ]
  },
  {
   "cell_type": "code",
   "execution_count": null,
   "metadata": {
    "collapsed": false
   },
   "outputs": [],
   "source": [
    "FixedInstancesExample.one"
   ]
  },
  {
   "cell_type": "code",
   "execution_count": null,
   "metadata": {
    "collapsed": false
   },
   "outputs": [],
   "source": [
    "isinstance(FixedInstancesExample.one, FixedInstancesExample)"
   ]
  },
  {
   "cell_type": "code",
   "execution_count": null,
   "metadata": {
    "collapsed": false
   },
   "outputs": [],
   "source": [
    "FixedInstancesExample()"
   ]
  },
  {
   "cell_type": "code",
   "execution_count": null,
   "metadata": {
    "collapsed": false
   },
   "outputs": [],
   "source": [
    "help(FixedInstancesExample.__init__)"
   ]
  },
  {
   "cell_type": "markdown",
   "metadata": {},
   "source": [
    "I guess the clever thing about metaclasses is that they automatically come into action when you subclass a class that specified that metaclass, without having to be specified again — unlike a class decorator, which needs to be specified every place you want it to act. The following subclass continues the example, and adds its own instances:"
   ]
  },
  {
   "cell_type": "code",
   "execution_count": null,
   "metadata": {
    "collapsed": false
   },
   "outputs": [],
   "source": [
    "class FixedInstancesSubclass(FixedInstancesExample) :\n",
    "    __instances__ = (\"four\", \"five\", \"six\")\n",
    "#end FixedInstancesSubclass"
   ]
  },
  {
   "cell_type": "markdown",
   "metadata": {},
   "source": [
    "Naturally it inherits the instances of the superclass:"
   ]
  },
  {
   "cell_type": "code",
   "execution_count": null,
   "metadata": {
    "collapsed": false
   },
   "outputs": [],
   "source": [
    "FixedInstancesSubclass.one"
   ]
  },
  {
   "cell_type": "code",
   "execution_count": null,
   "metadata": {
    "collapsed": false
   },
   "outputs": [],
   "source": [
    "type(FixedInstancesSubclass.one)"
   ]
  },
  {
   "cell_type": "code",
   "execution_count": null,
   "metadata": {
    "collapsed": false
   },
   "outputs": [],
   "source": [
    "FixedInstancesSubclass.four"
   ]
  },
  {
   "cell_type": "code",
   "execution_count": null,
   "metadata": {
    "collapsed": false
   },
   "outputs": [],
   "source": [
    "type(FixedInstancesSubclass.four)"
   ]
  },
  {
   "cell_type": "code",
   "execution_count": null,
   "metadata": {
    "collapsed": false
   },
   "outputs": [],
   "source": [
    "FixedInstancesSubclass()"
   ]
  },
  {
   "cell_type": "code",
   "execution_count": null,
   "metadata": {
    "collapsed": true
   },
   "outputs": [],
   "source": []
  }
 ],
 "metadata": {
  "kernelspec": {
   "display_name": "Python 3",
   "language": "python",
   "name": "python3"
  },
  "language_info": {
   "codemirror_mode": {
    "name": "ipython",
    "version": 3
   },
   "file_extension": ".py",
   "mimetype": "text/x-python",
   "name": "python",
   "nbconvert_exporter": "python",
   "pygments_lexer": "ipython3",
   "version": "3.5.3+"
  }
 },
 "nbformat": 4,
 "nbformat_minor": 2
}
