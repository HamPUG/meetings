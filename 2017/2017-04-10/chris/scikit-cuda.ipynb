{
 "cells": [
  {
   "cell_type": "code",
   "execution_count": 1,
   "metadata": {
    "collapsed": false,
    "deletable": true,
    "editable": true
   },
   "outputs": [],
   "source": [
    "import pycuda.autoinit\n",
    "import pycuda.gpuarray as gpuarray\n",
    "import numpy as np\n",
    "\n",
    "N = 128\n",
    "x = np.asarray(np.random.rand(N), np.float32)\n",
    "xf = np.fft.fft(x)\n"
   ]
  },
  {
   "cell_type": "code",
   "execution_count": 2,
   "metadata": {
    "collapsed": false,
    "deletable": true,
    "editable": true
   },
   "outputs": [],
   "source": [
    "x_gpu = gpuarray.to_gpu(x)\n",
    "\n"
   ]
  },
  {
   "cell_type": "code",
   "execution_count": 3,
   "metadata": {
    "collapsed": false,
    "deletable": true,
    "editable": true
   },
   "outputs": [],
   "source": [
    "shapet = int(N/2+1)"
   ]
  },
  {
   "cell_type": "code",
   "execution_count": 4,
   "metadata": {
    "collapsed": false,
    "deletable": true,
    "editable": true
   },
   "outputs": [],
   "source": [
    "xf_gpu = gpuarray.empty(shapet, np.complex64)"
   ]
  },
  {
   "cell_type": "code",
   "execution_count": 5,
   "metadata": {
    "collapsed": false,
    "deletable": true,
    "editable": true
   },
   "outputs": [
    {
     "name": "stdout",
     "output_type": "stream",
     "text": [
      "x.shape = (128,)\n"
     ]
    }
   ],
   "source": [
    "from skcuda.fft import Plan\n",
    "from skcuda.fft import fft\n",
    "print(\"x.shape = {}\".format(x.shape))\n",
    "plan = Plan(x.shape, np.float32, np.complex64)\n",
    "fft(x_gpu, xf_gpu, plan)\n"
   ]
  },
  {
   "cell_type": "code",
   "execution_count": 6,
   "metadata": {
    "collapsed": true,
    "deletable": true,
    "editable": true
   },
   "outputs": [],
   "source": [
    "result = xf_gpu.get()"
   ]
  },
  {
   "cell_type": "code",
   "execution_count": 7,
   "metadata": {
    "collapsed": false,
    "deletable": true,
    "editable": true
   },
   "outputs": [
    {
     "name": "stdout",
     "output_type": "stream",
     "text": [
      "(65,)\n"
     ]
    }
   ],
   "source": [
    "print(result.shape)"
   ]
  },
  {
   "cell_type": "code",
   "execution_count": 8,
   "metadata": {
    "collapsed": false,
    "deletable": true,
    "editable": true
   },
   "outputs": [
    {
     "data": {
      "text/plain": [
       "True"
      ]
     },
     "execution_count": 8,
     "metadata": {},
     "output_type": "execute_result"
    }
   ],
   "source": [
    "np.allclose(xf[0:int(N/2+1)], xf_gpu.get(), atol=1e-6)"
   ]
  },
  {
   "cell_type": "code",
   "execution_count": 9,
   "metadata": {
    "collapsed": false,
    "deletable": true,
    "editable": true
   },
   "outputs": [
    {
     "name": "stdout",
     "output_type": "stream",
     "text": [
      "(65,)\n"
     ]
    }
   ],
   "source": [
    "result2 = xf[0:int(N/2+1)]\n",
    "print(result2.shape)"
   ]
  },
  {
   "cell_type": "code",
   "execution_count": 10,
   "metadata": {
    "collapsed": false,
    "deletable": true,
    "editable": true
   },
   "outputs": [
    {
     "data": {
      "text/plain": [
       "True"
      ]
     },
     "execution_count": 10,
     "metadata": {},
     "output_type": "execute_result"
    }
   ],
   "source": [
    "np.allclose(result, result2, atol=1e-6)"
   ]
  },
  {
   "cell_type": "code",
   "execution_count": null,
   "metadata": {
    "collapsed": true,
    "deletable": true,
    "editable": true
   },
   "outputs": [],
   "source": []
  },
  {
   "cell_type": "code",
   "execution_count": 11,
   "metadata": {
    "collapsed": true,
    "deletable": true,
    "editable": true
   },
   "outputs": [],
   "source": [
    "from skcuda import version"
   ]
  },
  {
   "cell_type": "code",
   "execution_count": 12,
   "metadata": {
    "collapsed": false,
    "deletable": true,
    "editable": true
   },
   "outputs": [
    {
     "data": {
      "text/plain": [
       "<module 'pkg_resources' from '/home/cmoman/anaconda3/envs/snowflakes/lib/python3.5/site-packages/setuptools-27.2.0-py3.5.egg/pkg_resources/__init__.py'>"
      ]
     },
     "execution_count": 12,
     "metadata": {},
     "output_type": "execute_result"
    }
   ],
   "source": [
    "version.pkg_resources"
   ]
  },
  {
   "cell_type": "code",
   "execution_count": 13,
   "metadata": {
    "collapsed": true,
    "deletable": true,
    "editable": true
   },
   "outputs": [],
   "source": [
    "from skcuda.cuda import sys"
   ]
  },
  {
   "cell_type": "code",
   "execution_count": 14,
   "metadata": {
    "collapsed": false,
    "deletable": true,
    "editable": true
   },
   "outputs": [
    {
     "data": {
      "text/plain": [
       "<module 'sys' (built-in)>"
      ]
     },
     "execution_count": 14,
     "metadata": {},
     "output_type": "execute_result"
    }
   ],
   "source": [
    "sys"
   ]
  },
  {
   "cell_type": "code",
   "execution_count": 15,
   "metadata": {
    "collapsed": true,
    "deletable": true,
    "editable": true
   },
   "outputs": [],
   "source": [
    "from pycuda import VERSION"
   ]
  },
  {
   "cell_type": "code",
   "execution_count": 16,
   "metadata": {
    "collapsed": false,
    "deletable": true,
    "editable": true
   },
   "outputs": [
    {
     "data": {
      "text/plain": [
       "(2016, 1, 2)"
      ]
     },
     "execution_count": 16,
     "metadata": {},
     "output_type": "execute_result"
    }
   ],
   "source": [
    "VERSION"
   ]
  },
  {
   "cell_type": "code",
   "execution_count": 17,
   "metadata": {
    "collapsed": true,
    "deletable": true,
    "editable": true
   },
   "outputs": [],
   "source": [
    "from skcuda import info"
   ]
  },
  {
   "cell_type": "code",
   "execution_count": 86,
   "metadata": {
    "collapsed": false,
    "deletable": true,
    "editable": true
   },
   "outputs": [
    {
     "data": {
      "text/plain": [
       "<module 'skcuda.info' from '/home/cmoman/pycudaenv/lib/python3.4/site-packages/skcuda/info.py'>"
      ]
     },
     "execution_count": 86,
     "metadata": {},
     "output_type": "execute_result"
    }
   ],
   "source": [
    "info"
   ]
  },
  {
   "cell_type": "code",
   "execution_count": 87,
   "metadata": {
    "collapsed": false,
    "deletable": true,
    "editable": true
   },
   "outputs": [
    {
     "ename": "NameError",
     "evalue": "name 'skcuda' is not defined",
     "output_type": "error",
     "traceback": [
      "\u001b[1;31m---------------------------------------------------------------------------\u001b[0m",
      "\u001b[1;31mNameError\u001b[0m                                 Traceback (most recent call last)",
      "\u001b[1;32m<ipython-input-87-91a54c48c865>\u001b[0m in \u001b[0;36m<module>\u001b[1;34m()\u001b[0m\n\u001b[1;32m----> 1\u001b[1;33m \u001b[0mhelp\u001b[0m\u001b[1;33m(\u001b[0m\u001b[0mskcuda\u001b[0m\u001b[1;33m)\u001b[0m\u001b[1;33m\u001b[0m\u001b[0m\n\u001b[0m",
      "\u001b[1;31mNameError\u001b[0m: name 'skcuda' is not defined"
     ]
    }
   ],
   "source": [
    "help(skcuda)"
   ]
  },
  {
   "cell_type": "code",
   "execution_count": 88,
   "metadata": {
    "collapsed": true,
    "deletable": true,
    "editable": true
   },
   "outputs": [],
   "source": [
    "import skcuda"
   ]
  },
  {
   "cell_type": "code",
   "execution_count": 89,
   "metadata": {
    "collapsed": false,
    "deletable": true,
    "editable": true
   },
   "outputs": [
    {
     "name": "stdout",
     "output_type": "stream",
     "text": [
      "Help on package skcuda:\n",
      "\n",
      "NAME\n",
      "    skcuda\n",
      "\n",
      "DESCRIPTION\n",
      "    scikit-cuda\n",
      "    ===========\n",
      "    scikit-cuda provides Python interfaces to many of the functions\n",
      "    in the CUDA device/runtime, CUBLAS, CUFFT, and CUSOLVER\n",
      "    libraries distributed as part of NVIDIA's CUDA Programming Toolkit\n",
      "    [1]_, as well as interfaces to select functions in the free and standard\n",
      "    versions of the CULA Dense Toolkit [2]_. Both low-level wrapper functions\n",
      "    similar to their C counterparts and high-level functions comparable to those in\n",
      "    NumPy and Scipy [3]_ are provided\n",
      "    \n",
      "    High-level modules\n",
      "    ------------------\n",
      "    - autoinit       Automatic GPU library initialization module.\n",
      "    - fft            Fast Fourier Transform functions.\n",
      "    - integrate      Numerical integration functions.\n",
      "    - linalg         Linear algebra functions.\n",
      "    - rlinalg        Randomized linear algebra functions.\n",
      "    - misc           Miscellaneous support functions.\n",
      "    - special        Special math functions.\n",
      "    \n",
      "    Low-level modules\n",
      "    -----------------\n",
      "    - cublas         Function wrappers for the CUBLAS library.\n",
      "    - cufft          Function wrappers for the CUFFT library.\n",
      "    - cuda           Function wrappers for the CUDA device/runtime libraries.\n",
      "    - cula           Function wrappers for the CULA library.\n",
      "    - cusolver       Function wrappers for the CUSOLVER library.\n",
      "    - pcula          Function wrappers for the multi-GPU CULA library.\n",
      "    \n",
      "    .. [1] http://www.nvidia.com/cuda\n",
      "    .. [2] http://www.culatools.com/\n",
      "    .. [5] http://www.scipy.org/\n",
      "\n",
      "PACKAGE CONTENTS\n",
      "    autoinit\n",
      "    cublas\n",
      "    cuda\n",
      "    cudadrv\n",
      "    cudart\n",
      "    cufft\n",
      "    cula\n",
      "    cusolver\n",
      "    cusparse\n",
      "    fft\n",
      "    info\n",
      "    integrate\n",
      "    linalg\n",
      "    linalg_magma\n",
      "    magma\n",
      "    misc\n",
      "    pcula\n",
      "    rlinalg\n",
      "    special\n",
      "    utils\n",
      "    version\n",
      "\n",
      "DATA\n",
      "    absolute_import = _Feature((2, 5, 0, 'alpha', 1), (3, 0, 0, 'alpha', 0...\n",
      "    install_headers = '/home/cmoman/pycudaenv/lib/python3.4/site-packages/...\n",
      "\n",
      "VERSION\n",
      "    0.5.1\n",
      "\n",
      "FILE\n",
      "    /home/cmoman/pycudaenv/lib/python3.4/site-packages/skcuda/__init__.py\n",
      "\n",
      "\n"
     ]
    }
   ],
   "source": [
    "help(skcuda)"
   ]
  },
  {
   "cell_type": "code",
   "execution_count": null,
   "metadata": {
    "collapsed": true,
    "deletable": true,
    "editable": true
   },
   "outputs": [],
   "source": []
  }
 ],
 "metadata": {
  "kernelspec": {
   "display_name": "Python 3",
   "language": "python",
   "name": "python3"
  },
  "language_info": {
   "codemirror_mode": {
    "name": "ipython",
    "version": 3
   },
   "file_extension": ".py",
   "mimetype": "text/x-python",
   "name": "python",
   "nbconvert_exporter": "python",
   "pygments_lexer": "ipython3",
   "version": "3.5.2"
  }
 },
 "nbformat": 4,
 "nbformat_minor": 0
}
