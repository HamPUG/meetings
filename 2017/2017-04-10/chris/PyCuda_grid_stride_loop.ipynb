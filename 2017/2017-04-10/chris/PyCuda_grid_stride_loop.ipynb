{
 "cells": [
  {
   "cell_type": "code",
   "execution_count": 1,
   "metadata": {
    "collapsed": false,
    "deletable": true,
    "editable": true
   },
   "outputs": [],
   "source": [
    "import pycuda.driver as cuda\n",
    "import pycuda.autoinit  # noqa\n",
    "from pycuda.compiler import SourceModule\n",
    "import numpy"
   ]
  },
  {
   "cell_type": "raw",
   "metadata": {
    "deletable": true,
    "editable": true
   },
   "source": [
    "Make a numpy array\n",
    "\n",
    "./deviceQuery Starting...\n",
    "\n",
    " CUDA Device Query (Runtime API) version (CUDART static linking)\n",
    "\n",
    "Detected 1 CUDA Capable device(s)\n",
    "\n",
    "Device 0: \"GeForce GT 520MX\"\n",
    "  CUDA Driver Version / Runtime Version          8.0 / 8.0\n",
    "  CUDA Capability Major/Minor version number:    2.1\n",
    "  Total amount of global memory:                 964 MBytes (1010761728 bytes)\n",
    "  ( 1) Multiprocessors, ( 48) CUDA Cores/MP:     48 CUDA Cores\n",
    "  GPU Max Clock rate:                            1800 MHz (1.80 GHz)\n",
    "  Memory Clock rate:                             900 Mhz\n",
    "  Memory Bus Width:                              64-bit\n",
    "  L2 Cache Size:                                 65536 bytes\n",
    "  Maximum Texture Dimension Size (x,y,z)         1D=(65536), 2D=(65536, 65535), 3D=(2048, 2048, 2048)\n",
    "  Maximum Layered 1D Texture Size, (num) layers  1D=(16384), 2048 layers\n",
    "  Maximum Layered 2D Texture Size, (num) layers  2D=(16384, 16384), 2048 layers\n",
    "  Total amount of constant memory:               65536 bytes\n",
    "  Total amount of shared memory per block:       49152 bytes\n",
    "  Total number of registers available per block: 32768\n",
    "  Warp size:                                     32\n",
    "  Maximum number of threads per multiprocessor:  1536\n",
    "  Maximum number of threads per block:           1024\n",
    "  Max dimension size of a thread block (x,y,z): (1024, 1024, 64)\n",
    "  Max dimension size of a grid size    (x,y,z): (65535, 65535, 65535)\n",
    "  Maximum memory pitch:                          2147483647 bytes\n",
    "  Texture alignment:                             512 bytes\n",
    "  Concurrent copy and kernel execution:          Yes with 1 copy engine(s)\n",
    "  Run time limit on kernels:                     No\n",
    "  Integrated GPU sharing Host Memory:            No\n",
    "  Support host page-locked memory mapping:       Yes\n",
    "  Alignment requirement for Surfaces:            Yes\n",
    "  Device has ECC support:                        Disabled\n",
    "  Device supports Unified Addressing (UVA):      Yes\n",
    "  Device PCI Domain ID / Bus ID / location ID:   0 / 1 / 0\n",
    "  Compute Mode:\n",
    "     < Default (multiple host threads can use ::cudaSetDevice() with device simultaneously) >\n",
    "\n",
    "deviceQuery, CUDA Driver = CUDART, CUDA Driver Version = 8.0, CUDA Runtime Version = 8.0, NumDevs = 1, Device0 = GeForce GT 520MX\n"
   ]
  },
  {
   "cell_type": "markdown",
   "metadata": {
    "deletable": true,
    "editable": true
   },
   "source": [
    "Define the functions in C\n",
    "The nvcc compiler is called."
   ]
  },
  {
   "cell_type": "code",
   "execution_count": 2,
   "metadata": {
    "collapsed": false,
    "deletable": true,
    "editable": true
   },
   "outputs": [
    {
     "name": "stderr",
     "output_type": "stream",
     "text": [
      "/home/cmoman/anaconda3/envs/snowflakes/lib/python3.5/site-packages/ipykernel/__main__.py:11: UserWarning: The CUDA compiler succeeded, but said the following:\n",
      "nvcc warning : The 'compute_20', 'sm_20', and 'sm_21' architectures are deprecated, and may be removed in a future release (Use -Wno-deprecated-gpu-targets to suppress warning).\n",
      "\n"
     ]
    }
   ],
   "source": [
    "mod3 = SourceModule(\"\"\"\n",
    "    #include <stdio.h>\n",
    "    \n",
    "    __global__ void add3(float *z, int n, float a, float *x, float *y)\n",
    "    {\n",
    "        int index = blockIdx.x * blockDim.x + threadIdx.x;\n",
    "        int stride = blockDim.x * gridDim.x;\n",
    "        for (int i = index; i < n; i += stride)\n",
    "          z[i] = a * x[i] + y[i];\n",
    "    }\n",
    "    \"\"\")"
   ]
  },
  {
   "cell_type": "code",
   "execution_count": 3,
   "metadata": {
    "collapsed": true,
    "deletable": true,
    "editable": true
   },
   "outputs": [],
   "source": [
    "N=1<<20\n",
    "blockSize = 256;\n",
    "numBlocks = int((N + blockSize - 1) / blockSize)"
   ]
  },
  {
   "cell_type": "code",
   "execution_count": 4,
   "metadata": {
    "collapsed": false,
    "deletable": true,
    "editable": true
   },
   "outputs": [
    {
     "name": "stdout",
     "output_type": "stream",
     "text": [
      "10 1024\n",
      "11 2048\n",
      "12 4096\n",
      "13 8192\n",
      "14 16384\n",
      "15 32768\n",
      "16 65536\n",
      "17 131072\n",
      "18 262144\n",
      "19 524288\n",
      "20 1048576\n",
      "21 2097152\n",
      "22 4194304\n",
      "23 8388608\n",
      "24 16777216\n"
     ]
    }
   ],
   "source": [
    "    for power in range(10, 25): # 24\n",
    "        size = 1<<power\n",
    "        print (power,size)"
   ]
  },
  {
   "cell_type": "code",
   "execution_count": 5,
   "metadata": {
    "collapsed": false,
    "deletable": true,
    "editable": true
   },
   "outputs": [
    {
     "name": "stdout",
     "output_type": "stream",
     "text": [
      "256\n",
      "4096\n"
     ]
    }
   ],
   "source": [
    "print(blockSize)\n",
    "print(numBlocks)"
   ]
  },
  {
   "cell_type": "code",
   "execution_count": 6,
   "metadata": {
    "collapsed": false,
    "deletable": true,
    "editable": true
   },
   "outputs": [],
   "source": [
    "xh = numpy.random.randn(N)\n",
    "yh = numpy.random.randn(N)"
   ]
  },
  {
   "cell_type": "code",
   "execution_count": 7,
   "metadata": {
    "collapsed": false,
    "deletable": true,
    "editable": true
   },
   "outputs": [
    {
     "data": {
      "text/plain": [
       "array([ 0.14177604, -0.50945115,  0.67235315, ..., -1.98463249,\n",
       "       -1.46721137,  0.01760701], dtype=float32)"
      ]
     },
     "execution_count": 7,
     "metadata": {},
     "output_type": "execute_result"
    }
   ],
   "source": [
    "xh.astype(numpy.float32)\n",
    "yh.astype(numpy.float32)"
   ]
  },
  {
   "cell_type": "code",
   "execution_count": 8,
   "metadata": {
    "collapsed": false,
    "deletable": true,
    "editable": true
   },
   "outputs": [
    {
     "data": {
      "text/plain": [
       "array([ 0.,  0.,  0., ...,  0.,  0.,  0.], dtype=float32)"
      ]
     },
     "execution_count": 8,
     "metadata": {},
     "output_type": "execute_result"
    }
   ],
   "source": [
    "zh = numpy.zeros_like(xh)\n",
    "zh.astype(numpy.float32)"
   ]
  },
  {
   "cell_type": "code",
   "execution_count": 9,
   "metadata": {
    "collapsed": false,
    "deletable": true,
    "editable": true
   },
   "outputs": [
    {
     "data": {
      "text/plain": [
       "8"
      ]
     },
     "execution_count": 9,
     "metadata": {},
     "output_type": "execute_result"
    }
   ],
   "source": [
    "xh.itemsize\n",
    "yh.itemsize"
   ]
  },
  {
   "cell_type": "code",
   "execution_count": 10,
   "metadata": {
    "collapsed": false,
    "deletable": true,
    "editable": true
   },
   "outputs": [
    {
     "data": {
      "text/plain": [
       "1048576"
      ]
     },
     "execution_count": 10,
     "metadata": {},
     "output_type": "execute_result"
    }
   ],
   "source": [
    "len(xh)"
   ]
  },
  {
   "cell_type": "markdown",
   "metadata": {
    "deletable": true,
    "editable": true
   },
   "source": [
    "Allocate memory space"
   ]
  },
  {
   "cell_type": "code",
   "execution_count": 11,
   "metadata": {
    "collapsed": false,
    "deletable": true,
    "editable": true
   },
   "outputs": [],
   "source": [
    "x_gpu = cuda.mem_alloc(xh.size * xh.dtype.itemsize)\n",
    "cuda.memcpy_htod(x_gpu, xh)"
   ]
  },
  {
   "cell_type": "code",
   "execution_count": 12,
   "metadata": {
    "collapsed": false,
    "deletable": true,
    "editable": true
   },
   "outputs": [],
   "source": [
    "y_gpu = cuda.mem_alloc(yh.size * yh.dtype.itemsize)\n",
    "cuda.memcpy_htod(y_gpu, yh)"
   ]
  },
  {
   "cell_type": "code",
   "execution_count": 13,
   "metadata": {
    "collapsed": true,
    "deletable": true,
    "editable": true
   },
   "outputs": [],
   "source": [
    "z_gpu = cuda.mem_alloc(zh.size * zh.dtype.itemsize)\n",
    "cuda.memcpy_htod(z_gpu, zh)"
   ]
  },
  {
   "cell_type": "code",
   "execution_count": 14,
   "metadata": {
    "collapsed": false,
    "deletable": true,
    "editable": true
   },
   "outputs": [],
   "source": [
    "func = mod3.get_function(\"add3\")"
   ]
  },
  {
   "cell_type": "code",
   "execution_count": 15,
   "metadata": {
    "collapsed": false,
    "deletable": true,
    "editable": true
   },
   "outputs": [
    {
     "data": {
      "text/plain": [
       "4096"
      ]
     },
     "execution_count": 15,
     "metadata": {},
     "output_type": "execute_result"
    }
   ],
   "source": [
    "numBlocks"
   ]
  },
  {
   "cell_type": "code",
   "execution_count": 16,
   "metadata": {
    "collapsed": false,
    "deletable": true,
    "editable": true
   },
   "outputs": [
    {
     "data": {
      "text/plain": [
       "256"
      ]
     },
     "execution_count": 16,
     "metadata": {},
     "output_type": "execute_result"
    }
   ],
   "source": [
    "blockSize"
   ]
  },
  {
   "cell_type": "code",
   "execution_count": 17,
   "metadata": {
    "collapsed": true,
    "deletable": true,
    "editable": true
   },
   "outputs": [],
   "source": [
    "n = numpy.int32(N)\n",
    "A=1\n",
    "a = numpy.float32(A)"
   ]
  },
  {
   "cell_type": "code",
   "execution_count": 18,
   "metadata": {
    "collapsed": false,
    "deletable": true,
    "editable": true
   },
   "outputs": [],
   "source": [
    "#func(N, x_gpu, y_gpu, block=(256, 1, 1), grid=(1, 1), shared=0) \n",
    "func(z_gpu, n, a, x_gpu, y_gpu,block=(256, 1, 1), grid=(numBlocks,1), shared=0)"
   ]
  },
  {
   "cell_type": "code",
   "execution_count": 19,
   "metadata": {
    "collapsed": false,
    "deletable": true,
    "editable": true
   },
   "outputs": [],
   "source": [
    "cuda.memcpy_dtoh(zh, z_gpu)"
   ]
  },
  {
   "cell_type": "code",
   "execution_count": 20,
   "metadata": {
    "collapsed": false,
    "deletable": true,
    "editable": true
   },
   "outputs": [
    {
     "data": {
      "text/plain": [
       "1048576"
      ]
     },
     "execution_count": 20,
     "metadata": {},
     "output_type": "execute_result"
    }
   ],
   "source": [
    "len(zh)"
   ]
  },
  {
   "cell_type": "code",
   "execution_count": 21,
   "metadata": {
    "collapsed": false,
    "deletable": true,
    "editable": true
   },
   "outputs": [
    {
     "data": {
      "text/plain": [
       "array([  3.01068092e+01,   2.19559544e-10,   9.63087047e-06, ...,\n",
       "         0.00000000e+00,   0.00000000e+00,   0.00000000e+00])"
      ]
     },
     "execution_count": 21,
     "metadata": {},
     "output_type": "execute_result"
    }
   ],
   "source": [
    "zh"
   ]
  },
  {
   "cell_type": "code",
   "execution_count": null,
   "metadata": {
    "collapsed": false,
    "deletable": true,
    "editable": true
   },
   "outputs": [],
   "source": []
  },
  {
   "cell_type": "code",
   "execution_count": null,
   "metadata": {
    "collapsed": false,
    "deletable": true,
    "editable": true
   },
   "outputs": [],
   "source": []
  }
 ],
 "metadata": {
  "kernelspec": {
   "display_name": "Python 3",
   "language": "python",
   "name": "python3"
  },
  "language_info": {
   "codemirror_mode": {
    "name": "ipython",
    "version": 3
   },
   "file_extension": ".py",
   "mimetype": "text/x-python",
   "name": "python",
   "nbconvert_exporter": "python",
   "pygments_lexer": "ipython3",
   "version": "3.5.2"
  }
 },
 "nbformat": 4,
 "nbformat_minor": 0
}
