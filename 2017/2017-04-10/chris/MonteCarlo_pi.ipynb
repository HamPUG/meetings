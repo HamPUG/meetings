{
 "cells": [
  {
   "cell_type": "code",
   "execution_count": 12,
   "metadata": {
    "collapsed": false,
    "deletable": true,
    "editable": true
   },
   "outputs": [
    {
     "name": "stdout",
     "output_type": "stream",
     "text": [
      "Estimate for PI on GPU: 3.1414204\n"
     ]
    }
   ],
   "source": [
    "import pycuda.gpuarray as gpuarray\n",
    "import pycuda.driver as cuda\n",
    "import pycuda.autoinit\n",
    "import numpy\n",
    "from pycuda.curandom import XORWOWRandomNumberGenerator\n",
    "from pycuda.reduction import ReductionKernel\n",
    "#see documentation \n",
    "rng = XORWOWRandomNumberGenerator()\n",
    "N = 10000000\n",
    "x_gpu = rng.gen_uniform((N,), dtype=numpy.float32)\n",
    "y_gpu = rng.gen_uniform((N,), dtype=numpy.float32)\n",
    "\n",
    "circle = ReductionKernel(numpy.dtype(numpy.float32), neutral=\"0\",\n",
    "\n",
    "reduce_expr=\"a+b\",\n",
    "\n",
    "map_expr=\"float((x[i]*x[i]+y[i]*y[i])<=1.0f)\",\n",
    "\n",
    "arguments=\"float *x, float *y\")\n",
    "result = 4.0 * circle(x_gpu, y_gpu).get() / N\n",
    "\n",
    "print ('Estimate for PI on GPU: {}'.format(result))\n",
    "\n",
    "\n"
   ]
  },
  {
   "cell_type": "code",
   "execution_count": 3,
   "metadata": {
    "collapsed": false,
    "deletable": true,
    "editable": true
   },
   "outputs": [],
   "source": []
  },
  {
   "cell_type": "code",
   "execution_count": null,
   "metadata": {
    "collapsed": false,
    "deletable": true,
    "editable": true
   },
   "outputs": [],
   "source": []
  }
 ],
 "metadata": {
  "kernelspec": {
   "display_name": "Python 3",
   "language": "python",
   "name": "python3"
  },
  "language_info": {
   "codemirror_mode": {
    "name": "ipython",
    "version": 3
   },
   "file_extension": ".py",
   "mimetype": "text/x-python",
   "name": "python",
   "nbconvert_exporter": "python",
   "pygments_lexer": "ipython3",
   "version": "3.5.2"
  }
 },
 "nbformat": 4,
 "nbformat_minor": 0
}
