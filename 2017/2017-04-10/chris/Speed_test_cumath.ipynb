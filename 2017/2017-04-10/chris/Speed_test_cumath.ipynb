{
 "cells": [
  {
   "cell_type": "markdown",
   "metadata": {
    "deletable": true,
    "editable": true
   },
   "source": [
    "http://stackoverflow.com/questions/25436620/pycuda-performance-benchmark-elementwisekernel-vs-cumath"
   ]
  },
  {
   "cell_type": "code",
   "execution_count": 2,
   "metadata": {
    "collapsed": false,
    "deletable": true,
    "editable": true
   },
   "outputs": [
    {
     "name": "stdout",
     "output_type": "stream",
     "text": [
      "Numpy 0.033585056304931644\n",
      "Kernel 0.13718858337402345\n",
      "Cumath 0.003263456106185913\n"
     ]
    }
   ],
   "source": [
    "import pycuda.autoinit\n",
    "import pycuda.driver as drv\n",
    "from pycuda import gpuarray\n",
    "from pycuda import cumath\n",
    "from pycuda.elementwise import ElementwiseKernel\n",
    "import numpy as np\n",
    "\n",
    "start = drv.Event()\n",
    "end = drv.Event()\n",
    "\n",
    "N = 10**6\n",
    "\n",
    "a = 2*np.ones(N,dtype=np.float64)\n",
    "\n",
    "start.record()\n",
    "np.exp(a)\n",
    "end.record()\n",
    "end.synchronize()\n",
    "secs = start.time_till(end)*1e-3\n",
    "print (\"Numpy\",secs)\n",
    "\n",
    "a_gpu = gpuarray.to_gpu(a)\n",
    "b_gpu = gpuarray.zeros_like(a_gpu)\n",
    "\n",
    "kernel = ElementwiseKernel(\n",
    "   \"double *a,double *b\",\n",
    "   \"b[i] = exp(a[i]);\",\n",
    "    \"kernel\")\n",
    "\n",
    "start.record() # start timing\n",
    "kernel(a_gpu,b_gpu)\n",
    "end.record() # end timing\n",
    "end.synchronize()\n",
    "secs = start.time_till(end)*1e-3\n",
    "print (\"Kernel\",secs)\n",
    "\n",
    "start.record()\n",
    "cumath.exp(a_gpu)\n",
    "end.record()\n",
    "end.synchronize()\n",
    "secs = start.time_till(end)*1e-3\n",
    "print (\"Cumath\", secs)"
   ]
  },
  {
   "cell_type": "code",
   "execution_count": null,
   "metadata": {
    "collapsed": false,
    "deletable": true,
    "editable": true
   },
   "outputs": [],
   "source": []
  },
  {
   "cell_type": "code",
   "execution_count": null,
   "metadata": {
    "collapsed": false,
    "deletable": true,
    "editable": true
   },
   "outputs": [],
   "source": [
    "di"
   ]
  }
 ],
 "metadata": {
  "kernelspec": {
   "display_name": "Python 3",
   "language": "python",
   "name": "python3"
  },
  "language_info": {
   "codemirror_mode": {
    "name": "ipython",
    "version": 3
   },
   "file_extension": ".py",
   "mimetype": "text/x-python",
   "name": "python",
   "nbconvert_exporter": "python",
   "pygments_lexer": "ipython3",
   "version": "3.5.2"
  }
 },
 "nbformat": 4,
 "nbformat_minor": 0
}
