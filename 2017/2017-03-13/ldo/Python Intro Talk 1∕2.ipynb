{
 "cells": [
  {
   "cell_type": "markdown",
   "metadata": {},
   "source": [
    "Some notes for my Python intro talk"
   ]
  },
  {
   "cell_type": "markdown",
   "metadata": {},
   "source": [
    "This will be using Python 3.5. You may come across a lot of code requiring Python 2.7, the last of the Python 2 series. Some deliberate backward incompatibilities were introduced in Python 3 to fix problems that could not be handled in a backward-compatible fashion."
   ]
  },
  {
   "cell_type": "markdown",
   "metadata": {},
   "source": [
    "## Numbers"
   ]
  },
  {
   "cell_type": "markdown",
   "metadata": {},
   "source": [
    "Dynamically-typed language, no need to declare variables; just assign to them to create them. Every value is an object."
   ]
  },
  {
   "cell_type": "code",
   "execution_count": null,
   "metadata": {
    "collapsed": false
   },
   "outputs": [],
   "source": [
    "a = 5 # this is a comment\n",
    "b = 3\n",
    "# This is also a comment\n",
    "print(a, \"+\", b, \"=\", a + b)\n",
    "print(a, \"-\", b, \"=\", a - b)\n",
    "print(a, \"*\", b, \"=\", a * b)\n",
    "print(a, \"/\", b, \"=\", a / b) # real division\n",
    "print(a, \"//\", b, \"=\", a // b) # integer division\n",
    "print(a, \"%\", b, \"=\", a % b) # remainder on integer division\n",
    "print(a, \"**\", b, \"=\", a ** b) # power"
   ]
  },
  {
   "cell_type": "markdown",
   "metadata": {},
   "source": [
    "Comparisons return values of a distinct `bool` type:"
   ]
  },
  {
   "cell_type": "code",
   "execution_count": null,
   "metadata": {
    "collapsed": false
   },
   "outputs": [],
   "source": [
    "print(a, \">\", b, \"=\", a > b)\n",
    "print(a, \"<\", b, \"=\", a < b)"
   ]
  },
  {
   "cell_type": "markdown",
   "metadata": {},
   "source": [
    "Usual distinction between real and integer types (note “`type`” built-in function)"
   ]
  },
  {
   "cell_type": "code",
   "execution_count": null,
   "metadata": {
    "collapsed": false
   },
   "outputs": [],
   "source": [
    "a = 2\n",
    "b = 2.0\n",
    "print(\"type(\", a, \") = \", type(a))\n",
    "print(\"type(\", b, \") = \", type(b))\n",
    "print(a, \">\", b, \"=\", a > b)\n",
    "print(a, \"<\", b, \"=\", a < b)\n",
    "print(a, \"==\", b, \"=\", a == b)\n",
    "print(a, \"is\", b, \"=\", a is b)"
   ]
  },
  {
   "cell_type": "code",
   "execution_count": null,
   "metadata": {
    "collapsed": false
   },
   "outputs": [],
   "source": [
    "dir(type(a))"
   ]
  },
  {
   "cell_type": "markdown",
   "metadata": {},
   "source": [
    "Also built-in “`round`” function, which takes integer or real and returns integer (note Swedish rounding):"
   ]
  },
  {
   "cell_type": "code",
   "execution_count": null,
   "metadata": {
    "collapsed": false
   },
   "outputs": [],
   "source": [
    "print(round(2.5))\n",
    "print(round(5.5))"
   ]
  },
  {
   "cell_type": "markdown",
   "metadata": {},
   "source": [
    "Integers have infinite precision:"
   ]
  },
  {
   "cell_type": "code",
   "execution_count": null,
   "metadata": {
    "collapsed": false
   },
   "outputs": [],
   "source": [
    "a = 36893488147419103237\n",
    "b = 36893488147419103225\n",
    "print(a * b)\n",
    "print ((a * b + 1) % b)"
   ]
  },
  {
   "cell_type": "markdown",
   "metadata": {},
   "source": [
    "Elementary functions: these are not built into the language, but in a standard library module called `math`. You bring in library modules (whether they come with the language or are installed separately) using the `import` statement:"
   ]
  },
  {
   "cell_type": "code",
   "execution_count": null,
   "metadata": {
    "collapsed": false
   },
   "outputs": [],
   "source": [
    "import math"
   ]
  },
  {
   "cell_type": "markdown",
   "metadata": {},
   "source": [
    "Now I can reference any name *f* *exported* by the `math` module with the notation `math.`*f*:"
   ]
  },
  {
   "cell_type": "code",
   "execution_count": null,
   "metadata": {
    "collapsed": false
   },
   "outputs": [],
   "source": [
    "print(math.sqrt(10))\n",
    "print(math.sin(math.pi / 4))\n",
    "print(math.degrees(math.asin(1)))"
   ]
  },
  {
   "cell_type": "markdown",
   "metadata": {},
   "source": [
    "Introducting exceptions: division by zero"
   ]
  },
  {
   "cell_type": "code",
   "execution_count": null,
   "metadata": {
    "collapsed": false
   },
   "outputs": [],
   "source": [
    "a = 3\n",
    "b = 0\n",
    "c = a / b\n",
    "print(c)"
   ]
  },
  {
   "cell_type": "markdown",
   "metadata": {},
   "source": [
    "You can catch exceptions with a `try`-statement. Here I use the `float` function, which can be used to explicitly convert things (integers, strings) to floating-point type. This recognizes special string representations for “infinity” and “not a number”."
   ]
  },
  {
   "cell_type": "code",
   "execution_count": null,
   "metadata": {
    "collapsed": false
   },
   "outputs": [],
   "source": [
    "try :\n",
    "    c = a / b\n",
    "except ZeroDivisionError :\n",
    "    c = math.inf\n",
    "#end try\n",
    "print(c)"
   ]
  },
  {
   "cell_type": "markdown",
   "metadata": {},
   "source": [
    "Arithmetic conforms to IEEE-754, which allows for NaN and positive and negative infinity as valid values."
   ]
  },
  {
   "cell_type": "code",
   "execution_count": null,
   "metadata": {
    "collapsed": false
   },
   "outputs": [],
   "source": [
    "print(c, \" + \", c, \" = \", c + c)\n",
    "print(c, \" - \", c, \" = \", c - c)"
   ]
  },
  {
   "cell_type": "markdown",
   "metadata": {},
   "source": [
    "## Strings"
   ]
  },
  {
   "cell_type": "markdown",
   "metadata": {},
   "source": [
    "String literals can be written using single or double quotes. In Python 3, strings are Unicode. The builtin function `len` returns the number of characters (actually Unicode *code points*)."
   ]
  },
  {
   "cell_type": "code",
   "execution_count": null,
   "metadata": {
    "collapsed": false
   },
   "outputs": [],
   "source": [
    "s = \"the quick brown fox jumps over the lazy dog\""
   ]
  },
  {
   "cell_type": "code",
   "execution_count": null,
   "metadata": {
    "collapsed": false
   },
   "outputs": [],
   "source": [
    "print(type(s))\n",
    "print(len(s))"
   ]
  },
  {
   "cell_type": "markdown",
   "metadata": {},
   "source": [
    "Example string method: search for starting position of a substring."
   ]
  },
  {
   "cell_type": "code",
   "execution_count": null,
   "metadata": {
    "collapsed": false
   },
   "outputs": [],
   "source": [
    "s.find(\"brown\")"
   ]
  },
  {
   "cell_type": "code",
   "execution_count": null,
   "metadata": {
    "collapsed": false
   },
   "outputs": [],
   "source": [
    "s[10]"
   ]
  },
  {
   "cell_type": "markdown",
   "metadata": {},
   "source": [
    "Character positions are numbered from zero. A **slice** *s*`[`*lo*`:`*hi*`]` includes the characters with indices from *lo* up to but *not* including *hi*. (Mathematically defining a *half-open* interval.)"
   ]
  },
  {
   "cell_type": "code",
   "execution_count": null,
   "metadata": {
    "collapsed": false
   },
   "outputs": [],
   "source": [
    "s[1:5]"
   ]
  },
  {
   "cell_type": "markdown",
   "metadata": {},
   "source": [
    "This way, if the start index of the following slice equals the end index of the preceding slice, you get exactly adjoining slices. Example, also illustrating string concatenation:"
   ]
  },
  {
   "cell_type": "code",
   "execution_count": null,
   "metadata": {
    "collapsed": false
   },
   "outputs": [],
   "source": [
    "s[1:5] + s[5:10]"
   ]
  },
  {
   "cell_type": "markdown",
   "metadata": {},
   "source": [
    "Negative indices number from the end of the string"
   ]
  },
  {
   "cell_type": "code",
   "execution_count": null,
   "metadata": {
    "collapsed": false
   },
   "outputs": [],
   "source": [
    "print(s[-1])\n",
    "print(s[-1:-5:-1])"
   ]
  },
  {
   "cell_type": "markdown",
   "metadata": {},
   "source": [
    "An omitted starting index defaults to 0; an omitted ending index defaults to the length of the string."
   ]
  },
  {
   "cell_type": "code",
   "execution_count": null,
   "metadata": {
    "collapsed": false
   },
   "outputs": [],
   "source": [
    "print(s[:22])\n",
    "print(s[22:])"
   ]
  },
  {
   "cell_type": "markdown",
   "metadata": {},
   "source": [
    "Elements of a string are not characters, but single-character strings. There is no “character” type as such in Python."
   ]
  },
  {
   "cell_type": "code",
   "execution_count": null,
   "metadata": {
    "collapsed": false
   },
   "outputs": [],
   "source": [
    "print(s[0])\n",
    "print(type(s[0]))"
   ]
  },
  {
   "cell_type": "markdown",
   "metadata": {},
   "source": [
    "String repetition with multiplication by integer:"
   ]
  },
  {
   "cell_type": "code",
   "execution_count": null,
   "metadata": {
    "collapsed": false
   },
   "outputs": [],
   "source": [
    "print(2 * s)\n",
    "print(s * 3)"
   ]
  },
  {
   "cell_type": "code",
   "execution_count": null,
   "metadata": {
    "collapsed": false
   },
   "outputs": [],
   "source": [
    "print(2 * (s + \";\"))"
   ]
  },
  {
   "cell_type": "code",
   "execution_count": null,
   "metadata": {
    "collapsed": false
   },
   "outputs": [],
   "source": [
    "\";\".join([s, s])"
   ]
  },
  {
   "cell_type": "markdown",
   "metadata": {},
   "source": [
    "String formatting (old-style):"
   ]
  },
  {
   "cell_type": "code",
   "execution_count": null,
   "metadata": {
    "collapsed": false
   },
   "outputs": [],
   "source": [
    "print(\"the element at position %d is %s\" % (2, s[2]))"
   ]
  },
  {
   "cell_type": "markdown",
   "metadata": {},
   "source": [
    "Formatting operator creates a new string; alternative way of writing above:"
   ]
  },
  {
   "cell_type": "code",
   "execution_count": null,
   "metadata": {
    "collapsed": false
   },
   "outputs": [],
   "source": [
    "ss = \"the element at position %d is %s\" % (2, s[2])\n",
    "print(ss)"
   ]
  },
  {
   "cell_type": "markdown",
   "metadata": {},
   "source": [
    "Another built-in function: `repr` creates a “Python-syntax-like representation” of an object:"
   ]
  },
  {
   "cell_type": "code",
   "execution_count": null,
   "metadata": {
    "collapsed": false
   },
   "outputs": [],
   "source": [
    "print(\"the element at position %d is %s\" % (2, repr(s[2])))"
   ]
  },
  {
   "cell_type": "markdown",
   "metadata": {},
   "source": [
    "String formatting (new-style):"
   ]
  },
  {
   "cell_type": "code",
   "execution_count": null,
   "metadata": {
    "collapsed": false
   },
   "outputs": [],
   "source": [
    "print(\"the element at position {} is {}\".format(2, s[2]))"
   ]
  },
  {
   "cell_type": "code",
   "execution_count": null,
   "metadata": {
    "collapsed": false
   },
   "outputs": [],
   "source": [
    "print(\"the element at position {} is {!r}\".format(2, s[2]))"
   ]
  },
  {
   "cell_type": "markdown",
   "metadata": {},
   "source": [
    "## Lists"
   ]
  },
  {
   "cell_type": "markdown",
   "metadata": {},
   "source": [
    "A *list* is a sequence of arbitrary Python objects. Many of the same functions that work with strings also work with lists, because both are in the category of *sequence types*."
   ]
  },
  {
   "cell_type": "code",
   "execution_count": null,
   "metadata": {
    "collapsed": false
   },
   "outputs": [],
   "source": [
    "a = [\"green\", 3, [\"a\", \"sublist\"], 4.0]"
   ]
  },
  {
   "cell_type": "code",
   "execution_count": null,
   "metadata": {
    "collapsed": false
   },
   "outputs": [],
   "source": [
    "len(a)"
   ]
  },
  {
   "cell_type": "code",
   "execution_count": null,
   "metadata": {
    "collapsed": false
   },
   "outputs": [],
   "source": [
    "a[0]"
   ]
  },
  {
   "cell_type": "code",
   "execution_count": null,
   "metadata": {
    "collapsed": false
   },
   "outputs": [],
   "source": [
    "a[1:3]"
   ]
  },
  {
   "cell_type": "code",
   "execution_count": null,
   "metadata": {
    "collapsed": false
   },
   "outputs": [],
   "source": [
    "j = s.split(\" \")\n",
    "print(j)"
   ]
  },
  {
   "cell_type": "code",
   "execution_count": null,
   "metadata": {
    "collapsed": false
   },
   "outputs": [],
   "source": [
    "\"--\".join(j)"
   ]
  },
  {
   "cell_type": "markdown",
   "metadata": {},
   "source": [
    "Note use of a method name on a literal string."
   ]
  },
  {
   "cell_type": "markdown",
   "metadata": {},
   "source": [
    "Watch out for multiple references to the same *mutable* object (can be compared with `is` operator):"
   ]
  },
  {
   "cell_type": "code",
   "execution_count": null,
   "metadata": {
    "collapsed": false
   },
   "outputs": [],
   "source": [
    "b = a\n",
    "print(\"before:\", b)\n",
    "b[1] += 1\n",
    "print(\"after a:\", a)\n",
    "print(\"after b: \", b)\n",
    "print(\"a is b:\", a is b)"
   ]
  },
  {
   "cell_type": "markdown",
   "metadata": {},
   "source": [
    "Executing the *same* expression a second time creates a *new* list:"
   ]
  },
  {
   "cell_type": "code",
   "execution_count": null,
   "metadata": {
    "collapsed": false
   },
   "outputs": [],
   "source": [
    "b = [\"green\", 3, [\"a\", \"sublist\"], 4.0]\n",
    "print(\"a is b:\", a is b)\n",
    "print(\"a == b:\", a == b)\n",
    "b[1] += 1\n",
    "print(\"after a:\", a)\n",
    "print(\"after b: \", b)\n",
    "print(\"a is b:\", a is b)\n",
    "print(\"a == b:\", a == b)"
   ]
  },
  {
   "cell_type": "markdown",
   "metadata": {},
   "source": [
    "Strings are *immutable*: changing elements is not allowed"
   ]
  },
  {
   "cell_type": "code",
   "execution_count": null,
   "metadata": {
    "collapsed": false
   },
   "outputs": [],
   "source": [
    "s[2] = \"x\""
   ]
  },
  {
   "cell_type": "markdown",
   "metadata": {},
   "source": [
    "You can create a new string:"
   ]
  },
  {
   "cell_type": "code",
   "execution_count": null,
   "metadata": {
    "collapsed": false
   },
   "outputs": [],
   "source": [
    "s = s[:2] + \"x\" + s[3:]\n",
    "print(s)"
   ]
  },
  {
   "cell_type": "markdown",
   "metadata": {},
   "source": [
    "There are also *tuples*, which are an immutable version of lists, created with parentheses instead of brackets."
   ]
  },
  {
   "cell_type": "markdown",
   "metadata": {},
   "source": [
    "## Dictionaries"
   ]
  },
  {
   "cell_type": "markdown",
   "metadata": {},
   "source": [
    "Dictionaries store key-value pairs, allowing rapid looking of the value associated with a key.\n",
    "\n",
    "This example is a toy stocktaking app for a greengrocers."
   ]
  },
  {
   "cell_type": "code",
   "execution_count": null,
   "metadata": {
    "collapsed": false
   },
   "outputs": [],
   "source": [
    "stock = {\"apples\" : 5, \"oranges\" : 3, \"pears\" : 3}\n",
    "print(sorted(stock.items(), key = lambda k : k[0]))\n",
    "print(stock.keys())\n",
    "print(stock.values())"
   ]
  },
  {
   "cell_type": "markdown",
   "metadata": {},
   "source": [
    "Note no guarantees about ordering (other than consistency between `keys()` and `values()`): use `sorted` function (below) to get this"
   ]
  },
  {
   "cell_type": "markdown",
   "metadata": {},
   "source": [
    "Example loop: more readable display of stock:"
   ]
  },
  {
   "cell_type": "code",
   "execution_count": null,
   "metadata": {
    "collapsed": false
   },
   "outputs": [],
   "source": [
    "for k in stock.keys() :\n",
    "    print(\"Stock for %s = %d\" % (k, stock[k]))\n",
    "#end for"
   ]
  },
  {
   "cell_type": "markdown",
   "metadata": {},
   "source": [
    "Slightly shorter to just say *var* `in` *dict*:"
   ]
  },
  {
   "cell_type": "code",
   "execution_count": null,
   "metadata": {
    "collapsed": false
   },
   "outputs": [],
   "source": [
    "for k in stock :\n",
    "    print(\"Stock for %s = %d\" % (k, stock[k]))\n",
    "#end for"
   ]
  },
  {
   "cell_type": "code",
   "execution_count": null,
   "metadata": {
    "collapsed": false
   },
   "outputs": [],
   "source": [
    "for k in sorted(stock.keys()) :\n",
    "    print(\"Stock for %s = %d\" % (k, stock[k]))\n",
    "#end for"
   ]
  },
  {
   "cell_type": "markdown",
   "metadata": {},
   "source": [
    "Define a function for easy reinvocation (note the docstring):"
   ]
  },
  {
   "cell_type": "code",
   "execution_count": null,
   "metadata": {
    "collapsed": false
   },
   "outputs": [],
   "source": [
    "def show_stock() :\n",
    "    \"shows all items and quantities in the stock-keeping system.\"\n",
    "    for k in sorted(stock.keys()) :\n",
    "        print(\"Stock for %s = %d\" % (k, stock[k]))\n",
    "    #end for\n",
    "#end show_stock\n",
    "\n",
    "help(show_stock)\n",
    "\n",
    "show_stock()"
   ]
  },
  {
   "cell_type": "markdown",
   "metadata": {},
   "source": [
    "Customer buys a pear:"
   ]
  },
  {
   "cell_type": "code",
   "execution_count": null,
   "metadata": {
    "collapsed": false
   },
   "outputs": [],
   "source": [
    "to_buy = \"pears\"\n",
    "stock[to_buy] -= 1\n",
    "show_stock()"
   ]
  },
  {
   "cell_type": "markdown",
   "metadata": {},
   "source": [
    "Define a function to “buy” some quantity of a product:"
   ]
  },
  {
   "cell_type": "code",
   "execution_count": null,
   "metadata": {
    "collapsed": false
   },
   "outputs": [],
   "source": [
    "def buy(name, qty) :\n",
    "    \"decrements the stock for the specified item by the specified quantity.\"\n",
    "    stock[name] -= qty\n",
    "    show_stock()\n",
    "#end buy\n",
    "buy(\"pears\", 1)"
   ]
  },
  {
   "cell_type": "markdown",
   "metadata": {},
   "source": [
    "Trying to buy something with no stock entry:"
   ]
  },
  {
   "cell_type": "code",
   "execution_count": null,
   "metadata": {
    "collapsed": false
   },
   "outputs": [],
   "source": [
    "buy(\"lemons\", 1)"
   ]
  },
  {
   "cell_type": "markdown",
   "metadata": {},
   "source": [
    "Function as written allows us to buy more than available stock!"
   ]
  },
  {
   "cell_type": "code",
   "execution_count": null,
   "metadata": {
    "collapsed": false
   },
   "outputs": [],
   "source": [
    "buy(\"pears\", 2)"
   ]
  },
  {
   "cell_type": "markdown",
   "metadata": {},
   "source": [
    "Use an `if`-statement to add a check against buying more than available stock. Deliberately `raise` an exception if this happens; use the handy standard Python exception `ValueError`."
   ]
  },
  {
   "cell_type": "code",
   "execution_count": null,
   "metadata": {
    "collapsed": false
   },
   "outputs": [],
   "source": [
    "def buy(name, qty) :\n",
    "    new_qty = stock[name] - qty\n",
    "    if new_qty < 0 :\n",
    "        raise ValueError(\"don't have %d of %s available\" % (qty, name))\n",
    "    #end if\n",
    "    stock[name] = new_qty\n",
    "#end buy\n",
    "stock[\"pears\"] = 2"
   ]
  },
  {
   "cell_type": "code",
   "execution_count": null,
   "metadata": {
    "collapsed": false
   },
   "outputs": [],
   "source": [
    "buy(\"pears\", 2)"
   ]
  },
  {
   "cell_type": "markdown",
   "metadata": {},
   "source": [
    "Change `show_stock` to add an `if`-statement to warn about stock running low:"
   ]
  },
  {
   "cell_type": "code",
   "execution_count": null,
   "metadata": {
    "collapsed": false
   },
   "outputs": [],
   "source": [
    "def show_stock() :\n",
    "    for k in stock :\n",
    "        print(k, stock[k])\n",
    "        if stock[k] < 2 :\n",
    "            print(k, \"running low\")\n",
    "        #end if\n",
    "    #end for\n",
    "#end show_stock\n",
    "show_stock()"
   ]
  },
  {
   "cell_type": "markdown",
   "metadata": {},
   "source": [
    "## Sets"
   ]
  },
  {
   "cell_type": "markdown",
   "metadata": {},
   "source": [
    "Where dictionaries store an associateion of keys with values, sets store only the presence of the keys."
   ]
  },
  {
   "cell_type": "code",
   "execution_count": null,
   "metadata": {
    "collapsed": false
   },
   "outputs": [],
   "source": [
    "citrus = {\"oranges\", \"lemons\"}"
   ]
  },
  {
   "cell_type": "markdown",
   "metadata": {},
   "source": [
    "The set constructor differs from the dictionary constructor correspondingly. However, note that empty braces “`{}`” denote an empty *dictionary*, not an empty *set*: the latter is constructed with the built-in `set` function called with no arguments: `set()`.\n",
    "\n",
    "Demonstration of set-membership test:"
   ]
  },
  {
   "cell_type": "code",
   "execution_count": null,
   "metadata": {
    "collapsed": false
   },
   "outputs": [],
   "source": [
    "for k in stock :\n",
    "    if k in citrus :\n",
    "        print(k, stock[k])\n",
    "    #end if\n",
    "#end for"
   ]
  },
  {
   "cell_type": "markdown",
   "metadata": {},
   "source": [
    "More categories: why not put them into a dictionary, keyed on the category name:"
   ]
  },
  {
   "cell_type": "code",
   "execution_count": null,
   "metadata": {
    "collapsed": false
   },
   "outputs": [],
   "source": [
    "categories = {\"citrus\" : {\"oranges\", \"lemons\"}, \"pome\" : {\"apples\", \"pears\", \"quinces\"}}"
   ]
  },
  {
   "cell_type": "markdown",
   "metadata": {},
   "source": [
    "Example of a function taking an argument:"
   ]
  },
  {
   "cell_type": "code",
   "execution_count": null,
   "metadata": {
    "collapsed": false
   },
   "outputs": [],
   "source": [
    "def show_stock_in_category(category_name) :\n",
    "    for k in stock :\n",
    "        if k in categories[category_name] :\n",
    "            print(k, stock[k])\n",
    "        #end if\n",
    "    #end for\n",
    "#end show_stock_in_category"
   ]
  },
  {
   "cell_type": "markdown",
   "metadata": {},
   "source": [
    "Example use:"
   ]
  },
  {
   "cell_type": "code",
   "execution_count": null,
   "metadata": {
    "collapsed": false
   },
   "outputs": [],
   "source": [
    "show_stock_in_category(\"citrus\")"
   ]
  },
  {
   "cell_type": "markdown",
   "metadata": {},
   "source": [
    "or alternatively modify original `show_stock` function to take optional category: (note short-cut boolean evaluation)"
   ]
  },
  {
   "cell_type": "code",
   "execution_count": null,
   "metadata": {
    "collapsed": false
   },
   "outputs": [],
   "source": [
    "def show_stock(category_name = None) :\n",
    "    \"shows items and quantities in the stock-keeping system for the specified category, or all categories if omitted.\"\n",
    "    for k in stock :\n",
    "        if category_name == None or k in categories[category_name] :\n",
    "            print(k, stock[k])\n",
    "            if stock[k] < 2 :\n",
    "                print(k, \"running low\")\n",
    "            #end if\n",
    "        #end if\n",
    "    #end for\n",
    "#end show_stock"
   ]
  },
  {
   "cell_type": "code",
   "execution_count": null,
   "metadata": {
    "collapsed": false
   },
   "outputs": [],
   "source": [
    "show_stock()"
   ]
  },
  {
   "cell_type": "markdown",
   "metadata": {},
   "source": [
    "still works as before, while"
   ]
  },
  {
   "cell_type": "code",
   "execution_count": null,
   "metadata": {
    "collapsed": false
   },
   "outputs": [],
   "source": [
    "show_stock(\"citrus\")"
   ]
  },
  {
   "cell_type": "markdown",
   "metadata": {},
   "source": [
    "now also works. As does specifying the argument name:"
   ]
  },
  {
   "cell_type": "code",
   "execution_count": null,
   "metadata": {
    "collapsed": false
   },
   "outputs": [],
   "source": [
    "show_stock(category_name = \"citrus\")"
   ]
  },
  {
   "cell_type": "markdown",
   "metadata": {},
   "source": [
    "which can be handy for specifying arguments out of order, omitting args with defaults, also good as a documentation aid (reader is more likely to remember argument names than their order)."
   ]
  },
  {
   "cell_type": "markdown",
   "metadata": {},
   "source": [
    "(Continued next month.)"
   ]
  },
  {
   "cell_type": "code",
   "execution_count": null,
   "metadata": {
    "collapsed": false
   },
   "outputs": [],
   "source": []
  }
 ],
 "metadata": {
  "kernelspec": {
   "display_name": "Python 3",
   "language": "python",
   "name": "python3"
  },
  "language_info": {
   "codemirror_mode": {
    "name": "ipython",
    "version": 3
   },
   "file_extension": ".py",
   "mimetype": "text/x-python",
   "name": "python",
   "nbconvert_exporter": "python",
   "pygments_lexer": "ipython3",
   "version": "3.5.3rc1"
  }
 },
 "nbformat": 4,
 "nbformat_minor": 0
}
