{
 "cells": [
  {
   "cell_type": "code",
   "execution_count": 1,
   "metadata": {
    "collapsed": false
   },
   "outputs": [],
   "source": [
    "import networkx as nx\n",
    "G = nx.read_dot('C:\\Users\\Readon\\Documents\\data\\[3].dot')"
   ]
  },
  {
   "cell_type": "code",
   "execution_count": 2,
   "metadata": {
    "collapsed": false
   },
   "outputs": [
    {
     "data": {
      "text/plain": [
       "60447"
      ]
     },
     "execution_count": 2,
     "metadata": {},
     "output_type": "execute_result"
    }
   ],
   "source": [
    "len(G.nodes())"
   ]
  },
  {
   "cell_type": "code",
   "execution_count": 13,
   "metadata": {
    "collapsed": false
   },
   "outputs": [
    {
     "name": "stdout",
     "output_type": "stream",
     "text": [
      "10 loops, best of 3: 63.5 ms per loop\n"
     ]
    }
   ],
   "source": [
    "# use list comprehesion to split a big array.\n",
    "def test_asn():\n",
    "    asnnodes = [node for node in G.nodes() if G.node[node]['type'] == 'asn']\n",
    "    notasnnodes = [node for node in G.nodes() if G.node[node]['type'] != 'asn']\n",
    "%timeit test_asn()"
   ]
  },
  {
   "cell_type": "code",
   "execution_count": 14,
   "metadata": {
    "collapsed": false
   },
   "outputs": [
    {
     "name": "stdout",
     "output_type": "stream",
     "text": [
      "10 loops, best of 3: 42.8 ms per loop\n"
     ]
    }
   ],
   "source": [
    "# use set to speed up spliting in container.\n",
    "def test_asn():\n",
    "    asnnodes = [node for node in G.nodes() if G.node[node]['type'] == 'asn']\n",
    "    notasnnodes = set(G.nodes()).difference(asnnodes)\n",
    "%timeit test_asn()"
   ]
  },
  {
   "cell_type": "code",
   "execution_count": 15,
   "metadata": {
    "collapsed": false
   },
   "outputs": [
    {
     "name": "stdout",
     "output_type": "stream",
     "text": [
      "10 loops, best of 3: 38.5 ms per loop\n"
     ]
    }
   ],
   "source": [
    "# use iterator groupby to get array splited.\n",
    "from itertools import groupby\n",
    "from collections import defaultdict\n",
    "def test_asn():\n",
    "    asnnodes = defaultdict(list)\n",
    "    for key, group in groupby(G.nodes(), lambda x: G.node[x]['type'] == \"asn\"):\n",
    "        asnnodes[key].append(group.next())\n",
    "%timeit test_asn()"
   ]
  },
  {
   "cell_type": "code",
   "execution_count": 17,
   "metadata": {
    "collapsed": false
   },
   "outputs": [
    {
     "name": "stdout",
     "output_type": "stream",
     "text": [
      "10000000 loops, best of 3: 27.1 ns per loop\n"
     ]
    }
   ],
   "source": [
    "# use defaultdict in standard library to get default value when new element is using.\n",
    "from collections import defaultdict\n",
    "def add_test():\n",
    "    a = defaultdict(list)\n",
    "    for n in G.nodes():\n",
    "        a[G.node[n]['type']].append(n)\n",
    "%timeit add_test"
   ]
  },
  {
   "cell_type": "code",
   "execution_count": 16,
   "metadata": {
    "collapsed": false
   },
   "outputs": [
    {
     "name": "stdout",
     "output_type": "stream",
     "text": [
      "10000000 loops, best of 3: 28.2 ns per loop\n"
     ]
    }
   ],
   "source": [
    "# use if clause to determine if element is in dict.\n",
    "def add_test():\n",
    "    a = {}\n",
    "    for n in G.nodes():\n",
    "        if n in a:\n",
    "            a[G.node[n]['type']].append(n)\n",
    "        else:\n",
    "            a[G.node[n]['type']] = [n]\n",
    "%timeit add_test"
   ]
  },
  {
   "cell_type": "code",
   "execution_count": 19,
   "metadata": {
    "collapsed": false
   },
   "outputs": [
    {
     "name": "stdout",
     "output_type": "stream",
     "text": [
      "10000000 loops, best of 3: 27.2 ns per loop\n"
     ]
    }
   ],
   "source": [
    "# use try clause to get the key error when element is not in dict.\n",
    "def add_test():\n",
    "    a = {}\n",
    "    for n in G.nodes():\n",
    "        try:\n",
    "            a[G.node[n]['type']].append(n)\n",
    "        except KeyError:\n",
    "            a[G.node[n]['type']] = [n]\n",
    "%timeit add_test"
   ]
  }
 ],
 "metadata": {
  "kernelspec": {
   "display_name": "Python 2",
   "language": "python",
   "name": "python2"
  },
  "language_info": {
   "codemirror_mode": {
    "name": "ipython",
    "version": 2
   },
   "file_extension": ".py",
   "mimetype": "text/x-python",
   "name": "python",
   "nbconvert_exporter": "python",
   "pygments_lexer": "ipython2",
   "version": "2.7.9"
  }
 },
 "nbformat": 4,
 "nbformat_minor": 0
}
