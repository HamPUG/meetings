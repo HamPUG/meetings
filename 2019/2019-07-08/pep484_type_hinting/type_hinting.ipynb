{
 "cells": [
  {
   "cell_type": "markdown",
   "metadata": {},
   "source": [
    "# Type hinting\n",
    "\n",
    "* defined in [PEP484](https://www.python.org/dev/peps/pep-0484/)\n",
    "* defines types for parameters and return values\n",
    "* examples below are based on ones from [PEP484](https://www.python.org/dev/peps/pep-0484/)\n",
    "* does not enforce anything, you have to use a type checker like [mypy](http://mypy-lang.org/)"
   ]
  },
  {
   "cell_type": "markdown",
   "metadata": {},
   "source": [
    "## simple example"
   ]
  },
  {
   "cell_type": "code",
   "execution_count": null,
   "metadata": {},
   "outputs": [],
   "source": [
    "def greeting(name: str) -> str:\n",
    "    return 'Hello ' + name\n",
    "\n",
    "print(greeting(\"yo!\"))\n",
    "print(greeting(1))"
   ]
  },
  {
   "cell_type": "markdown",
   "metadata": {},
   "source": [
    "When running this code snippet, you will still receive an error when supplying an integer to the `greeting` method. But by utilizing [mypy](http://mypy-lang.org/), you can check your code before running it.\n",
    "\n",
    "E.g., saving the above code snippet in a file called `simple.py` and then run it against `mypy` will result in this:"
   ]
  },
  {
   "cell_type": "markdown",
   "metadata": {},
   "source": [
    "```bash\n",
    "mypy simple.py\n",
    "simple.py:5: error: Argument 1 to \"greeting\" has incompatible type \"int\"; expected \"str\"\n",
    "```"
   ]
  },
  {
   "cell_type": "markdown",
   "metadata": {},
   "source": [
    "## *None* example"
   ]
  },
  {
   "cell_type": "code",
   "execution_count": null,
   "metadata": {},
   "outputs": [],
   "source": [
    "def using_none(somevar: str) -> None:\n",
    "    print(somevar)\n",
    "\n",
    "using_none(\"yo!\")\n"
   ]
  },
  {
   "cell_type": "markdown",
   "metadata": {},
   "source": [
    "## Type aliases"
   ]
  },
  {
   "cell_type": "code",
   "execution_count": null,
   "metadata": {},
   "outputs": [],
   "source": [
    "StrAlias = str\n",
    "def using_alias(somevar: StrAlias) -> None:\n",
    "    print(somevar)\n",
    "\n",
    "using_alias(\"hello!\")"
   ]
  },
  {
   "cell_type": "markdown",
   "metadata": {},
   "source": [
    "## Complex type aliases\n",
    "Make use of the [typing](https://docs.python.org/3/library/typing.html) module"
   ]
  },
  {
   "cell_type": "code",
   "execution_count": null,
   "metadata": {},
   "outputs": [],
   "source": [
    "from typing import TypeVar, Iterable, Tuple\n",
    "\n",
    "T = TypeVar('T', int, float, complex)\n",
    "Vector = Iterable[Tuple[T, T]]\n",
    "\n",
    "def inproduct(v: Vector[T]) -> T:\n",
    "    return sum(x*y for x, y in v)\n",
    "def dilate(v: Vector[T], scale: T) -> Vector[T]:\n",
    "    return ((x * scale, y * scale) for x, y in v)\n",
    "#vec = []  # type: Vector[float]\n",
    "vec = [(1.0, 2.3), (2.0, 3.3)]\n",
    "print(\"vector\", vec)\n",
    "print(\"inproduct\", inproduct(vec))\n",
    "print(\"dilate\")\n",
    "for d in dilate(vec, 2.0):\n",
    "    print(d)"
   ]
  },
  {
   "cell_type": "markdown",
   "metadata": {},
   "source": [
    "## Generics\n",
    "Special classes:\n",
    "* [Mapping](https://docs.python.org/3/library/typing.html#typing.Mapping)\n",
    "* [Set](https://docs.python.org/3/library/typing.html#typing.Set)\n",
    "* [Sequence](https://docs.python.org/3/library/typing.html#typing.Sequence)\n",
    "\n",
    "Default classes (set, list, dict) have been extended to handle this"
   ]
  },
  {
   "cell_type": "code",
   "execution_count": null,
   "metadata": {},
   "outputs": [],
   "source": [
    "from typing import Mapping\n",
    "def get_position_in_index(word_list: Mapping[str, int], word: str) -> int:\n",
    "    return word_list[word]\n",
    "wl = {\"hello\": 1, \"world\": 2, \"what's\": 3, \"happening\": 4}\n",
    "word = \"world\"\n",
    "print(\"position for word '\" + word + \"':\", get_position_in_index(wl, word))\n",
    "wl2 = {\"hello\": \"1\", \"world\": \"2x\", \"what's\": \"3\", \"happening\": \"4\"}\n",
    "print(\"position for word '\" + word + \"':\", get_position_in_index(wl2, word))\n"
   ]
  },
  {
   "cell_type": "markdown",
   "metadata": {},
   "source": [
    "defining generic types with [TypeVar](https://docs.python.org/3/library/typing.html#typing.TypeVar):"
   ]
  },
  {
   "cell_type": "code",
   "execution_count": null,
   "metadata": {},
   "outputs": [],
   "source": [
    "from typing import Sequence, TypeVar\n",
    "\n",
    "T = TypeVar('T')      # Declare type variable\n",
    "\n",
    "def first(l: Sequence[T]) -> T:   # Generic function\n",
    "    return l[0]\n",
    "\n",
    "example_list = [1, 2, 3, 4]\n",
    "print(\"list:\", example_list)\n",
    "print(\"first element in list is:\", first(example_list))"
   ]
  },
  {
   "cell_type": "markdown",
   "metadata": {},
   "source": [
    "Constraining generic types:"
   ]
  },
  {
   "cell_type": "code",
   "execution_count": null,
   "metadata": {},
   "outputs": [],
   "source": [
    "from typing import TypeVar, Text\n",
    "\n",
    "AnyStr = TypeVar('AnyStr', Text, bytes)\n",
    "\n",
    "def concat(x: AnyStr, y: AnyStr) -> AnyStr:\n",
    "    return x + y\n",
    "\n",
    "print(\"using strings\")\n",
    "a1 = \"yo!\"\n",
    "b1 = \" my man\"\n",
    "print(\"a1:\", a1)\n",
    "print(\"b1:\", b1)\n",
    "print(concat(a1, b1))\n",
    "\n",
    "print(\"\\nusing bytes\")\n",
    "a2 = b\"yo!\"\n",
    "b2 = b\" my man\"\n",
    "print(\"a2:\", a2)\n",
    "print(\"b2:\", b2)\n",
    "print(concat(a2, b2))"
   ]
  },
  {
   "cell_type": "markdown",
   "metadata": {},
   "source": [
    "## User-defined generic types\n",
    "Makes use of the abstract class [Generic](https://docs.python.org/3/library/typing.html#typing.Generic)"
   ]
  },
  {
   "cell_type": "code",
   "execution_count": null,
   "metadata": {},
   "outputs": [],
   "source": [
    "from typing import TypeVar, Generic\n",
    "import logging\n",
    "from logging import Logger\n",
    "\n",
    "T = TypeVar('T')\n",
    "\n",
    "class LoggedVar(Generic[T]):\n",
    "    def __init__(self, value: T, name: str, logger: Logger) -> None:\n",
    "        self.name = name\n",
    "        self.logger = logger\n",
    "        self.value = value\n",
    "\n",
    "    def set(self, new: T) -> None:\n",
    "        self.log('Set ' + repr(self.value))\n",
    "        self.value = new\n",
    "\n",
    "    def get(self) -> T:\n",
    "        self.log('Get ' + repr(self.value))\n",
    "        return self.value\n",
    "\n",
    "    def log(self, message: str) -> None:\n",
    "        self.logger.info('{}: {}'.format(self.name, message))\n",
    "\n",
    "# instantiate logger\n",
    "logging.basicConfig()\n",
    "l = logging.getLogger(\"myloggedvar\")\n",
    "l.setLevel(logging.DEBUG)\n",
    "# create logged variable\n",
    "loggedvar = LoggedVar(0, \"my_var\", l)\n",
    "# use variable\n",
    "loggedvar.set(1)\n",
    "loggedvar.set(2)\n",
    "print(\"current value:\", loggedvar.get())\n"
   ]
  },
  {
   "cell_type": "markdown",
   "metadata": {},
   "source": [
    "## Other things\n",
    "* [Scoping rules for type variables](https://www.python.org/dev/peps/pep-0484/#id21)\n",
    "* [Instantiating generic classes and type erasure](https://www.python.org/dev/peps/pep-0484/#id22)\n",
    "* [Arbitrary generic types as base classes](https://www.python.org/dev/peps/pep-0484/#id23)\n",
    "* [Abstract generic types](https://www.python.org/dev/peps/pep-0484/#id24)\n",
    "* [Type variables with an upper bound](https://www.python.org/dev/peps/pep-0484/#id25)\n",
    "* [Covariance and contravariance](https://www.python.org/dev/peps/pep-0484/#id26)\n",
    "* [The numeric tower](https://www.python.org/dev/peps/pep-0484/#id27)\n",
    "* [Forward references](https://www.python.org/dev/peps/pep-0484/#id28)\n",
    "* [Union types](https://www.python.org/dev/peps/pep-0484/#id29)\n",
    "* [Support for singleton types in unions](https://www.python.org/dev/peps/pep-0484/#id30)\n",
    "* [The Any type](https://www.python.org/dev/peps/pep-0484/#id31)\n",
    "* [The NoReturn type](https://www.python.org/dev/peps/pep-0484/#id32)\n",
    "* [The type of class objects](https://www.python.org/dev/peps/pep-0484/#id33)\n",
    "* [Annotating instance and class methods](https://www.python.org/dev/peps/pep-0484/#id34)\n",
    "* [Version and platform checking](https://www.python.org/dev/peps/pep-0484/#id35)\n",
    "* [Runtime or type checking?](https://www.python.org/dev/peps/pep-0484/#id36)\n",
    "* [Arbitrary argument lists and default argument values](https://www.python.org/dev/peps/pep-0484/#id37)\n",
    "* [Positional-only arguments](https://www.python.org/dev/peps/pep-0484/#id38)\n",
    "* [Annotating generator functions and coroutines](https://www.python.org/dev/peps/pep-0484/#id39)\n",
    "* ...\n"
   ]
  },
  {
   "cell_type": "code",
   "execution_count": null,
   "metadata": {},
   "outputs": [],
   "source": []
  }
 ],
 "metadata": {
  "kernelspec": {
   "display_name": "Python 3",
   "language": "python",
   "name": "python3"
  },
  "language_info": {
   "codemirror_mode": {
    "name": "ipython",
    "version": 3
   },
   "file_extension": ".py",
   "mimetype": "text/x-python",
   "name": "python",
   "nbconvert_exporter": "python",
   "pygments_lexer": "ipython3",
   "version": "3.6.8"
  }
 },
 "nbformat": 4,
 "nbformat_minor": 2
}
