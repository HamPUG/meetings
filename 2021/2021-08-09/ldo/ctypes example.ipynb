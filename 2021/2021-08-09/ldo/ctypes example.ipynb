{
 "cells": [
  {
   "cell_type": "markdown",
   "metadata": {},
   "source": [
    "Load the shareable library (note versioned file from runtime package, not development package):"
   ]
  },
  {
   "cell_type": "code",
   "execution_count": null,
   "metadata": {},
   "outputs": [],
   "source": [
    "import ctypes as ct\n",
    "\n",
    "cairo = ct.cdll.LoadLibrary(\"libcairo.so.2\")"
   ]
  },
  {
   "cell_type": "markdown",
   "metadata": {},
   "source": [
    "Note the use of the explicitly-versioned library name `libcairo.so.2` instead of `libcairo.so`; latter comes from development package, former from run-time package. Development package should only be needed for building compiled code (e.g. in C) against the library; for users who only need to use your module to run Python code, the run-time package should be sufficient."
   ]
  },
  {
   "cell_type": "markdown",
   "metadata": {},
   "source": [
    "**API Versus ABI** The versioning of the shared library file is to deal with incompatible changes in generated code in client programs. For example, a structure layout might change, without requiring any changes to client _source_ code: but once the client app is compiled against the new layout, it will not work against the old one, and vice versa. So existing code cannot load the new version of the library, it must continue to load the old one, while newly-built code uses the new library."
   ]
  },
  {
   "cell_type": "markdown",
   "metadata": {},
   "source": [
    "Representation of [`cairo_matrix_t`](https://www.cairographics.org/manual/cairo-cairo-matrix-t.html#cairo-matrix-t) (also add a `__repr__` for easy debugging):"
   ]
  },
  {
   "cell_type": "code",
   "execution_count": null,
   "metadata": {},
   "outputs": [],
   "source": [
    "class matrix_t(ct.Structure) :\n",
    "    _fields_ = \\\n",
    "        [\n",
    "            (\"xx\", ct.c_double),\n",
    "            (\"yx\", ct.c_double),\n",
    "            (\"xy\", ct.c_double),\n",
    "            (\"yy\", ct.c_double),\n",
    "            (\"x0\", ct.c_double),\n",
    "            (\"y0\", ct.c_double),\n",
    "        ]\n",
    "\n",
    "    def __repr__(self) :\n",
    "        return \"[\" + \", \".join(repr(getattr(self, f[0])) for f in matrix_t._fields_) + \"]\"\n",
    "    #end __repr__\n",
    "#end matrix_t"
   ]
  },
  {
   "cell_type": "markdown",
   "metadata": {},
   "source": [
    "Define routine prototypes, e.g."
   ]
  },
  {
   "cell_type": "code",
   "execution_count": null,
   "metadata": {},
   "outputs": [],
   "source": [
    "cairo.cairo_matrix_init_identity.restype = None\n",
    "cairo.cairo_matrix_init_identity.argtypes = (ct.POINTER(matrix_t),)"
   ]
  },
  {
   "cell_type": "markdown",
   "metadata": {},
   "source": [
    "Example creation of C object:"
   ]
  },
  {
   "cell_type": "code",
   "execution_count": null,
   "metadata": {},
   "outputs": [],
   "source": [
    "m = matrix_t()\n",
    "m"
   ]
  },
  {
   "cell_type": "markdown",
   "metadata": {},
   "source": [
    "Pass to library routine and observe result:"
   ]
  },
  {
   "cell_type": "code",
   "execution_count": null,
   "metadata": {},
   "outputs": [],
   "source": [
    "cairo.cairo_matrix_init_identity(ct.byref(m))\n",
    "m"
   ]
  },
  {
   "cell_type": "markdown",
   "metadata": {},
   "source": [
    "Try another routine:"
   ]
  },
  {
   "cell_type": "code",
   "execution_count": null,
   "metadata": {},
   "outputs": [],
   "source": [
    "cairo.cairo_matrix_scale.restype = None\n",
    "cairo.cairo_matrix_scale.argtypes = (ct.POINTER(matrix_t), ct.c_double, ct.c_double)\n"
   ]
  },
  {
   "cell_type": "code",
   "execution_count": null,
   "metadata": {},
   "outputs": [],
   "source": [
    "cairo.cairo_matrix_scale(m, 3, 2)\n",
    "m"
   ]
  },
  {
   "cell_type": "markdown",
   "metadata": {},
   "source": [
    "Note how you could pass straight Python numeric expressions for `c_double` args; conversion for such simple types is automatic."
   ]
  },
  {
   "cell_type": "code",
   "execution_count": null,
   "metadata": {},
   "outputs": [],
   "source": [
    "libc = ct.cdll.LoadLibrary(\"libc.so.6\")\n",
    "\n",
    "class FILE(ct.Structure) :\n",
    "    _fields_ = []\n",
    "#end FILE\n",
    "\n",
    "stderr = ct.POINTER(FILE).in_dll(libc, \"stderr\")\n",
    "\n",
    "\n",
    "libc.fprintf.argtypes = (ct.POINTER(FILE), ct.c_char_p,)"
   ]
  },
  {
   "cell_type": "code",
   "execution_count": null,
   "metadata": {},
   "outputs": [],
   "source": [
    "libc.fprintf(stderr, \"hello, world!\".encode())"
   ]
  },
  {
   "cell_type": "code",
   "execution_count": null,
   "metadata": {},
   "outputs": [],
   "source": []
  }
 ],
 "metadata": {
  "kernelspec": {
   "display_name": "Python 3",
   "language": "python",
   "name": "python3"
  },
  "language_info": {
   "codemirror_mode": {
    "name": "ipython",
    "version": 3
   },
   "file_extension": ".py",
   "mimetype": "text/x-python",
   "name": "python",
   "nbconvert_exporter": "python",
   "pygments_lexer": "ipython3",
   "version": "3.9.2"
  }
 },
 "nbformat": 4,
 "nbformat_minor": 2
}
